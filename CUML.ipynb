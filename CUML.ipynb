{
 "cells": [
  {
   "cell_type": "markdown",
   "metadata": {},
   "source": [
    "## Sckikit-Learn"
   ]
  },
  {
   "cell_type": "code",
   "execution_count": 5,
   "metadata": {},
   "outputs": [
    {
     "name": "stdout",
     "output_type": "stream",
     "text": [
      "CPU times: user 0 ns, sys: 3 µs, total: 3 µs\n",
      "Wall time: 5.96 µs\n"
     ]
    }
   ],
   "source": [
    "from sklearn.datasets import make_blobs\n",
    "from sklearn.cluster import KMeans\n",
    "\n",
    "X, _ = make_blobs(n_samples=100000)\n",
    "\n",
    "k_means = KMeans(n_clusters = 10)\n",
    "k_means.fit(X)\n",
    "\n",
    "labels = k_means.predict(X)\n",
    "%time"
   ]
  },
  {
   "cell_type": "markdown",
   "metadata": {},
   "source": [
    "## Sigle-GPU cuML"
   ]
  },
  {
   "cell_type": "code",
   "execution_count": 6,
   "metadata": {},
   "outputs": [
    {
     "name": "stdout",
     "output_type": "stream",
     "text": [
      "CPU times: user 1e+03 ns, sys: 0 ns, total: 1e+03 ns\n",
      "Wall time: 3.81 µs\n"
     ]
    }
   ],
   "source": [
    "from cuml.cluster import KMeans\n",
    "from cuml.datasets import make_blobs\n",
    "\n",
    "X, _ = make_blobs(n_samples=100000)\n",
    "\n",
    "k_means = KMeans(n_clusters=10)\n",
    "k_means.fit(X)\n",
    "\n",
    "labels = k_means.predict(X)\n",
    "%time"
   ]
  },
  {
   "cell_type": "markdown",
   "metadata": {},
   "source": [
    "## Dask-ML"
   ]
  },
  {
   "cell_type": "code",
   "execution_count": 7,
   "metadata": {},
   "outputs": [
    {
     "name": "stdout",
     "output_type": "stream",
     "text": [
      "CPU times: user 2 µs, sys: 0 ns, total: 2 µs\n",
      "Wall time: 4.29 µs\n"
     ]
    }
   ],
   "source": [
    "from dask_ml.cluster import KMeans\n",
    "from sklearn.datasets import make_blobs\n",
    "\n",
    "from dask.distributed import Client\n",
    "c = Client(\"tcp://127.0.0.1:33285\")\n",
    "\n",
    "X, _ = make_blobs(n_samples=100000)\n",
    "\n",
    "k_means = KMeans(n_clusters=10)\n",
    "k_means.fit(X)\n",
    "\n",
    "labels = k_means.predict(X)\n",
    "%time"
   ]
  },
  {
   "cell_type": "markdown",
   "metadata": {},
   "source": [
    "## Dask + cuML"
   ]
  },
  {
   "cell_type": "code",
   "execution_count": 8,
   "metadata": {},
   "outputs": [
    {
     "name": "stdout",
     "output_type": "stream",
     "text": [
      "CPU times: user 2 µs, sys: 0 ns, total: 2 µs\n",
      "Wall time: 4.05 µs\n"
     ]
    }
   ],
   "source": [
    "from cuml.dask.cluster import KMeans\n",
    "from cuml.dask.datasets import make_blobs\n",
    "\n",
    "from dask.distributed import Client\n",
    "c = Client(\"tcp://127.0.0.1:33285\")\n",
    "\n",
    "X, _ = make_blobs(nrows=100000, ncols=2)\n",
    "\n",
    "k_means = KMeans(n_clusters=10)\n",
    "k_means.fit(X)\n",
    "\n",
    "labels = k_means.predict(X)\n",
    "%time"
   ]
  },
  {
   "cell_type": "code",
   "execution_count": null,
   "metadata": {},
   "outputs": [],
   "source": []
  }
 ],
 "metadata": {
  "kernelspec": {
   "display_name": "Python 3",
   "language": "python",
   "name": "python3"
  },
  "language_info": {
   "codemirror_mode": {
    "name": "ipython",
    "version": 3
   },
   "file_extension": ".py",
   "mimetype": "text/x-python",
   "name": "python",
   "nbconvert_exporter": "python",
   "pygments_lexer": "ipython3",
   "version": "3.7.6"
  }
 },
 "nbformat": 4,
 "nbformat_minor": 4
}
