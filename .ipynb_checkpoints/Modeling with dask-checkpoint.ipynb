{
 "cells": [
  {
   "cell_type": "markdown",
   "metadata": {},
   "source": [
    "# Clustering Client"
   ]
  },
  {
   "cell_type": "code",
   "execution_count": 1,
   "metadata": {},
   "outputs": [
    {
     "data": {
      "text/html": [
       "<table style=\"border: 2px solid white;\">\n",
       "<tr>\n",
       "<td style=\"vertical-align: top; border: 0px solid white\">\n",
       "<h3 style=\"text-align: left;\">Client</h3>\n",
       "<ul style=\"text-align: left; list-style: none; margin: 0; padding: 0;\">\n",
       "  <li><b>Scheduler: </b>tcp://127.0.0.1:53983</li>\n",
       "  <li><b>Dashboard: </b><a href='http://127.0.0.1:53984/status' target='_blank'>http://127.0.0.1:53984/status</a>\n",
       "</ul>\n",
       "</td>\n",
       "<td style=\"vertical-align: top; border: 0px solid white\">\n",
       "<h3 style=\"text-align: left;\">Cluster</h3>\n",
       "<ul style=\"text-align: left; list-style:none; margin: 0; padding: 0;\">\n",
       "  <li><b>Workers: </b>4</li>\n",
       "  <li><b>Cores: </b>16</li>\n",
       "  <li><b>Memory: </b>34.27 GB</li>\n",
       "</ul>\n",
       "</td>\n",
       "</tr>\n",
       "</table>"
      ],
      "text/plain": [
       "<Client: 'tcp://127.0.0.1:53983' processes=4 threads=16, memory=34.27 GB>"
      ]
     },
     "execution_count": 1,
     "metadata": {},
     "output_type": "execute_result"
    }
   ],
   "source": [
    "from dask.distributed import Client\n",
    "\n",
    "client = Client(\"tcp://127.0.0.1:53983\")\n",
    "client"
   ]
  },
  {
   "cell_type": "code",
   "execution_count": 2,
   "metadata": {},
   "outputs": [],
   "source": [
    "import dask.array as da\n",
    "import dask.dataframe as dd\n",
    "import pandas as pd\n",
    "import numpy as np\n",
    "from sklearn.cluster import KMeans\n",
    "from sklearn.cluster import AgglomerativeClustering\n",
    "from sklearn.cluster import DBSCAN\n",
    "from sklearn.metrics import silhouette_score\n",
    "from sklearn import decomposition\n",
    "from sklearn import manifold\n",
    "from dask_ml import preprocessing\n",
    "\n",
    "import seaborn as sns\n",
    "import matplotlib.pyplot as plt\n",
    "sns.set_style(\"whitegrid\")\n",
    "%matplotlib inline"
   ]
  },
  {
   "cell_type": "markdown",
   "metadata": {},
   "source": [
    "## 1 - Import des jeux de données"
   ]
  },
  {
   "cell_type": "code",
   "execution_count": 3,
   "metadata": {},
   "outputs": [],
   "source": [
    "data_3_months = dd.read_csv(\"data/clean/data_3_months.csv\", parse_dates=[\"order_purchase_timestamp\"])\n",
    "data_6_months = dd.read_csv(\"data/clean/data_6_months.csv\", parse_dates=[\"order_purchase_timestamp\"])\n",
    "data_9_months = dd.read_csv(\"data/clean/data_9_months.csv\", parse_dates=[\"order_purchase_timestamp\"])\n",
    "data_12_months = dd.read_csv(\"data/clean/data_12_months.csv\", parse_dates=[\"order_purchase_timestamp\"])\n",
    "data_all = dd.read_csv(\"data/clean/data_all.csv\", parse_dates=[\"order_purchase_timestamp\"])"
   ]
  },
  {
   "cell_type": "markdown",
   "metadata": {},
   "source": [
    "## 2 - Features engineering"
   ]
  },
  {
   "cell_type": "code",
   "execution_count": 4,
   "metadata": {},
   "outputs": [],
   "source": [
    "def review(df):\n",
    "    grouped = df.groupby(\"customer_unique_id\").agg({\"review_score\": [\"count\", \"min\", \"max\", \"mean\"]})\n",
    "    grouped.columns = [\"_\".join(x) for x in grouped.columns.ravel()]\n",
    "    return grouped\n",
    "\n",
    "def value(df):\n",
    "    grouped = df.groupby(\"customer_unique_id\").agg({\n",
    "        \"payment_value\": [\"mean\", \"min\", \"max\"]})\n",
    "    grouped.columns = [\"_\".join(x) for x in grouped.columns.ravel()]\n",
    "    return grouped\n",
    "\n",
    "def payment_facility(df):\n",
    "    df_pf = df.groupby(\"customer_unique_id\").agg({\n",
    "        \"payment_installments\": \"sum\"\n",
    "    })\n",
    "    cond_mask = (df_pf[\"payment_installments\"] > 1)\n",
    "\n",
    "    df_pf[\"payment_installments\"] = df_pf[\"payment_installments\"].mask(cond=cond_mask, other=0)\n",
    "    df_pf = df_pf.rename(columns={\"payment_installments\": \"payment_facility\"})\n",
    "    return df_pf\n",
    "\n",
    "def category_transf(df):\n",
    "    df_ct = dd.get_dummies(df[[\"product_category_name\", \"customer_unique_id\"]].categorize(), columns=['product_category_name'], prefix=\"PCat\").groupby(['customer_unique_id']).sum()\n",
    "    return df_ct\n",
    "\n",
    "def state(df):\n",
    "    df_state = dd.get_dummies(df[[\"customer_state\", \"customer_unique_id\"]].categorize(), columns=[\"customer_state\"], prefix=\"CState\").groupby([\"customer_unique_id\"]).sum()\n",
    "    return df_state\n",
    "\n",
    "def payment(df):\n",
    "    df_p = dd.get_dummies(df[[\"payment_type\", \"customer_unique_id\"]].categorize(), columns=['payment_type'], prefix=\"PType\").groupby(['customer_unique_id']).sum()\n",
    "    return df_p\n",
    "\n",
    "def rfm(df):\n",
    "    df = df.compute()\n",
    "    return df.groupby(\"customer_unique_id\").agg(\n",
    "        recency=(\"order_purchase_timestamp\", lambda date: (df[\"order_purchase_timestamp\"].max() - date.max()).days),\n",
    "        frequency=(\"order_id\", \"count\"),\n",
    "        monetary=(\"payment_value\", sum))\n",
    "\n",
    "def features_engineering(df):\n",
    "    df_fe = dd.merge(rfm(df), value(df))\n",
    "    df_fe = dd.merge(df_fe, review(df))\n",
    "    df_fe = dd.merge(df_fe, payment(df))\n",
    "    df_fe = dd.merge(df_fe, state(df))\n",
    "    df_fe = dd.merge(df_fe, category_transf(df))\n",
    "    df_fe = dd.merge(df_fe, payment_facility(df))\n",
    "    return df_fe"
   ]
  },
  {
   "cell_type": "code",
   "execution_count": 5,
   "metadata": {},
   "outputs": [
    {
     "data": {
      "text/html": [
       "<div>\n",
       "<style scoped>\n",
       "    .dataframe tbody tr th:only-of-type {\n",
       "        vertical-align: middle;\n",
       "    }\n",
       "\n",
       "    .dataframe tbody tr th {\n",
       "        vertical-align: top;\n",
       "    }\n",
       "\n",
       "    .dataframe thead th {\n",
       "        text-align: right;\n",
       "    }\n",
       "</style>\n",
       "<table border=\"1\" class=\"dataframe\">\n",
       "  <thead>\n",
       "    <tr style=\"text-align: right;\">\n",
       "      <th></th>\n",
       "      <th>recency</th>\n",
       "      <th>frequency</th>\n",
       "      <th>monetary</th>\n",
       "      <th>payment_value_mean</th>\n",
       "      <th>payment_value_min</th>\n",
       "      <th>payment_value_max</th>\n",
       "      <th>review_score_count</th>\n",
       "      <th>review_score_min</th>\n",
       "      <th>review_score_max</th>\n",
       "      <th>review_score_mean</th>\n",
       "      <th>...</th>\n",
       "      <th>PCat_fashion_underwear_beach</th>\n",
       "      <th>PCat_books_technical</th>\n",
       "      <th>PCat_dvds_blu_ray</th>\n",
       "      <th>PCat_security_and_services</th>\n",
       "      <th>PCat_tablets_printing_image</th>\n",
       "      <th>PCat_furniture_bedroom</th>\n",
       "      <th>PCat_cine_photo</th>\n",
       "      <th>PCat_fashio_female_clothing</th>\n",
       "      <th>PCat_books_imported</th>\n",
       "      <th>payment_facility</th>\n",
       "    </tr>\n",
       "    <tr>\n",
       "      <th>customer_unique_id</th>\n",
       "      <th></th>\n",
       "      <th></th>\n",
       "      <th></th>\n",
       "      <th></th>\n",
       "      <th></th>\n",
       "      <th></th>\n",
       "      <th></th>\n",
       "      <th></th>\n",
       "      <th></th>\n",
       "      <th></th>\n",
       "      <th></th>\n",
       "      <th></th>\n",
       "      <th></th>\n",
       "      <th></th>\n",
       "      <th></th>\n",
       "      <th></th>\n",
       "      <th></th>\n",
       "      <th></th>\n",
       "      <th></th>\n",
       "      <th></th>\n",
       "      <th></th>\n",
       "    </tr>\n",
       "  </thead>\n",
       "  <tbody>\n",
       "    <tr>\n",
       "      <td>0000f46a3911fa3c0805444483337064</td>\n",
       "      <td>20</td>\n",
       "      <td>1</td>\n",
       "      <td>86.22</td>\n",
       "      <td>86.22</td>\n",
       "      <td>86.22</td>\n",
       "      <td>86.22</td>\n",
       "      <td>1</td>\n",
       "      <td>3</td>\n",
       "      <td>3</td>\n",
       "      <td>3.0</td>\n",
       "      <td>...</td>\n",
       "      <td>0</td>\n",
       "      <td>0</td>\n",
       "      <td>0</td>\n",
       "      <td>0</td>\n",
       "      <td>0</td>\n",
       "      <td>0</td>\n",
       "      <td>0</td>\n",
       "      <td>0</td>\n",
       "      <td>0</td>\n",
       "      <td>0</td>\n",
       "    </tr>\n",
       "    <tr>\n",
       "      <td>0005e1862207bf6ccc02e4228effd9a0</td>\n",
       "      <td>26</td>\n",
       "      <td>1</td>\n",
       "      <td>150.12</td>\n",
       "      <td>150.12</td>\n",
       "      <td>150.12</td>\n",
       "      <td>150.12</td>\n",
       "      <td>1</td>\n",
       "      <td>4</td>\n",
       "      <td>4</td>\n",
       "      <td>4.0</td>\n",
       "      <td>...</td>\n",
       "      <td>0</td>\n",
       "      <td>0</td>\n",
       "      <td>0</td>\n",
       "      <td>0</td>\n",
       "      <td>0</td>\n",
       "      <td>0</td>\n",
       "      <td>0</td>\n",
       "      <td>0</td>\n",
       "      <td>0</td>\n",
       "      <td>0</td>\n",
       "    </tr>\n",
       "    <tr>\n",
       "      <td>00115fc7123b5310cf6d3a3aa932699e</td>\n",
       "      <td>68</td>\n",
       "      <td>1</td>\n",
       "      <td>76.11</td>\n",
       "      <td>76.11</td>\n",
       "      <td>76.11</td>\n",
       "      <td>76.11</td>\n",
       "      <td>1</td>\n",
       "      <td>4</td>\n",
       "      <td>4</td>\n",
       "      <td>4.0</td>\n",
       "      <td>...</td>\n",
       "      <td>0</td>\n",
       "      <td>0</td>\n",
       "      <td>0</td>\n",
       "      <td>0</td>\n",
       "      <td>0</td>\n",
       "      <td>0</td>\n",
       "      <td>0</td>\n",
       "      <td>0</td>\n",
       "      <td>0</td>\n",
       "      <td>1</td>\n",
       "    </tr>\n",
       "    <tr>\n",
       "      <td>001f3c4211216384d5fe59b041ce1461</td>\n",
       "      <td>11</td>\n",
       "      <td>1</td>\n",
       "      <td>35.84</td>\n",
       "      <td>35.84</td>\n",
       "      <td>35.84</td>\n",
       "      <td>35.84</td>\n",
       "      <td>1</td>\n",
       "      <td>3</td>\n",
       "      <td>3</td>\n",
       "      <td>3.0</td>\n",
       "      <td>...</td>\n",
       "      <td>0</td>\n",
       "      <td>0</td>\n",
       "      <td>0</td>\n",
       "      <td>0</td>\n",
       "      <td>0</td>\n",
       "      <td>0</td>\n",
       "      <td>0</td>\n",
       "      <td>0</td>\n",
       "      <td>0</td>\n",
       "      <td>0</td>\n",
       "    </tr>\n",
       "    <tr>\n",
       "      <td>002043098f10ba39a4600b6c52fbfe3c</td>\n",
       "      <td>4</td>\n",
       "      <td>1</td>\n",
       "      <td>237.81</td>\n",
       "      <td>237.81</td>\n",
       "      <td>237.81</td>\n",
       "      <td>237.81</td>\n",
       "      <td>1</td>\n",
       "      <td>4</td>\n",
       "      <td>4</td>\n",
       "      <td>4.0</td>\n",
       "      <td>...</td>\n",
       "      <td>0</td>\n",
       "      <td>0</td>\n",
       "      <td>0</td>\n",
       "      <td>0</td>\n",
       "      <td>0</td>\n",
       "      <td>0</td>\n",
       "      <td>0</td>\n",
       "      <td>0</td>\n",
       "      <td>0</td>\n",
       "      <td>0</td>\n",
       "    </tr>\n",
       "  </tbody>\n",
       "</table>\n",
       "<p>5 rows × 101 columns</p>\n",
       "</div>"
      ],
      "text/plain": [
       "                                  recency  frequency  monetary  \\\n",
       "customer_unique_id                                               \n",
       "0000f46a3911fa3c0805444483337064       20          1     86.22   \n",
       "0005e1862207bf6ccc02e4228effd9a0       26          1    150.12   \n",
       "00115fc7123b5310cf6d3a3aa932699e       68          1     76.11   \n",
       "001f3c4211216384d5fe59b041ce1461       11          1     35.84   \n",
       "002043098f10ba39a4600b6c52fbfe3c        4          1    237.81   \n",
       "\n",
       "                                  payment_value_mean  payment_value_min  \\\n",
       "customer_unique_id                                                        \n",
       "0000f46a3911fa3c0805444483337064               86.22              86.22   \n",
       "0005e1862207bf6ccc02e4228effd9a0              150.12             150.12   \n",
       "00115fc7123b5310cf6d3a3aa932699e               76.11              76.11   \n",
       "001f3c4211216384d5fe59b041ce1461               35.84              35.84   \n",
       "002043098f10ba39a4600b6c52fbfe3c              237.81             237.81   \n",
       "\n",
       "                                  payment_value_max  review_score_count  \\\n",
       "customer_unique_id                                                        \n",
       "0000f46a3911fa3c0805444483337064              86.22                   1   \n",
       "0005e1862207bf6ccc02e4228effd9a0             150.12                   1   \n",
       "00115fc7123b5310cf6d3a3aa932699e              76.11                   1   \n",
       "001f3c4211216384d5fe59b041ce1461              35.84                   1   \n",
       "002043098f10ba39a4600b6c52fbfe3c             237.81                   1   \n",
       "\n",
       "                                  review_score_min  review_score_max  \\\n",
       "customer_unique_id                                                     \n",
       "0000f46a3911fa3c0805444483337064                 3                 3   \n",
       "0005e1862207bf6ccc02e4228effd9a0                 4                 4   \n",
       "00115fc7123b5310cf6d3a3aa932699e                 4                 4   \n",
       "001f3c4211216384d5fe59b041ce1461                 3                 3   \n",
       "002043098f10ba39a4600b6c52fbfe3c                 4                 4   \n",
       "\n",
       "                                  review_score_mean  ...  \\\n",
       "customer_unique_id                                   ...   \n",
       "0000f46a3911fa3c0805444483337064                3.0  ...   \n",
       "0005e1862207bf6ccc02e4228effd9a0                4.0  ...   \n",
       "00115fc7123b5310cf6d3a3aa932699e                4.0  ...   \n",
       "001f3c4211216384d5fe59b041ce1461                3.0  ...   \n",
       "002043098f10ba39a4600b6c52fbfe3c                4.0  ...   \n",
       "\n",
       "                                  PCat_fashion_underwear_beach  \\\n",
       "customer_unique_id                                               \n",
       "0000f46a3911fa3c0805444483337064                             0   \n",
       "0005e1862207bf6ccc02e4228effd9a0                             0   \n",
       "00115fc7123b5310cf6d3a3aa932699e                             0   \n",
       "001f3c4211216384d5fe59b041ce1461                             0   \n",
       "002043098f10ba39a4600b6c52fbfe3c                             0   \n",
       "\n",
       "                                  PCat_books_technical  PCat_dvds_blu_ray  \\\n",
       "customer_unique_id                                                          \n",
       "0000f46a3911fa3c0805444483337064                     0                  0   \n",
       "0005e1862207bf6ccc02e4228effd9a0                     0                  0   \n",
       "00115fc7123b5310cf6d3a3aa932699e                     0                  0   \n",
       "001f3c4211216384d5fe59b041ce1461                     0                  0   \n",
       "002043098f10ba39a4600b6c52fbfe3c                     0                  0   \n",
       "\n",
       "                                  PCat_security_and_services  \\\n",
       "customer_unique_id                                             \n",
       "0000f46a3911fa3c0805444483337064                           0   \n",
       "0005e1862207bf6ccc02e4228effd9a0                           0   \n",
       "00115fc7123b5310cf6d3a3aa932699e                           0   \n",
       "001f3c4211216384d5fe59b041ce1461                           0   \n",
       "002043098f10ba39a4600b6c52fbfe3c                           0   \n",
       "\n",
       "                                  PCat_tablets_printing_image  \\\n",
       "customer_unique_id                                              \n",
       "0000f46a3911fa3c0805444483337064                            0   \n",
       "0005e1862207bf6ccc02e4228effd9a0                            0   \n",
       "00115fc7123b5310cf6d3a3aa932699e                            0   \n",
       "001f3c4211216384d5fe59b041ce1461                            0   \n",
       "002043098f10ba39a4600b6c52fbfe3c                            0   \n",
       "\n",
       "                                  PCat_furniture_bedroom  PCat_cine_photo  \\\n",
       "customer_unique_id                                                          \n",
       "0000f46a3911fa3c0805444483337064                       0                0   \n",
       "0005e1862207bf6ccc02e4228effd9a0                       0                0   \n",
       "00115fc7123b5310cf6d3a3aa932699e                       0                0   \n",
       "001f3c4211216384d5fe59b041ce1461                       0                0   \n",
       "002043098f10ba39a4600b6c52fbfe3c                       0                0   \n",
       "\n",
       "                                  PCat_fashio_female_clothing  \\\n",
       "customer_unique_id                                              \n",
       "0000f46a3911fa3c0805444483337064                            0   \n",
       "0005e1862207bf6ccc02e4228effd9a0                            0   \n",
       "00115fc7123b5310cf6d3a3aa932699e                            0   \n",
       "001f3c4211216384d5fe59b041ce1461                            0   \n",
       "002043098f10ba39a4600b6c52fbfe3c                            0   \n",
       "\n",
       "                                  PCat_books_imported  payment_facility  \n",
       "customer_unique_id                                                       \n",
       "0000f46a3911fa3c0805444483337064                    0                 0  \n",
       "0005e1862207bf6ccc02e4228effd9a0                    0                 0  \n",
       "00115fc7123b5310cf6d3a3aa932699e                    0                 1  \n",
       "001f3c4211216384d5fe59b041ce1461                    0                 0  \n",
       "002043098f10ba39a4600b6c52fbfe3c                    0                 0  \n",
       "\n",
       "[5 rows x 101 columns]"
      ]
     },
     "execution_count": 5,
     "metadata": {},
     "output_type": "execute_result"
    }
   ],
   "source": [
    "data_3_months_fe = features_engineering(data_3_months).compute()\n",
    "data_3_months_fe.head()"
   ]
  },
  {
   "cell_type": "code",
   "execution_count": 6,
   "metadata": {},
   "outputs": [
    {
     "data": {
      "text/html": [
       "<div>\n",
       "<style scoped>\n",
       "    .dataframe tbody tr th:only-of-type {\n",
       "        vertical-align: middle;\n",
       "    }\n",
       "\n",
       "    .dataframe tbody tr th {\n",
       "        vertical-align: top;\n",
       "    }\n",
       "\n",
       "    .dataframe thead th {\n",
       "        text-align: right;\n",
       "    }\n",
       "</style>\n",
       "<table border=\"1\" class=\"dataframe\">\n",
       "  <thead>\n",
       "    <tr style=\"text-align: right;\">\n",
       "      <th></th>\n",
       "      <th>recency</th>\n",
       "      <th>frequency</th>\n",
       "      <th>monetary</th>\n",
       "      <th>payment_value_mean</th>\n",
       "      <th>payment_value_min</th>\n",
       "      <th>payment_value_max</th>\n",
       "      <th>review_score_count</th>\n",
       "      <th>review_score_min</th>\n",
       "      <th>review_score_max</th>\n",
       "      <th>review_score_mean</th>\n",
       "      <th>...</th>\n",
       "      <th>PCat_books_technical</th>\n",
       "      <th>PCat_dvds_blu_ray</th>\n",
       "      <th>PCat_security_and_services</th>\n",
       "      <th>PCat_tablets_printing_image</th>\n",
       "      <th>PCat_furniture_bedroom</th>\n",
       "      <th>PCat_cine_photo</th>\n",
       "      <th>PCat_fashio_female_clothing</th>\n",
       "      <th>PCat_books_imported</th>\n",
       "      <th>PCat_la_cuisine</th>\n",
       "      <th>payment_facility</th>\n",
       "    </tr>\n",
       "    <tr>\n",
       "      <th>customer_unique_id</th>\n",
       "      <th></th>\n",
       "      <th></th>\n",
       "      <th></th>\n",
       "      <th></th>\n",
       "      <th></th>\n",
       "      <th></th>\n",
       "      <th></th>\n",
       "      <th></th>\n",
       "      <th></th>\n",
       "      <th></th>\n",
       "      <th></th>\n",
       "      <th></th>\n",
       "      <th></th>\n",
       "      <th></th>\n",
       "      <th></th>\n",
       "      <th></th>\n",
       "      <th></th>\n",
       "      <th></th>\n",
       "      <th></th>\n",
       "      <th></th>\n",
       "      <th></th>\n",
       "    </tr>\n",
       "  </thead>\n",
       "  <tbody>\n",
       "    <tr>\n",
       "      <td>0000f46a3911fa3c0805444483337064</td>\n",
       "      <td>111</td>\n",
       "      <td>1</td>\n",
       "      <td>86.22</td>\n",
       "      <td>86.22</td>\n",
       "      <td>86.22</td>\n",
       "      <td>86.22</td>\n",
       "      <td>1</td>\n",
       "      <td>3</td>\n",
       "      <td>3</td>\n",
       "      <td>3.0</td>\n",
       "      <td>...</td>\n",
       "      <td>0</td>\n",
       "      <td>0</td>\n",
       "      <td>0</td>\n",
       "      <td>0</td>\n",
       "      <td>0</td>\n",
       "      <td>0</td>\n",
       "      <td>0</td>\n",
       "      <td>0</td>\n",
       "      <td>0</td>\n",
       "      <td>0</td>\n",
       "    </tr>\n",
       "    <tr>\n",
       "      <td>0005e1862207bf6ccc02e4228effd9a0</td>\n",
       "      <td>116</td>\n",
       "      <td>1</td>\n",
       "      <td>150.12</td>\n",
       "      <td>150.12</td>\n",
       "      <td>150.12</td>\n",
       "      <td>150.12</td>\n",
       "      <td>1</td>\n",
       "      <td>4</td>\n",
       "      <td>4</td>\n",
       "      <td>4.0</td>\n",
       "      <td>...</td>\n",
       "      <td>0</td>\n",
       "      <td>0</td>\n",
       "      <td>0</td>\n",
       "      <td>0</td>\n",
       "      <td>0</td>\n",
       "      <td>0</td>\n",
       "      <td>0</td>\n",
       "      <td>0</td>\n",
       "      <td>0</td>\n",
       "      <td>0</td>\n",
       "    </tr>\n",
       "    <tr>\n",
       "      <td>00115fc7123b5310cf6d3a3aa932699e</td>\n",
       "      <td>159</td>\n",
       "      <td>1</td>\n",
       "      <td>76.11</td>\n",
       "      <td>76.11</td>\n",
       "      <td>76.11</td>\n",
       "      <td>76.11</td>\n",
       "      <td>1</td>\n",
       "      <td>4</td>\n",
       "      <td>4</td>\n",
       "      <td>4.0</td>\n",
       "      <td>...</td>\n",
       "      <td>0</td>\n",
       "      <td>0</td>\n",
       "      <td>0</td>\n",
       "      <td>0</td>\n",
       "      <td>0</td>\n",
       "      <td>0</td>\n",
       "      <td>0</td>\n",
       "      <td>0</td>\n",
       "      <td>0</td>\n",
       "      <td>1</td>\n",
       "    </tr>\n",
       "    <tr>\n",
       "      <td>0011805441c0d1b68b48002f1d005526</td>\n",
       "      <td>66</td>\n",
       "      <td>1</td>\n",
       "      <td>297.14</td>\n",
       "      <td>297.14</td>\n",
       "      <td>297.14</td>\n",
       "      <td>297.14</td>\n",
       "      <td>1</td>\n",
       "      <td>3</td>\n",
       "      <td>3</td>\n",
       "      <td>3.0</td>\n",
       "      <td>...</td>\n",
       "      <td>0</td>\n",
       "      <td>0</td>\n",
       "      <td>0</td>\n",
       "      <td>0</td>\n",
       "      <td>0</td>\n",
       "      <td>0</td>\n",
       "      <td>0</td>\n",
       "      <td>0</td>\n",
       "      <td>0</td>\n",
       "      <td>0</td>\n",
       "    </tr>\n",
       "    <tr>\n",
       "      <td>0011857aff0e5871ce5eb429f21cdaf5</td>\n",
       "      <td>1</td>\n",
       "      <td>1</td>\n",
       "      <td>192.83</td>\n",
       "      <td>192.83</td>\n",
       "      <td>192.83</td>\n",
       "      <td>192.83</td>\n",
       "      <td>1</td>\n",
       "      <td>5</td>\n",
       "      <td>5</td>\n",
       "      <td>5.0</td>\n",
       "      <td>...</td>\n",
       "      <td>0</td>\n",
       "      <td>0</td>\n",
       "      <td>0</td>\n",
       "      <td>0</td>\n",
       "      <td>0</td>\n",
       "      <td>0</td>\n",
       "      <td>0</td>\n",
       "      <td>0</td>\n",
       "      <td>0</td>\n",
       "      <td>0</td>\n",
       "    </tr>\n",
       "  </tbody>\n",
       "</table>\n",
       "<p>5 rows × 107 columns</p>\n",
       "</div>"
      ],
      "text/plain": [
       "                                  recency  frequency  monetary  \\\n",
       "customer_unique_id                                               \n",
       "0000f46a3911fa3c0805444483337064      111          1     86.22   \n",
       "0005e1862207bf6ccc02e4228effd9a0      116          1    150.12   \n",
       "00115fc7123b5310cf6d3a3aa932699e      159          1     76.11   \n",
       "0011805441c0d1b68b48002f1d005526       66          1    297.14   \n",
       "0011857aff0e5871ce5eb429f21cdaf5        1          1    192.83   \n",
       "\n",
       "                                  payment_value_mean  payment_value_min  \\\n",
       "customer_unique_id                                                        \n",
       "0000f46a3911fa3c0805444483337064               86.22              86.22   \n",
       "0005e1862207bf6ccc02e4228effd9a0              150.12             150.12   \n",
       "00115fc7123b5310cf6d3a3aa932699e               76.11              76.11   \n",
       "0011805441c0d1b68b48002f1d005526              297.14             297.14   \n",
       "0011857aff0e5871ce5eb429f21cdaf5              192.83             192.83   \n",
       "\n",
       "                                  payment_value_max  review_score_count  \\\n",
       "customer_unique_id                                                        \n",
       "0000f46a3911fa3c0805444483337064              86.22                   1   \n",
       "0005e1862207bf6ccc02e4228effd9a0             150.12                   1   \n",
       "00115fc7123b5310cf6d3a3aa932699e              76.11                   1   \n",
       "0011805441c0d1b68b48002f1d005526             297.14                   1   \n",
       "0011857aff0e5871ce5eb429f21cdaf5             192.83                   1   \n",
       "\n",
       "                                  review_score_min  review_score_max  \\\n",
       "customer_unique_id                                                     \n",
       "0000f46a3911fa3c0805444483337064                 3                 3   \n",
       "0005e1862207bf6ccc02e4228effd9a0                 4                 4   \n",
       "00115fc7123b5310cf6d3a3aa932699e                 4                 4   \n",
       "0011805441c0d1b68b48002f1d005526                 3                 3   \n",
       "0011857aff0e5871ce5eb429f21cdaf5                 5                 5   \n",
       "\n",
       "                                  review_score_mean  ...  \\\n",
       "customer_unique_id                                   ...   \n",
       "0000f46a3911fa3c0805444483337064                3.0  ...   \n",
       "0005e1862207bf6ccc02e4228effd9a0                4.0  ...   \n",
       "00115fc7123b5310cf6d3a3aa932699e                4.0  ...   \n",
       "0011805441c0d1b68b48002f1d005526                3.0  ...   \n",
       "0011857aff0e5871ce5eb429f21cdaf5                5.0  ...   \n",
       "\n",
       "                                  PCat_books_technical  PCat_dvds_blu_ray  \\\n",
       "customer_unique_id                                                          \n",
       "0000f46a3911fa3c0805444483337064                     0                  0   \n",
       "0005e1862207bf6ccc02e4228effd9a0                     0                  0   \n",
       "00115fc7123b5310cf6d3a3aa932699e                     0                  0   \n",
       "0011805441c0d1b68b48002f1d005526                     0                  0   \n",
       "0011857aff0e5871ce5eb429f21cdaf5                     0                  0   \n",
       "\n",
       "                                  PCat_security_and_services  \\\n",
       "customer_unique_id                                             \n",
       "0000f46a3911fa3c0805444483337064                           0   \n",
       "0005e1862207bf6ccc02e4228effd9a0                           0   \n",
       "00115fc7123b5310cf6d3a3aa932699e                           0   \n",
       "0011805441c0d1b68b48002f1d005526                           0   \n",
       "0011857aff0e5871ce5eb429f21cdaf5                           0   \n",
       "\n",
       "                                  PCat_tablets_printing_image  \\\n",
       "customer_unique_id                                              \n",
       "0000f46a3911fa3c0805444483337064                            0   \n",
       "0005e1862207bf6ccc02e4228effd9a0                            0   \n",
       "00115fc7123b5310cf6d3a3aa932699e                            0   \n",
       "0011805441c0d1b68b48002f1d005526                            0   \n",
       "0011857aff0e5871ce5eb429f21cdaf5                            0   \n",
       "\n",
       "                                  PCat_furniture_bedroom  PCat_cine_photo  \\\n",
       "customer_unique_id                                                          \n",
       "0000f46a3911fa3c0805444483337064                       0                0   \n",
       "0005e1862207bf6ccc02e4228effd9a0                       0                0   \n",
       "00115fc7123b5310cf6d3a3aa932699e                       0                0   \n",
       "0011805441c0d1b68b48002f1d005526                       0                0   \n",
       "0011857aff0e5871ce5eb429f21cdaf5                       0                0   \n",
       "\n",
       "                                  PCat_fashio_female_clothing  \\\n",
       "customer_unique_id                                              \n",
       "0000f46a3911fa3c0805444483337064                            0   \n",
       "0005e1862207bf6ccc02e4228effd9a0                            0   \n",
       "00115fc7123b5310cf6d3a3aa932699e                            0   \n",
       "0011805441c0d1b68b48002f1d005526                            0   \n",
       "0011857aff0e5871ce5eb429f21cdaf5                            0   \n",
       "\n",
       "                                  PCat_books_imported  PCat_la_cuisine  \\\n",
       "customer_unique_id                                                       \n",
       "0000f46a3911fa3c0805444483337064                    0                0   \n",
       "0005e1862207bf6ccc02e4228effd9a0                    0                0   \n",
       "00115fc7123b5310cf6d3a3aa932699e                    0                0   \n",
       "0011805441c0d1b68b48002f1d005526                    0                0   \n",
       "0011857aff0e5871ce5eb429f21cdaf5                    0                0   \n",
       "\n",
       "                                  payment_facility  \n",
       "customer_unique_id                                  \n",
       "0000f46a3911fa3c0805444483337064                 0  \n",
       "0005e1862207bf6ccc02e4228effd9a0                 0  \n",
       "00115fc7123b5310cf6d3a3aa932699e                 1  \n",
       "0011805441c0d1b68b48002f1d005526                 0  \n",
       "0011857aff0e5871ce5eb429f21cdaf5                 0  \n",
       "\n",
       "[5 rows x 107 columns]"
      ]
     },
     "execution_count": 6,
     "metadata": {},
     "output_type": "execute_result"
    }
   ],
   "source": [
    "data_6_months_fe = features_engineering(data_6_months).compute()\n",
    "data_6_months_fe.head()"
   ]
  },
  {
   "cell_type": "code",
   "execution_count": 7,
   "metadata": {},
   "outputs": [
    {
     "data": {
      "text/html": [
       "<div>\n",
       "<style scoped>\n",
       "    .dataframe tbody tr th:only-of-type {\n",
       "        vertical-align: middle;\n",
       "    }\n",
       "\n",
       "    .dataframe tbody tr th {\n",
       "        vertical-align: top;\n",
       "    }\n",
       "\n",
       "    .dataframe thead th {\n",
       "        text-align: right;\n",
       "    }\n",
       "</style>\n",
       "<table border=\"1\" class=\"dataframe\">\n",
       "  <thead>\n",
       "    <tr style=\"text-align: right;\">\n",
       "      <th></th>\n",
       "      <th>recency</th>\n",
       "      <th>frequency</th>\n",
       "      <th>monetary</th>\n",
       "      <th>payment_value_mean</th>\n",
       "      <th>payment_value_min</th>\n",
       "      <th>payment_value_max</th>\n",
       "      <th>review_score_count</th>\n",
       "      <th>review_score_min</th>\n",
       "      <th>review_score_max</th>\n",
       "      <th>review_score_mean</th>\n",
       "      <th>...</th>\n",
       "      <th>PCat_dvds_blu_ray</th>\n",
       "      <th>PCat_cds_dvds_musicals</th>\n",
       "      <th>PCat_security_and_services</th>\n",
       "      <th>PCat_tablets_printing_image</th>\n",
       "      <th>PCat_furniture_bedroom</th>\n",
       "      <th>PCat_cine_photo</th>\n",
       "      <th>PCat_fashio_female_clothing</th>\n",
       "      <th>PCat_books_imported</th>\n",
       "      <th>PCat_la_cuisine</th>\n",
       "      <th>payment_facility</th>\n",
       "    </tr>\n",
       "    <tr>\n",
       "      <th>customer_unique_id</th>\n",
       "      <th></th>\n",
       "      <th></th>\n",
       "      <th></th>\n",
       "      <th></th>\n",
       "      <th></th>\n",
       "      <th></th>\n",
       "      <th></th>\n",
       "      <th></th>\n",
       "      <th></th>\n",
       "      <th></th>\n",
       "      <th></th>\n",
       "      <th></th>\n",
       "      <th></th>\n",
       "      <th></th>\n",
       "      <th></th>\n",
       "      <th></th>\n",
       "      <th></th>\n",
       "      <th></th>\n",
       "      <th></th>\n",
       "      <th></th>\n",
       "      <th></th>\n",
       "    </tr>\n",
       "  </thead>\n",
       "  <tbody>\n",
       "    <tr>\n",
       "      <td>0000f46a3911fa3c0805444483337064</td>\n",
       "      <td>203</td>\n",
       "      <td>1</td>\n",
       "      <td>86.22</td>\n",
       "      <td>86.22</td>\n",
       "      <td>86.22</td>\n",
       "      <td>86.22</td>\n",
       "      <td>1</td>\n",
       "      <td>3</td>\n",
       "      <td>3</td>\n",
       "      <td>3.0</td>\n",
       "      <td>...</td>\n",
       "      <td>0</td>\n",
       "      <td>0</td>\n",
       "      <td>0</td>\n",
       "      <td>0</td>\n",
       "      <td>0</td>\n",
       "      <td>0</td>\n",
       "      <td>0</td>\n",
       "      <td>0</td>\n",
       "      <td>0</td>\n",
       "      <td>0</td>\n",
       "    </tr>\n",
       "    <tr>\n",
       "      <td>0005e1862207bf6ccc02e4228effd9a0</td>\n",
       "      <td>209</td>\n",
       "      <td>1</td>\n",
       "      <td>150.12</td>\n",
       "      <td>150.12</td>\n",
       "      <td>150.12</td>\n",
       "      <td>150.12</td>\n",
       "      <td>1</td>\n",
       "      <td>4</td>\n",
       "      <td>4</td>\n",
       "      <td>4.0</td>\n",
       "      <td>...</td>\n",
       "      <td>0</td>\n",
       "      <td>0</td>\n",
       "      <td>0</td>\n",
       "      <td>0</td>\n",
       "      <td>0</td>\n",
       "      <td>0</td>\n",
       "      <td>0</td>\n",
       "      <td>0</td>\n",
       "      <td>0</td>\n",
       "      <td>0</td>\n",
       "    </tr>\n",
       "    <tr>\n",
       "      <td>0006fdc98a402fceb4eb0ee528f6a8d4</td>\n",
       "      <td>73</td>\n",
       "      <td>1</td>\n",
       "      <td>29.00</td>\n",
       "      <td>29.00</td>\n",
       "      <td>29.00</td>\n",
       "      <td>29.00</td>\n",
       "      <td>1</td>\n",
       "      <td>3</td>\n",
       "      <td>3</td>\n",
       "      <td>3.0</td>\n",
       "      <td>...</td>\n",
       "      <td>0</td>\n",
       "      <td>0</td>\n",
       "      <td>0</td>\n",
       "      <td>0</td>\n",
       "      <td>0</td>\n",
       "      <td>0</td>\n",
       "      <td>0</td>\n",
       "      <td>0</td>\n",
       "      <td>0</td>\n",
       "      <td>0</td>\n",
       "    </tr>\n",
       "    <tr>\n",
       "      <td>000a5ad9c4601d2bbdd9ed765d5213b3</td>\n",
       "      <td>49</td>\n",
       "      <td>1</td>\n",
       "      <td>91.28</td>\n",
       "      <td>91.28</td>\n",
       "      <td>91.28</td>\n",
       "      <td>91.28</td>\n",
       "      <td>1</td>\n",
       "      <td>4</td>\n",
       "      <td>4</td>\n",
       "      <td>4.0</td>\n",
       "      <td>...</td>\n",
       "      <td>0</td>\n",
       "      <td>0</td>\n",
       "      <td>0</td>\n",
       "      <td>0</td>\n",
       "      <td>0</td>\n",
       "      <td>0</td>\n",
       "      <td>0</td>\n",
       "      <td>0</td>\n",
       "      <td>0</td>\n",
       "      <td>0</td>\n",
       "    </tr>\n",
       "    <tr>\n",
       "      <td>000bfa1d2f1a41876493be685390d6d3</td>\n",
       "      <td>0</td>\n",
       "      <td>2</td>\n",
       "      <td>93.70</td>\n",
       "      <td>46.85</td>\n",
       "      <td>46.85</td>\n",
       "      <td>46.85</td>\n",
       "      <td>2</td>\n",
       "      <td>4</td>\n",
       "      <td>5</td>\n",
       "      <td>4.5</td>\n",
       "      <td>...</td>\n",
       "      <td>0</td>\n",
       "      <td>0</td>\n",
       "      <td>0</td>\n",
       "      <td>0</td>\n",
       "      <td>0</td>\n",
       "      <td>0</td>\n",
       "      <td>0</td>\n",
       "      <td>0</td>\n",
       "      <td>0</td>\n",
       "      <td>0</td>\n",
       "    </tr>\n",
       "  </tbody>\n",
       "</table>\n",
       "<p>5 rows × 111 columns</p>\n",
       "</div>"
      ],
      "text/plain": [
       "                                  recency  frequency  monetary  \\\n",
       "customer_unique_id                                               \n",
       "0000f46a3911fa3c0805444483337064      203          1     86.22   \n",
       "0005e1862207bf6ccc02e4228effd9a0      209          1    150.12   \n",
       "0006fdc98a402fceb4eb0ee528f6a8d4       73          1     29.00   \n",
       "000a5ad9c4601d2bbdd9ed765d5213b3       49          1     91.28   \n",
       "000bfa1d2f1a41876493be685390d6d3        0          2     93.70   \n",
       "\n",
       "                                  payment_value_mean  payment_value_min  \\\n",
       "customer_unique_id                                                        \n",
       "0000f46a3911fa3c0805444483337064               86.22              86.22   \n",
       "0005e1862207bf6ccc02e4228effd9a0              150.12             150.12   \n",
       "0006fdc98a402fceb4eb0ee528f6a8d4               29.00              29.00   \n",
       "000a5ad9c4601d2bbdd9ed765d5213b3               91.28              91.28   \n",
       "000bfa1d2f1a41876493be685390d6d3               46.85              46.85   \n",
       "\n",
       "                                  payment_value_max  review_score_count  \\\n",
       "customer_unique_id                                                        \n",
       "0000f46a3911fa3c0805444483337064              86.22                   1   \n",
       "0005e1862207bf6ccc02e4228effd9a0             150.12                   1   \n",
       "0006fdc98a402fceb4eb0ee528f6a8d4              29.00                   1   \n",
       "000a5ad9c4601d2bbdd9ed765d5213b3              91.28                   1   \n",
       "000bfa1d2f1a41876493be685390d6d3              46.85                   2   \n",
       "\n",
       "                                  review_score_min  review_score_max  \\\n",
       "customer_unique_id                                                     \n",
       "0000f46a3911fa3c0805444483337064                 3                 3   \n",
       "0005e1862207bf6ccc02e4228effd9a0                 4                 4   \n",
       "0006fdc98a402fceb4eb0ee528f6a8d4                 3                 3   \n",
       "000a5ad9c4601d2bbdd9ed765d5213b3                 4                 4   \n",
       "000bfa1d2f1a41876493be685390d6d3                 4                 5   \n",
       "\n",
       "                                  review_score_mean  ...  PCat_dvds_blu_ray  \\\n",
       "customer_unique_id                                   ...                      \n",
       "0000f46a3911fa3c0805444483337064                3.0  ...                  0   \n",
       "0005e1862207bf6ccc02e4228effd9a0                4.0  ...                  0   \n",
       "0006fdc98a402fceb4eb0ee528f6a8d4                3.0  ...                  0   \n",
       "000a5ad9c4601d2bbdd9ed765d5213b3                4.0  ...                  0   \n",
       "000bfa1d2f1a41876493be685390d6d3                4.5  ...                  0   \n",
       "\n",
       "                                  PCat_cds_dvds_musicals  \\\n",
       "customer_unique_id                                         \n",
       "0000f46a3911fa3c0805444483337064                       0   \n",
       "0005e1862207bf6ccc02e4228effd9a0                       0   \n",
       "0006fdc98a402fceb4eb0ee528f6a8d4                       0   \n",
       "000a5ad9c4601d2bbdd9ed765d5213b3                       0   \n",
       "000bfa1d2f1a41876493be685390d6d3                       0   \n",
       "\n",
       "                                  PCat_security_and_services  \\\n",
       "customer_unique_id                                             \n",
       "0000f46a3911fa3c0805444483337064                           0   \n",
       "0005e1862207bf6ccc02e4228effd9a0                           0   \n",
       "0006fdc98a402fceb4eb0ee528f6a8d4                           0   \n",
       "000a5ad9c4601d2bbdd9ed765d5213b3                           0   \n",
       "000bfa1d2f1a41876493be685390d6d3                           0   \n",
       "\n",
       "                                  PCat_tablets_printing_image  \\\n",
       "customer_unique_id                                              \n",
       "0000f46a3911fa3c0805444483337064                            0   \n",
       "0005e1862207bf6ccc02e4228effd9a0                            0   \n",
       "0006fdc98a402fceb4eb0ee528f6a8d4                            0   \n",
       "000a5ad9c4601d2bbdd9ed765d5213b3                            0   \n",
       "000bfa1d2f1a41876493be685390d6d3                            0   \n",
       "\n",
       "                                  PCat_furniture_bedroom  PCat_cine_photo  \\\n",
       "customer_unique_id                                                          \n",
       "0000f46a3911fa3c0805444483337064                       0                0   \n",
       "0005e1862207bf6ccc02e4228effd9a0                       0                0   \n",
       "0006fdc98a402fceb4eb0ee528f6a8d4                       0                0   \n",
       "000a5ad9c4601d2bbdd9ed765d5213b3                       0                0   \n",
       "000bfa1d2f1a41876493be685390d6d3                       0                0   \n",
       "\n",
       "                                  PCat_fashio_female_clothing  \\\n",
       "customer_unique_id                                              \n",
       "0000f46a3911fa3c0805444483337064                            0   \n",
       "0005e1862207bf6ccc02e4228effd9a0                            0   \n",
       "0006fdc98a402fceb4eb0ee528f6a8d4                            0   \n",
       "000a5ad9c4601d2bbdd9ed765d5213b3                            0   \n",
       "000bfa1d2f1a41876493be685390d6d3                            0   \n",
       "\n",
       "                                  PCat_books_imported  PCat_la_cuisine  \\\n",
       "customer_unique_id                                                       \n",
       "0000f46a3911fa3c0805444483337064                    0                0   \n",
       "0005e1862207bf6ccc02e4228effd9a0                    0                0   \n",
       "0006fdc98a402fceb4eb0ee528f6a8d4                    0                0   \n",
       "000a5ad9c4601d2bbdd9ed765d5213b3                    0                0   \n",
       "000bfa1d2f1a41876493be685390d6d3                    0                0   \n",
       "\n",
       "                                  payment_facility  \n",
       "customer_unique_id                                  \n",
       "0000f46a3911fa3c0805444483337064                 0  \n",
       "0005e1862207bf6ccc02e4228effd9a0                 0  \n",
       "0006fdc98a402fceb4eb0ee528f6a8d4                 0  \n",
       "000a5ad9c4601d2bbdd9ed765d5213b3                 0  \n",
       "000bfa1d2f1a41876493be685390d6d3                 0  \n",
       "\n",
       "[5 rows x 111 columns]"
      ]
     },
     "execution_count": 7,
     "metadata": {},
     "output_type": "execute_result"
    }
   ],
   "source": [
    "data_9_months_fe = features_engineering(data_9_months).compute()\n",
    "data_9_months_fe.head()"
   ]
  },
  {
   "cell_type": "code",
   "execution_count": 8,
   "metadata": {},
   "outputs": [
    {
     "data": {
      "text/html": [
       "<div>\n",
       "<style scoped>\n",
       "    .dataframe tbody tr th:only-of-type {\n",
       "        vertical-align: middle;\n",
       "    }\n",
       "\n",
       "    .dataframe tbody tr th {\n",
       "        vertical-align: top;\n",
       "    }\n",
       "\n",
       "    .dataframe thead th {\n",
       "        text-align: right;\n",
       "    }\n",
       "</style>\n",
       "<table border=\"1\" class=\"dataframe\">\n",
       "  <thead>\n",
       "    <tr style=\"text-align: right;\">\n",
       "      <th></th>\n",
       "      <th>recency</th>\n",
       "      <th>frequency</th>\n",
       "      <th>monetary</th>\n",
       "      <th>payment_value_mean</th>\n",
       "      <th>payment_value_min</th>\n",
       "      <th>payment_value_max</th>\n",
       "      <th>review_score_count</th>\n",
       "      <th>review_score_min</th>\n",
       "      <th>review_score_max</th>\n",
       "      <th>review_score_mean</th>\n",
       "      <th>...</th>\n",
       "      <th>PCat_cds_dvds_musicals</th>\n",
       "      <th>PCat_security_and_services</th>\n",
       "      <th>PCat_tablets_printing_image</th>\n",
       "      <th>PCat_furniture_bedroom</th>\n",
       "      <th>PCat_cine_photo</th>\n",
       "      <th>PCat_fashio_female_clothing</th>\n",
       "      <th>PCat_diapers_and_hygiene</th>\n",
       "      <th>PCat_books_imported</th>\n",
       "      <th>PCat_la_cuisine</th>\n",
       "      <th>payment_facility</th>\n",
       "    </tr>\n",
       "    <tr>\n",
       "      <th>customer_unique_id</th>\n",
       "      <th></th>\n",
       "      <th></th>\n",
       "      <th></th>\n",
       "      <th></th>\n",
       "      <th></th>\n",
       "      <th></th>\n",
       "      <th></th>\n",
       "      <th></th>\n",
       "      <th></th>\n",
       "      <th></th>\n",
       "      <th></th>\n",
       "      <th></th>\n",
       "      <th></th>\n",
       "      <th></th>\n",
       "      <th></th>\n",
       "      <th></th>\n",
       "      <th></th>\n",
       "      <th></th>\n",
       "      <th></th>\n",
       "      <th></th>\n",
       "      <th></th>\n",
       "    </tr>\n",
       "  </thead>\n",
       "  <tbody>\n",
       "    <tr>\n",
       "      <td>0000f46a3911fa3c0805444483337064</td>\n",
       "      <td>295</td>\n",
       "      <td>1</td>\n",
       "      <td>86.22</td>\n",
       "      <td>86.22</td>\n",
       "      <td>86.22</td>\n",
       "      <td>86.22</td>\n",
       "      <td>1</td>\n",
       "      <td>3</td>\n",
       "      <td>3</td>\n",
       "      <td>3.0</td>\n",
       "      <td>...</td>\n",
       "      <td>0</td>\n",
       "      <td>0</td>\n",
       "      <td>0</td>\n",
       "      <td>0</td>\n",
       "      <td>0</td>\n",
       "      <td>0</td>\n",
       "      <td>0</td>\n",
       "      <td>0</td>\n",
       "      <td>0</td>\n",
       "      <td>0</td>\n",
       "    </tr>\n",
       "    <tr>\n",
       "      <td>0000f6ccb0745a6a4b88665a16c9f078</td>\n",
       "      <td>79</td>\n",
       "      <td>1</td>\n",
       "      <td>43.62</td>\n",
       "      <td>43.62</td>\n",
       "      <td>43.62</td>\n",
       "      <td>43.62</td>\n",
       "      <td>1</td>\n",
       "      <td>4</td>\n",
       "      <td>4</td>\n",
       "      <td>4.0</td>\n",
       "      <td>...</td>\n",
       "      <td>0</td>\n",
       "      <td>0</td>\n",
       "      <td>0</td>\n",
       "      <td>0</td>\n",
       "      <td>0</td>\n",
       "      <td>0</td>\n",
       "      <td>0</td>\n",
       "      <td>0</td>\n",
       "      <td>0</td>\n",
       "      <td>0</td>\n",
       "    </tr>\n",
       "    <tr>\n",
       "      <td>0004aac84e0df4da2b147fca70cf8255</td>\n",
       "      <td>46</td>\n",
       "      <td>1</td>\n",
       "      <td>196.89</td>\n",
       "      <td>196.89</td>\n",
       "      <td>196.89</td>\n",
       "      <td>196.89</td>\n",
       "      <td>1</td>\n",
       "      <td>5</td>\n",
       "      <td>5</td>\n",
       "      <td>5.0</td>\n",
       "      <td>...</td>\n",
       "      <td>0</td>\n",
       "      <td>0</td>\n",
       "      <td>0</td>\n",
       "      <td>0</td>\n",
       "      <td>0</td>\n",
       "      <td>0</td>\n",
       "      <td>0</td>\n",
       "      <td>0</td>\n",
       "      <td>0</td>\n",
       "      <td>0</td>\n",
       "    </tr>\n",
       "    <tr>\n",
       "      <td>0005e1862207bf6ccc02e4228effd9a0</td>\n",
       "      <td>301</td>\n",
       "      <td>1</td>\n",
       "      <td>150.12</td>\n",
       "      <td>150.12</td>\n",
       "      <td>150.12</td>\n",
       "      <td>150.12</td>\n",
       "      <td>1</td>\n",
       "      <td>4</td>\n",
       "      <td>4</td>\n",
       "      <td>4.0</td>\n",
       "      <td>...</td>\n",
       "      <td>0</td>\n",
       "      <td>0</td>\n",
       "      <td>0</td>\n",
       "      <td>0</td>\n",
       "      <td>0</td>\n",
       "      <td>0</td>\n",
       "      <td>0</td>\n",
       "      <td>0</td>\n",
       "      <td>0</td>\n",
       "      <td>0</td>\n",
       "    </tr>\n",
       "    <tr>\n",
       "      <td>0006fdc98a402fceb4eb0ee528f6a8d4</td>\n",
       "      <td>165</td>\n",
       "      <td>1</td>\n",
       "      <td>29.00</td>\n",
       "      <td>29.00</td>\n",
       "      <td>29.00</td>\n",
       "      <td>29.00</td>\n",
       "      <td>1</td>\n",
       "      <td>3</td>\n",
       "      <td>3</td>\n",
       "      <td>3.0</td>\n",
       "      <td>...</td>\n",
       "      <td>0</td>\n",
       "      <td>0</td>\n",
       "      <td>0</td>\n",
       "      <td>0</td>\n",
       "      <td>0</td>\n",
       "      <td>0</td>\n",
       "      <td>0</td>\n",
       "      <td>0</td>\n",
       "      <td>0</td>\n",
       "      <td>0</td>\n",
       "    </tr>\n",
       "  </tbody>\n",
       "</table>\n",
       "<p>5 rows × 113 columns</p>\n",
       "</div>"
      ],
      "text/plain": [
       "                                  recency  frequency  monetary  \\\n",
       "customer_unique_id                                               \n",
       "0000f46a3911fa3c0805444483337064      295          1     86.22   \n",
       "0000f6ccb0745a6a4b88665a16c9f078       79          1     43.62   \n",
       "0004aac84e0df4da2b147fca70cf8255       46          1    196.89   \n",
       "0005e1862207bf6ccc02e4228effd9a0      301          1    150.12   \n",
       "0006fdc98a402fceb4eb0ee528f6a8d4      165          1     29.00   \n",
       "\n",
       "                                  payment_value_mean  payment_value_min  \\\n",
       "customer_unique_id                                                        \n",
       "0000f46a3911fa3c0805444483337064               86.22              86.22   \n",
       "0000f6ccb0745a6a4b88665a16c9f078               43.62              43.62   \n",
       "0004aac84e0df4da2b147fca70cf8255              196.89             196.89   \n",
       "0005e1862207bf6ccc02e4228effd9a0              150.12             150.12   \n",
       "0006fdc98a402fceb4eb0ee528f6a8d4               29.00              29.00   \n",
       "\n",
       "                                  payment_value_max  review_score_count  \\\n",
       "customer_unique_id                                                        \n",
       "0000f46a3911fa3c0805444483337064              86.22                   1   \n",
       "0000f6ccb0745a6a4b88665a16c9f078              43.62                   1   \n",
       "0004aac84e0df4da2b147fca70cf8255             196.89                   1   \n",
       "0005e1862207bf6ccc02e4228effd9a0             150.12                   1   \n",
       "0006fdc98a402fceb4eb0ee528f6a8d4              29.00                   1   \n",
       "\n",
       "                                  review_score_min  review_score_max  \\\n",
       "customer_unique_id                                                     \n",
       "0000f46a3911fa3c0805444483337064                 3                 3   \n",
       "0000f6ccb0745a6a4b88665a16c9f078                 4                 4   \n",
       "0004aac84e0df4da2b147fca70cf8255                 5                 5   \n",
       "0005e1862207bf6ccc02e4228effd9a0                 4                 4   \n",
       "0006fdc98a402fceb4eb0ee528f6a8d4                 3                 3   \n",
       "\n",
       "                                  review_score_mean  ...  \\\n",
       "customer_unique_id                                   ...   \n",
       "0000f46a3911fa3c0805444483337064                3.0  ...   \n",
       "0000f6ccb0745a6a4b88665a16c9f078                4.0  ...   \n",
       "0004aac84e0df4da2b147fca70cf8255                5.0  ...   \n",
       "0005e1862207bf6ccc02e4228effd9a0                4.0  ...   \n",
       "0006fdc98a402fceb4eb0ee528f6a8d4                3.0  ...   \n",
       "\n",
       "                                  PCat_cds_dvds_musicals  \\\n",
       "customer_unique_id                                         \n",
       "0000f46a3911fa3c0805444483337064                       0   \n",
       "0000f6ccb0745a6a4b88665a16c9f078                       0   \n",
       "0004aac84e0df4da2b147fca70cf8255                       0   \n",
       "0005e1862207bf6ccc02e4228effd9a0                       0   \n",
       "0006fdc98a402fceb4eb0ee528f6a8d4                       0   \n",
       "\n",
       "                                  PCat_security_and_services  \\\n",
       "customer_unique_id                                             \n",
       "0000f46a3911fa3c0805444483337064                           0   \n",
       "0000f6ccb0745a6a4b88665a16c9f078                           0   \n",
       "0004aac84e0df4da2b147fca70cf8255                           0   \n",
       "0005e1862207bf6ccc02e4228effd9a0                           0   \n",
       "0006fdc98a402fceb4eb0ee528f6a8d4                           0   \n",
       "\n",
       "                                  PCat_tablets_printing_image  \\\n",
       "customer_unique_id                                              \n",
       "0000f46a3911fa3c0805444483337064                            0   \n",
       "0000f6ccb0745a6a4b88665a16c9f078                            0   \n",
       "0004aac84e0df4da2b147fca70cf8255                            0   \n",
       "0005e1862207bf6ccc02e4228effd9a0                            0   \n",
       "0006fdc98a402fceb4eb0ee528f6a8d4                            0   \n",
       "\n",
       "                                  PCat_furniture_bedroom  PCat_cine_photo  \\\n",
       "customer_unique_id                                                          \n",
       "0000f46a3911fa3c0805444483337064                       0                0   \n",
       "0000f6ccb0745a6a4b88665a16c9f078                       0                0   \n",
       "0004aac84e0df4da2b147fca70cf8255                       0                0   \n",
       "0005e1862207bf6ccc02e4228effd9a0                       0                0   \n",
       "0006fdc98a402fceb4eb0ee528f6a8d4                       0                0   \n",
       "\n",
       "                                  PCat_fashio_female_clothing  \\\n",
       "customer_unique_id                                              \n",
       "0000f46a3911fa3c0805444483337064                            0   \n",
       "0000f6ccb0745a6a4b88665a16c9f078                            0   \n",
       "0004aac84e0df4da2b147fca70cf8255                            0   \n",
       "0005e1862207bf6ccc02e4228effd9a0                            0   \n",
       "0006fdc98a402fceb4eb0ee528f6a8d4                            0   \n",
       "\n",
       "                                  PCat_diapers_and_hygiene  \\\n",
       "customer_unique_id                                           \n",
       "0000f46a3911fa3c0805444483337064                         0   \n",
       "0000f6ccb0745a6a4b88665a16c9f078                         0   \n",
       "0004aac84e0df4da2b147fca70cf8255                         0   \n",
       "0005e1862207bf6ccc02e4228effd9a0                         0   \n",
       "0006fdc98a402fceb4eb0ee528f6a8d4                         0   \n",
       "\n",
       "                                  PCat_books_imported  PCat_la_cuisine  \\\n",
       "customer_unique_id                                                       \n",
       "0000f46a3911fa3c0805444483337064                    0                0   \n",
       "0000f6ccb0745a6a4b88665a16c9f078                    0                0   \n",
       "0004aac84e0df4da2b147fca70cf8255                    0                0   \n",
       "0005e1862207bf6ccc02e4228effd9a0                    0                0   \n",
       "0006fdc98a402fceb4eb0ee528f6a8d4                    0                0   \n",
       "\n",
       "                                  payment_facility  \n",
       "customer_unique_id                                  \n",
       "0000f46a3911fa3c0805444483337064                 0  \n",
       "0000f6ccb0745a6a4b88665a16c9f078                 0  \n",
       "0004aac84e0df4da2b147fca70cf8255                 0  \n",
       "0005e1862207bf6ccc02e4228effd9a0                 0  \n",
       "0006fdc98a402fceb4eb0ee528f6a8d4                 0  \n",
       "\n",
       "[5 rows x 113 columns]"
      ]
     },
     "execution_count": 8,
     "metadata": {},
     "output_type": "execute_result"
    }
   ],
   "source": [
    "data_12_months_fe = features_engineering(data_12_months).compute()\n",
    "data_12_months_fe.head()"
   ]
  },
  {
   "cell_type": "code",
   "execution_count": 9,
   "metadata": {},
   "outputs": [
    {
     "data": {
      "text/html": [
       "<div>\n",
       "<style scoped>\n",
       "    .dataframe tbody tr th:only-of-type {\n",
       "        vertical-align: middle;\n",
       "    }\n",
       "\n",
       "    .dataframe tbody tr th {\n",
       "        vertical-align: top;\n",
       "    }\n",
       "\n",
       "    .dataframe thead th {\n",
       "        text-align: right;\n",
       "    }\n",
       "</style>\n",
       "<table border=\"1\" class=\"dataframe\">\n",
       "  <thead>\n",
       "    <tr style=\"text-align: right;\">\n",
       "      <th></th>\n",
       "      <th>recency</th>\n",
       "      <th>frequency</th>\n",
       "      <th>monetary</th>\n",
       "      <th>payment_value_mean</th>\n",
       "      <th>payment_value_min</th>\n",
       "      <th>payment_value_max</th>\n",
       "      <th>review_score_count</th>\n",
       "      <th>review_score_min</th>\n",
       "      <th>review_score_max</th>\n",
       "      <th>review_score_mean</th>\n",
       "      <th>...</th>\n",
       "      <th>PCat_cds_dvds_musicals</th>\n",
       "      <th>PCat_security_and_services</th>\n",
       "      <th>PCat_tablets_printing_image</th>\n",
       "      <th>PCat_furniture_bedroom</th>\n",
       "      <th>PCat_cine_photo</th>\n",
       "      <th>PCat_fashio_female_clothing</th>\n",
       "      <th>PCat_diapers_and_hygiene</th>\n",
       "      <th>PCat_books_imported</th>\n",
       "      <th>PCat_la_cuisine</th>\n",
       "      <th>payment_facility</th>\n",
       "    </tr>\n",
       "    <tr>\n",
       "      <th>customer_unique_id</th>\n",
       "      <th></th>\n",
       "      <th></th>\n",
       "      <th></th>\n",
       "      <th></th>\n",
       "      <th></th>\n",
       "      <th></th>\n",
       "      <th></th>\n",
       "      <th></th>\n",
       "      <th></th>\n",
       "      <th></th>\n",
       "      <th></th>\n",
       "      <th></th>\n",
       "      <th></th>\n",
       "      <th></th>\n",
       "      <th></th>\n",
       "      <th></th>\n",
       "      <th></th>\n",
       "      <th></th>\n",
       "      <th></th>\n",
       "      <th></th>\n",
       "      <th></th>\n",
       "    </tr>\n",
       "  </thead>\n",
       "  <tbody>\n",
       "    <tr>\n",
       "      <td>0000366f3b9a7992bf8c76cfdf3221e2</td>\n",
       "      <td>115</td>\n",
       "      <td>1</td>\n",
       "      <td>141.90</td>\n",
       "      <td>141.90</td>\n",
       "      <td>141.90</td>\n",
       "      <td>141.90</td>\n",
       "      <td>1</td>\n",
       "      <td>5</td>\n",
       "      <td>5</td>\n",
       "      <td>5.0</td>\n",
       "      <td>...</td>\n",
       "      <td>0</td>\n",
       "      <td>0</td>\n",
       "      <td>0</td>\n",
       "      <td>0</td>\n",
       "      <td>0</td>\n",
       "      <td>0</td>\n",
       "      <td>0</td>\n",
       "      <td>0</td>\n",
       "      <td>0</td>\n",
       "      <td>0</td>\n",
       "    </tr>\n",
       "    <tr>\n",
       "      <td>0000b849f77a49e4a4ce2b2a4ca5be3f</td>\n",
       "      <td>118</td>\n",
       "      <td>1</td>\n",
       "      <td>27.19</td>\n",
       "      <td>27.19</td>\n",
       "      <td>27.19</td>\n",
       "      <td>27.19</td>\n",
       "      <td>1</td>\n",
       "      <td>4</td>\n",
       "      <td>4</td>\n",
       "      <td>4.0</td>\n",
       "      <td>...</td>\n",
       "      <td>0</td>\n",
       "      <td>0</td>\n",
       "      <td>0</td>\n",
       "      <td>0</td>\n",
       "      <td>0</td>\n",
       "      <td>0</td>\n",
       "      <td>0</td>\n",
       "      <td>0</td>\n",
       "      <td>0</td>\n",
       "      <td>1</td>\n",
       "    </tr>\n",
       "    <tr>\n",
       "      <td>0000f46a3911fa3c0805444483337064</td>\n",
       "      <td>541</td>\n",
       "      <td>1</td>\n",
       "      <td>86.22</td>\n",
       "      <td>86.22</td>\n",
       "      <td>86.22</td>\n",
       "      <td>86.22</td>\n",
       "      <td>1</td>\n",
       "      <td>3</td>\n",
       "      <td>3</td>\n",
       "      <td>3.0</td>\n",
       "      <td>...</td>\n",
       "      <td>0</td>\n",
       "      <td>0</td>\n",
       "      <td>0</td>\n",
       "      <td>0</td>\n",
       "      <td>0</td>\n",
       "      <td>0</td>\n",
       "      <td>0</td>\n",
       "      <td>0</td>\n",
       "      <td>0</td>\n",
       "      <td>0</td>\n",
       "    </tr>\n",
       "    <tr>\n",
       "      <td>0000f6ccb0745a6a4b88665a16c9f078</td>\n",
       "      <td>325</td>\n",
       "      <td>1</td>\n",
       "      <td>43.62</td>\n",
       "      <td>43.62</td>\n",
       "      <td>43.62</td>\n",
       "      <td>43.62</td>\n",
       "      <td>1</td>\n",
       "      <td>4</td>\n",
       "      <td>4</td>\n",
       "      <td>4.0</td>\n",
       "      <td>...</td>\n",
       "      <td>0</td>\n",
       "      <td>0</td>\n",
       "      <td>0</td>\n",
       "      <td>0</td>\n",
       "      <td>0</td>\n",
       "      <td>0</td>\n",
       "      <td>0</td>\n",
       "      <td>0</td>\n",
       "      <td>0</td>\n",
       "      <td>0</td>\n",
       "    </tr>\n",
       "    <tr>\n",
       "      <td>0004aac84e0df4da2b147fca70cf8255</td>\n",
       "      <td>292</td>\n",
       "      <td>1</td>\n",
       "      <td>196.89</td>\n",
       "      <td>196.89</td>\n",
       "      <td>196.89</td>\n",
       "      <td>196.89</td>\n",
       "      <td>1</td>\n",
       "      <td>5</td>\n",
       "      <td>5</td>\n",
       "      <td>5.0</td>\n",
       "      <td>...</td>\n",
       "      <td>0</td>\n",
       "      <td>0</td>\n",
       "      <td>0</td>\n",
       "      <td>0</td>\n",
       "      <td>0</td>\n",
       "      <td>0</td>\n",
       "      <td>0</td>\n",
       "      <td>0</td>\n",
       "      <td>0</td>\n",
       "      <td>0</td>\n",
       "    </tr>\n",
       "  </tbody>\n",
       "</table>\n",
       "<p>5 rows × 113 columns</p>\n",
       "</div>"
      ],
      "text/plain": [
       "                                  recency  frequency  monetary  \\\n",
       "customer_unique_id                                               \n",
       "0000366f3b9a7992bf8c76cfdf3221e2      115          1    141.90   \n",
       "0000b849f77a49e4a4ce2b2a4ca5be3f      118          1     27.19   \n",
       "0000f46a3911fa3c0805444483337064      541          1     86.22   \n",
       "0000f6ccb0745a6a4b88665a16c9f078      325          1     43.62   \n",
       "0004aac84e0df4da2b147fca70cf8255      292          1    196.89   \n",
       "\n",
       "                                  payment_value_mean  payment_value_min  \\\n",
       "customer_unique_id                                                        \n",
       "0000366f3b9a7992bf8c76cfdf3221e2              141.90             141.90   \n",
       "0000b849f77a49e4a4ce2b2a4ca5be3f               27.19              27.19   \n",
       "0000f46a3911fa3c0805444483337064               86.22              86.22   \n",
       "0000f6ccb0745a6a4b88665a16c9f078               43.62              43.62   \n",
       "0004aac84e0df4da2b147fca70cf8255              196.89             196.89   \n",
       "\n",
       "                                  payment_value_max  review_score_count  \\\n",
       "customer_unique_id                                                        \n",
       "0000366f3b9a7992bf8c76cfdf3221e2             141.90                   1   \n",
       "0000b849f77a49e4a4ce2b2a4ca5be3f              27.19                   1   \n",
       "0000f46a3911fa3c0805444483337064              86.22                   1   \n",
       "0000f6ccb0745a6a4b88665a16c9f078              43.62                   1   \n",
       "0004aac84e0df4da2b147fca70cf8255             196.89                   1   \n",
       "\n",
       "                                  review_score_min  review_score_max  \\\n",
       "customer_unique_id                                                     \n",
       "0000366f3b9a7992bf8c76cfdf3221e2                 5                 5   \n",
       "0000b849f77a49e4a4ce2b2a4ca5be3f                 4                 4   \n",
       "0000f46a3911fa3c0805444483337064                 3                 3   \n",
       "0000f6ccb0745a6a4b88665a16c9f078                 4                 4   \n",
       "0004aac84e0df4da2b147fca70cf8255                 5                 5   \n",
       "\n",
       "                                  review_score_mean  ...  \\\n",
       "customer_unique_id                                   ...   \n",
       "0000366f3b9a7992bf8c76cfdf3221e2                5.0  ...   \n",
       "0000b849f77a49e4a4ce2b2a4ca5be3f                4.0  ...   \n",
       "0000f46a3911fa3c0805444483337064                3.0  ...   \n",
       "0000f6ccb0745a6a4b88665a16c9f078                4.0  ...   \n",
       "0004aac84e0df4da2b147fca70cf8255                5.0  ...   \n",
       "\n",
       "                                  PCat_cds_dvds_musicals  \\\n",
       "customer_unique_id                                         \n",
       "0000366f3b9a7992bf8c76cfdf3221e2                       0   \n",
       "0000b849f77a49e4a4ce2b2a4ca5be3f                       0   \n",
       "0000f46a3911fa3c0805444483337064                       0   \n",
       "0000f6ccb0745a6a4b88665a16c9f078                       0   \n",
       "0004aac84e0df4da2b147fca70cf8255                       0   \n",
       "\n",
       "                                  PCat_security_and_services  \\\n",
       "customer_unique_id                                             \n",
       "0000366f3b9a7992bf8c76cfdf3221e2                           0   \n",
       "0000b849f77a49e4a4ce2b2a4ca5be3f                           0   \n",
       "0000f46a3911fa3c0805444483337064                           0   \n",
       "0000f6ccb0745a6a4b88665a16c9f078                           0   \n",
       "0004aac84e0df4da2b147fca70cf8255                           0   \n",
       "\n",
       "                                  PCat_tablets_printing_image  \\\n",
       "customer_unique_id                                              \n",
       "0000366f3b9a7992bf8c76cfdf3221e2                            0   \n",
       "0000b849f77a49e4a4ce2b2a4ca5be3f                            0   \n",
       "0000f46a3911fa3c0805444483337064                            0   \n",
       "0000f6ccb0745a6a4b88665a16c9f078                            0   \n",
       "0004aac84e0df4da2b147fca70cf8255                            0   \n",
       "\n",
       "                                  PCat_furniture_bedroom  PCat_cine_photo  \\\n",
       "customer_unique_id                                                          \n",
       "0000366f3b9a7992bf8c76cfdf3221e2                       0                0   \n",
       "0000b849f77a49e4a4ce2b2a4ca5be3f                       0                0   \n",
       "0000f46a3911fa3c0805444483337064                       0                0   \n",
       "0000f6ccb0745a6a4b88665a16c9f078                       0                0   \n",
       "0004aac84e0df4da2b147fca70cf8255                       0                0   \n",
       "\n",
       "                                  PCat_fashio_female_clothing  \\\n",
       "customer_unique_id                                              \n",
       "0000366f3b9a7992bf8c76cfdf3221e2                            0   \n",
       "0000b849f77a49e4a4ce2b2a4ca5be3f                            0   \n",
       "0000f46a3911fa3c0805444483337064                            0   \n",
       "0000f6ccb0745a6a4b88665a16c9f078                            0   \n",
       "0004aac84e0df4da2b147fca70cf8255                            0   \n",
       "\n",
       "                                  PCat_diapers_and_hygiene  \\\n",
       "customer_unique_id                                           \n",
       "0000366f3b9a7992bf8c76cfdf3221e2                         0   \n",
       "0000b849f77a49e4a4ce2b2a4ca5be3f                         0   \n",
       "0000f46a3911fa3c0805444483337064                         0   \n",
       "0000f6ccb0745a6a4b88665a16c9f078                         0   \n",
       "0004aac84e0df4da2b147fca70cf8255                         0   \n",
       "\n",
       "                                  PCat_books_imported  PCat_la_cuisine  \\\n",
       "customer_unique_id                                                       \n",
       "0000366f3b9a7992bf8c76cfdf3221e2                    0                0   \n",
       "0000b849f77a49e4a4ce2b2a4ca5be3f                    0                0   \n",
       "0000f46a3911fa3c0805444483337064                    0                0   \n",
       "0000f6ccb0745a6a4b88665a16c9f078                    0                0   \n",
       "0004aac84e0df4da2b147fca70cf8255                    0                0   \n",
       "\n",
       "                                  payment_facility  \n",
       "customer_unique_id                                  \n",
       "0000366f3b9a7992bf8c76cfdf3221e2                 0  \n",
       "0000b849f77a49e4a4ce2b2a4ca5be3f                 1  \n",
       "0000f46a3911fa3c0805444483337064                 0  \n",
       "0000f6ccb0745a6a4b88665a16c9f078                 0  \n",
       "0004aac84e0df4da2b147fca70cf8255                 0  \n",
       "\n",
       "[5 rows x 113 columns]"
      ]
     },
     "execution_count": 9,
     "metadata": {},
     "output_type": "execute_result"
    }
   ],
   "source": [
    "data_all_fe = features_engineering(data_all).compute()\n",
    "data_all_fe.head()"
   ]
  },
  {
   "cell_type": "markdown",
   "metadata": {},
   "source": [
    "## 3 - Normalisation"
   ]
  },
  {
   "cell_type": "code",
   "execution_count": 10,
   "metadata": {},
   "outputs": [],
   "source": [
    "standardize = preprocessing.StandardScaler(copy=True, with_mean=True, with_std=True)\n",
    "standardize.fit(data_3_months_fe)\n",
    "data_3_months_fe = standardize.transform(data_3_months_fe)"
   ]
  },
  {
   "cell_type": "markdown",
   "metadata": {},
   "source": [
    "## 4 - Clustering à l'aide des baselines\n",
    "### 4.1 - K-means"
   ]
  },
  {
   "cell_type": "code",
   "execution_count": 11,
   "metadata": {},
   "outputs": [
    {
     "data": {
      "image/png": "[encoded data removed]",
      "text/plain": [
       "<Figure size 720x360 with 1 Axes>"
      ]
     },
     "metadata": {
      "needs_background": "light"
     },
     "output_type": "display_data"
    }
   ],
   "source": [
    "base_km_cluster_number = []\n",
    "base_km_score = []\n",
    "for n in range(2, 25):\n",
    "    kmean = KMeans(n_clusters=n, n_init=100, max_iter=3000)\n",
    "    kmean.fit(data_3_months_fe)\n",
    "    base_km_cluster_number.append(n)\n",
    "    base_km_score.append(silhouette_score(data_3_months_fe, kmean.labels_, metric='euclidean'))\n",
    "\n",
    "plt.figure(figsize=(10, 5))\n",
    "plt.plot(base_km_cluster_number, base_km_score, color=\"skyblue\", lw=2)\n",
    "plt.xlabel(\"Nombre de cluster\")\n",
    "plt.ylabel(\"Score de silhouette\")\n",
    "plt.title(\"Baseline Kmean\")\n",
    "plt.tight_layout()\n",
    "plt.show()\n"
   ]
  },
  {
   "cell_type": "markdown",
   "metadata": {},
   "source": [
    "### 4.2 - DBSCAN"
   ]
  },
  {
   "cell_type": "code",
   "execution_count": 12,
   "metadata": {},
   "outputs": [
    {
     "data": {
      "text/plain": [
       "DBSCAN(algorithm='auto', eps=0.8, leaf_size=30, metric='euclidean',\n",
       "       metric_params=None, min_samples=10, n_jobs=None, p=None)"
      ]
     },
     "execution_count": 12,
     "metadata": {},
     "output_type": "execute_result"
    }
   ],
   "source": [
    "dbscan_clust = DBSCAN(eps=0.8, min_samples=10)\n",
    "dbscan_clust.fit(data_3_months_fe)"
   ]
  },
  {
   "cell_type": "code",
   "execution_count": 13,
   "metadata": {},
   "outputs": [],
   "source": [
    "dbscan_labels = dbscan_clust.labels_"
   ]
  },
  {
   "cell_type": "code",
   "execution_count": 14,
   "metadata": {},
   "outputs": [
    {
     "data": {
      "text/plain": [
       "19"
      ]
     },
     "execution_count": 14,
     "metadata": {},
     "output_type": "execute_result"
    }
   ],
   "source": [
    "n_clusters = len(set(dbscan_labels)) - (1 if -1 in dbscan_labels else 0)\n",
    "n_clusters"
   ]
  },
  {
   "cell_type": "code",
   "execution_count": 15,
   "metadata": {},
   "outputs": [
    {
     "data": {
      "text/plain": [
       "-0.35095667658863056"
      ]
     },
     "execution_count": 15,
     "metadata": {},
     "output_type": "execute_result"
    }
   ],
   "source": [
    "silhouette_score(data_3_months_fe, dbscan_labels)"
   ]
  },
  {
   "cell_type": "code",
   "execution_count": 16,
   "metadata": {},
   "outputs": [
    {
     "data": {
      "text/plain": [
       "4506"
      ]
     },
     "execution_count": 16,
     "metadata": {},
     "output_type": "execute_result"
    }
   ],
   "source": [
    "list(dbscan_labels).count(-1)"
   ]
  },
  {
   "cell_type": "markdown",
   "metadata": {},
   "source": [
    "### 4.3 - Clustering Hierarchique"
   ]
  },
  {
   "cell_type": "code",
   "execution_count": 17,
   "metadata": {},
   "outputs": [
    {
     "data": {
      "image/png": "[encoded data removed]",
      "text/plain": [
       "<Figure size 720x360 with 1 Axes>"
      ]
     },
     "metadata": {
      "needs_background": "light"
     },
     "output_type": "display_data"
    }
   ],
   "source": [
    "base_hier_cluster_number = []\n",
    "base_hier_score = []\n",
    "for n in range(2, 25):\n",
    "    clust_hier = AgglomerativeClustering(n_clusters=n)\n",
    "    clust_hier.fit(data_3_months_fe)\n",
    "    base_hier_cluster_number.append(n)\n",
    "    base_hier_score.append(silhouette_score(data_3_months_fe, clust_hier.labels_, metric=\"euclidean\"))\n",
    "\n",
    "plt.figure(figsize=(10, 5))\n",
    "plt.plot(base_hier_cluster_number, base_hier_score, color=\"skyblue\", lw=2)\n",
    "plt.xlabel(\"Nombre de cluster\")\n",
    "plt.ylabel(\"Score de silhouette\")\n",
    "plt.title(\"Baseline Clustering Hierarchique\")\n",
    "plt.tight_layout()\n",
    "plt.show()"
   ]
  },
  {
   "cell_type": "markdown",
   "metadata": {},
   "source": [
    "## 5- Réduction de dimension"
   ]
  },
  {
   "cell_type": "code",
   "execution_count": 18,
   "metadata": {},
   "outputs": [],
   "source": [
    "X = data_3_months_fe.values"
   ]
  },
  {
   "cell_type": "markdown",
   "metadata": {},
   "source": [
    "### 5.1 - Linear PCA\n",
    "#### 5.1.1 - Decomposition et projection"
   ]
  },
  {
   "cell_type": "code",
   "execution_count": 19,
   "metadata": {},
   "outputs": [
    {
     "data": {
      "text/plain": [
       "PCA(copy=True, iterated_power='auto', n_components=94, random_state=None,\n",
       "    svd_solver='auto', tol=0.0, whiten=False)"
      ]
     },
     "execution_count": 19,
     "metadata": {},
     "output_type": "execute_result"
    }
   ],
   "source": [
    "pca = decomposition.PCA(n_components=94)\n",
    "pca.fit(X)"
   ]
  },
  {
   "cell_type": "code",
   "execution_count": 20,
   "metadata": {},
   "outputs": [
    {
     "data": {
      "image/png": "[encoded data removed]",
      "text/plain": [
       "<Figure size 720x360 with 1 Axes>"
      ]
     },
     "metadata": {
      "needs_background": "light"
     },
     "output_type": "display_data"
    }
   ],
   "source": [
    "components = range(1, len(pca.explained_variance_ratio_) + 1)\n",
    "plt.figure(figsize=(10, 5))\n",
    "plt.plot(components, pca.explained_variance_ratio_*100, color='skyblue', lw=2)\n",
    "plt.xlabel('Nombre de composantes', fontsize=12)\n",
    "plt.ylabel('Pourcentage Variance Expliquée', fontsize=12)\n",
    "plt.title('PCA - part de variance expliquée par composantes')\n",
    "plt.tight_layout()\n",
    "plt.show()"
   ]
  },
  {
   "cell_type": "code",
   "execution_count": 21,
   "metadata": {},
   "outputs": [],
   "source": [
    "pca = decomposition.PCA(n_components=10)\n",
    "pca.fit(X)\n",
    "\n",
    "X_pca_projected = pca.transform(X)"
   ]
  },
  {
   "cell_type": "markdown",
   "metadata": {},
   "source": [
    "#### 5.1.2 - Clustering\n",
    "##### 5.1.2.1 - K-means"
   ]
  },
  {
   "cell_type": "code",
   "execution_count": 22,
   "metadata": {},
   "outputs": [
    {
     "data": {
      "image/png": "[encoded data removed]",
      "text/plain": [
       "<Figure size 720x360 with 1 Axes>"
      ]
     },
     "metadata": {
      "needs_background": "light"
     },
     "output_type": "display_data"
    }
   ],
   "source": [
    "pca_km_cluster_number = []\n",
    "pca_km_score = []\n",
    "for n in range(2, 25):\n",
    "    kmean = KMeans(n_clusters=n, n_init=100, max_iter=3000)\n",
    "    kmean.fit(X_pca_projected)\n",
    "    pca_km_cluster_number.append(n)\n",
    "    pca_km_score.append(silhouette_score(X_pca_projected, kmean.labels_, metric='euclidean'))\n",
    "\n",
    "plt.figure(figsize=(10, 5))\n",
    "plt.plot(pca_km_cluster_number, pca_km_score, color=\"skyblue\", lw=2)\n",
    "plt.xlabel(\"Nombre de cluster\")\n",
    "plt.ylabel(\"Score de silhouette\")\n",
    "plt.title(\"PCA Kmean\")\n",
    "plt.tight_layout()\n",
    "plt.show()\n"
   ]
  },
  {
   "cell_type": "markdown",
   "metadata": {},
   "source": [
    "##### 5.1.2.2 - Clustering Hierarchique"
   ]
  },
  {
   "cell_type": "code",
   "execution_count": 23,
   "metadata": {},
   "outputs": [
    {
     "data": {
      "image/png": "[encoded data removed]",
      "text/plain": [
       "<Figure size 720x360 with 1 Axes>"
      ]
     },
     "metadata": {
      "needs_background": "light"
     },
     "output_type": "display_data"
    }
   ],
   "source": [
    "pca_hier_cluster_number = []\n",
    "pca_hier_score = []\n",
    "for n in range(2, 25):\n",
    "    clust_hier = AgglomerativeClustering(n_clusters=n)\n",
    "    clust_hier.fit(X_pca_projected)\n",
    "    pca_hier_cluster_number.append(n)\n",
    "    pca_hier_score.append(silhouette_score(X_pca_projected, clust_hier.labels_, metric=\"euclidean\"))\n",
    "\n",
    "plt.figure(figsize=(10, 5))\n",
    "plt.plot(pca_hier_cluster_number, pca_hier_score, color=\"skyblue\", lw=2)\n",
    "plt.xlabel(\"Nombre de cluster\")\n",
    "plt.ylabel(\"Score de silhouette\")\n",
    "plt.title(\"PCA Clustering Hierarchique\")\n",
    "plt.tight_layout()\n",
    "plt.show()"
   ]
  },
  {
   "cell_type": "markdown",
   "metadata": {},
   "source": [
    "### 5.2 -  Kernel PCA\n",
    "#### 5.2.1 - Decomposition et projection"
   ]
  },
  {
   "cell_type": "code",
   "execution_count": 24,
   "metadata": {},
   "outputs": [
    {
     "data": {
      "text/plain": [
       "KernelPCA(alpha=1.0, coef0=1, copy_X=True, degree=3, eigen_solver='auto',\n",
       "          fit_inverse_transform=False, gamma=None, kernel='cosine',\n",
       "          kernel_params=None, max_iter=None, n_components=101, n_jobs=None,\n",
       "          random_state=None, remove_zero_eig=False, tol=0)"
      ]
     },
     "execution_count": 24,
     "metadata": {},
     "output_type": "execute_result"
    }
   ],
   "source": [
    "kpca = decomposition.KernelPCA(n_components=101, kernel=\"cosine\")\n",
    "kpca.fit(X)"
   ]
  },
  {
   "cell_type": "code",
   "execution_count": 25,
   "metadata": {},
   "outputs": [
    {
     "data": {
      "image/png": "[encoded data removed]",
      "text/plain": [
       "<Figure size 720x360 with 1 Axes>"
      ]
     },
     "metadata": {
      "needs_background": "light"
     },
     "output_type": "display_data"
    }
   ],
   "source": [
    "components = range(1, len(kpca.lambdas_)+1)\n",
    "plt.figure(figsize=(10, 5))\n",
    "plt.plot(components, kpca.lambdas_*100, color='skyblue', lw=2)\n",
    "plt.xlabel('Nombre de composantes', fontsize=12)\n",
    "plt.ylabel('AgainValues', fontsize=12)\n",
    "plt.title('KernelPCA - part de variance expliquée par composantes')\n",
    "plt.tight_layout()\n",
    "plt.show()"
   ]
  },
  {
   "cell_type": "code",
   "execution_count": 26,
   "metadata": {},
   "outputs": [],
   "source": [
    "kpca = decomposition.KernelPCA(n_components=10, kernel=\"cosine\")\n",
    "kpca.fit(X)\n",
    "\n",
    "X_kpca_projected = kpca.transform(X)"
   ]
  },
  {
   "cell_type": "markdown",
   "metadata": {},
   "source": [
    "#### 5.2.2 - Clustering\n",
    "##### 5.2.2.1 - K-means"
   ]
  },
  {
   "cell_type": "code",
   "execution_count": 27,
   "metadata": {},
   "outputs": [
    {
     "data": {
      "image/png": "[encoded data removed]",
      "text/plain": [
       "<Figure size 720x360 with 1 Axes>"
      ]
     },
     "metadata": {
      "needs_background": "light"
     },
     "output_type": "display_data"
    }
   ],
   "source": [
    "kpca_km_cluster_number = []\n",
    "kpca_km_score = []\n",
    "for n in range(2, 25):\n",
    "    kmean = KMeans(n_clusters=n, n_init=100, max_iter=3000)\n",
    "    kmean.fit(X_kpca_projected)\n",
    "    kpca_km_cluster_number.append(n)\n",
    "    kpca_km_score.append(silhouette_score(X_kpca_projected, kmean.labels_, metric='euclidean'))\n",
    "\n",
    "plt.figure(figsize=(10, 5))\n",
    "plt.plot(kpca_km_cluster_number, kpca_km_score, color=\"skyblue\", lw=2)\n",
    "plt.xlabel(\"Nombre de cluster\")\n",
    "plt.ylabel(\"Score de silhouette\")\n",
    "plt.title(\"KernelPCA Kmean\")\n",
    "plt.tight_layout()\n",
    "plt.show()"
   ]
  },
  {
   "cell_type": "markdown",
   "metadata": {},
   "source": [
    "##### 5.2.2.2 - Clustering Hierarchique"
   ]
  },
  {
   "cell_type": "code",
   "execution_count": 28,
   "metadata": {},
   "outputs": [
    {
     "data": {
      "image/png": "[encoded data removed]",
      "text/plain": [
       "<Figure size 720x360 with 1 Axes>"
      ]
     },
     "metadata": {
      "needs_background": "light"
     },
     "output_type": "display_data"
    }
   ],
   "source": [
    "kpca_hier_cluster_number = []\n",
    "kpca_hier_score = []\n",
    "for n in range(2, 25):\n",
    "    clust_hier = AgglomerativeClustering(n_clusters=n)\n",
    "    clust_hier.fit(X_kpca_projected)\n",
    "    kpca_hier_cluster_number.append(n)\n",
    "    kpca_hier_score.append(silhouette_score(X_kpca_projected, clust_hier.labels_, metric=\"euclidean\"))\n",
    "\n",
    "plt.figure(figsize=(10, 5))\n",
    "plt.plot(kpca_hier_cluster_number, kpca_hier_score, color=\"skyblue\", lw=2)\n",
    "plt.xlabel(\"Nombre de cluster\")\n",
    "plt.ylabel(\"Score de silhouette\")\n",
    "plt.title(\"KernelPCA Clustering Hierarchique\")\n",
    "plt.tight_layout()\n",
    "plt.show()"
   ]
  },
  {
   "cell_type": "markdown",
   "metadata": {},
   "source": [
    "### 5.3 - T-SNE\n",
    "#### 5.3.1 - Decomposition et projection"
   ]
  },
  {
   "cell_type": "code",
   "execution_count": 29,
   "metadata": {},
   "outputs": [],
   "source": [
    "tsne = manifold.TSNE(n_components=2, perplexity=30, n_iter=3000, random_state=0)\n",
    "X_tsne = tsne.fit_transform(X)"
   ]
  },
  {
   "cell_type": "code",
   "execution_count": 30,
   "metadata": {},
   "outputs": [
    {
     "data": {
      "image/png": "[encoded data removed]",
      "text/plain": [
       "<Figure size 720x360 with 1 Axes>"
      ]
     },
     "metadata": {
      "needs_background": "light"
     },
     "output_type": "display_data"
    }
   ],
   "source": [
    "plt.figure(figsize=(10, 5))\n",
    "plt.scatter(X_tsne[:, 0], X_tsne[:, 1], s=0.5)\n",
    "plt.tight_layout()\n",
    "plt.show()"
   ]
  },
  {
   "cell_type": "markdown",
   "metadata": {},
   "source": [
    "#### 5.3.2 - Clustering\n",
    "##### 5.3.2.1 - K-means"
   ]
  },
  {
   "cell_type": "code",
   "execution_count": 31,
   "metadata": {},
   "outputs": [
    {
     "data": {
      "image/png": "[encoded data removed]",
      "text/plain": [
       "<Figure size 720x360 with 1 Axes>"
      ]
     },
     "metadata": {
      "needs_background": "light"
     },
     "output_type": "display_data"
    }
   ],
   "source": [
    "tsne_km_cluster_number = []\n",
    "tsne_km_score = []\n",
    "for n in range(2, 25):\n",
    "    kmean = KMeans(n_clusters=n, n_init=100, max_iter=3000)\n",
    "    kmean.fit(X_tsne)\n",
    "    tsne_km_cluster_number.append(n)\n",
    "    tsne_km_score.append(silhouette_score(X_tsne, kmean.labels_, metric='euclidean'))\n",
    "\n",
    "plt.figure(figsize=(10, 5))\n",
    "plt.plot(tsne_km_cluster_number, tsne_km_score, color=\"skyblue\", lw=2)\n",
    "plt.xlabel(\"Nombre de cluster\")\n",
    "plt.ylabel(\"Score de silhouette\")\n",
    "plt.title(\"TSNE Kmean\")\n",
    "plt.tight_layout()\n",
    "plt.show()"
   ]
  },
  {
   "cell_type": "markdown",
   "metadata": {},
   "source": [
    "##### 5.3.2.2 - Clustering Hierarchique"
   ]
  },
  {
   "cell_type": "code",
   "execution_count": 32,
   "metadata": {},
   "outputs": [
    {
     "data": {
      "image/png": "[encoded data removed]",
      "text/plain": [
       "<Figure size 720x360 with 1 Axes>"
      ]
     },
     "metadata": {
      "needs_background": "light"
     },
     "output_type": "display_data"
    }
   ],
   "source": [
    "tsne_hier_cluster_number = []\n",
    "tsne_hier_score = []\n",
    "for n in range(2, 25):\n",
    "    clust_hier = AgglomerativeClustering(n_clusters=n)\n",
    "    clust_hier.fit(X_tsne)\n",
    "    tsne_hier_cluster_number.append(n)\n",
    "    tsne_hier_score.append(silhouette_score(X_tsne, clust_hier.labels_, metric=\"euclidean\"))\n",
    "\n",
    "plt.figure(figsize=(10, 5))\n",
    "plt.plot(tsne_hier_cluster_number, tsne_hier_score, color=\"skyblue\", lw=2)\n",
    "plt.xlabel(\"Nombre de cluster\")\n",
    "plt.ylabel(\"Score de silhouette\")\n",
    "plt.title(\"TSNE Clustering Hierarchique\")\n",
    "plt.tight_layout()\n",
    "plt.show()"
   ]
  },
  {
   "cell_type": "markdown",
   "metadata": {},
   "source": [
    "### 5.4 - MDS\n",
    "#### 5.4.1 - Decomposition et projection"
   ]
  },
  {
   "cell_type": "code",
   "execution_count": 33,
   "metadata": {},
   "outputs": [
    {
     "data": {
      "text/plain": [
       "numpy.ndarray"
      ]
     },
     "execution_count": 33,
     "metadata": {},
     "output_type": "execute_result"
    }
   ],
   "source": [
    "mds = manifold.MDS(n_components=2, n_jobs=-1)\n",
    "X_mds = mds.fit_transform(X)"
   ]
  },
  {
   "cell_type": "markdown",
   "metadata": {},
   "source": [
    "#### 5.4.2 - Clustering\n",
    "##### 5.4.2.1 - K-means"
   ]
  },
  {
   "cell_type": "code",
   "execution_count": 34,
   "metadata": {},
   "outputs": [
    {
     "data": {
      "image/png": "[encoded data removed]",
      "text/plain": [
       "<Figure size 720x360 with 1 Axes>"
      ]
     },
     "metadata": {
      "needs_background": "light"
     },
     "output_type": "display_data"
    }
   ],
   "source": [
    "mds_km_cluster_number = []\n",
    "mds_km_score = []\n",
    "for n in range(2, 25):\n",
    "    kmean = KMeans(n_clusters=n, n_init=100, max_iter=3000)\n",
    "    kmean.fit(X_mds)\n",
    "    mds_km_cluster_number.append(n)\n",
    "    mds_km_score.append(silhouette_score(X_mds, kmean.labels_, metric='euclidean'))\n",
    "\n",
    "plt.figure(figsize=(10, 5))\n",
    "plt.plot(mds_km_cluster_number, mds_km_score, color=\"skyblue\", lw=2)\n",
    "plt.xlabel(\"Nombre de cluster\")\n",
    "plt.ylabel(\"Score de silhouette\")\n",
    "plt.title(\"MDS Kmean\")\n",
    "plt.tight_layout()\n",
    "plt.show()"
   ]
  },
  {
   "cell_type": "markdown",
   "metadata": {},
   "source": [
    "##### 5.4.2.2 - Clustering Hierarchique"
   ]
  },
  {
   "cell_type": "code",
   "execution_count": 35,
   "metadata": {},
   "outputs": [
    {
     "data": {
      "image/png": "[encoded data removed]",
      "text/plain": [
       "<Figure size 720x360 with 1 Axes>"
      ]
     },
     "metadata": {
      "needs_background": "light"
     },
     "output_type": "display_data"
    }
   ],
   "source": [
    "mds_hier_cluster_number = []\n",
    "mds_hier_score = []\n",
    "for n in range(2, 25):\n",
    "    clust_hier = AgglomerativeClustering(n_clusters=n)\n",
    "    clust_hier.fit(X_mds)\n",
    "    mds_hier_cluster_number.append(n)\n",
    "    mds_hier_score.append(silhouette_score(X_mds, clust_hier.labels_, metric=\"euclidean\"))\n",
    "\n",
    "plt.figure(figsize=(10, 5))\n",
    "plt.plot(mds_hier_cluster_number, mds_hier_score, color=\"skyblue\", lw=2)\n",
    "plt.xlabel(\"Nombre de cluster\")\n",
    "plt.ylabel(\"Score de silhouette\")\n",
    "plt.title(\"MDS Clustering Hierarchique\")\n",
    "plt.tight_layout()\n",
    "plt.show()"
   ]
  },
  {
   "cell_type": "markdown",
   "metadata": {},
   "source": [
    "### 5.5 - ISO Map\n",
    "#### 5.5.1 - Decomposition et projection"
   ]
  },
  {
   "cell_type": "code",
   "execution_count": 36,
   "metadata": {},
   "outputs": [],
   "source": [
    "isomap = manifold.Isomap(n_components=2, n_jobs=-1)\n",
    "X_isomap = isomap.fit_transform(X)"
   ]
  },
  {
   "cell_type": "markdown",
   "metadata": {},
   "source": [
    "#### 5.5.2 - Clustering\n",
    "##### 5.5.2.1 - K-means"
   ]
  },
  {
   "cell_type": "code",
   "execution_count": 37,
   "metadata": {},
   "outputs": [
    {
     "data": {
      "image/png": "[encoded data removed]",
      "text/plain": [
       "<Figure size 720x360 with 1 Axes>"
      ]
     },
     "metadata": {
      "needs_background": "light"
     },
     "output_type": "display_data"
    }
   ],
   "source": [
    "iso_km_cluster_number = []\n",
    "iso_km_score = []\n",
    "for n in range(2, 25):\n",
    "    kmean = KMeans(n_clusters=n, n_init=100, max_iter=3000)\n",
    "    kmean.fit(X_isomap)\n",
    "    iso_km_cluster_number.append(n)\n",
    "    iso_km_score.append(silhouette_score(X_isomap, kmean.labels_, metric='euclidean'))\n",
    "\n",
    "plt.figure(figsize=(10, 5))\n",
    "plt.plot(iso_km_cluster_number, iso_km_score, color=\"skyblue\", lw=2)\n",
    "plt.xlabel(\"Nombre de cluster\")\n",
    "plt.ylabel(\"Score de silhouette\")\n",
    "plt.title(\"ISOMap Kmean\")\n",
    "plt.tight_layout()\n",
    "plt.show()"
   ]
  },
  {
   "cell_type": "markdown",
   "metadata": {},
   "source": [
    "##### 5.5.2.2 - Clustering Hierarchique"
   ]
  },
  {
   "cell_type": "code",
   "execution_count": 38,
   "metadata": {},
   "outputs": [
    {
     "data": {
      "image/png": "[encoded data removed]",
      "text/plain": [
       "<Figure size 720x360 with 1 Axes>"
      ]
     },
     "metadata": {
      "needs_background": "light"
     },
     "output_type": "display_data"
    }
   ],
   "source": [
    "iso_hier_cluster_number = []\n",
    "iso_hier_score = []\n",
    "for n in range(2, 25):\n",
    "    clust_hier = AgglomerativeClustering(n_clusters=n)\n",
    "    clust_hier.fit(X_isomap)\n",
    "    iso_hier_cluster_number.append(n)\n",
    "    iso_hier_score.append(silhouette_score(X_isomap, clust_hier.labels_, metric=\"euclidean\"))\n",
    "\n",
    "plt.figure(figsize=(10, 5))\n",
    "plt.plot(iso_hier_cluster_number, iso_hier_score, color=\"skyblue\", lw=2)\n",
    "plt.xlabel(\"Nombre de cluster\")\n",
    "plt.ylabel(\"Score de silhouette\")\n",
    "plt.title(\"ISOMap Clustering Hierarchique\")\n",
    "plt.tight_layout()\n",
    "plt.show()"
   ]
  },
  {
   "cell_type": "markdown",
   "metadata": {},
   "source": [
    "## 6 - Choix du meilleur modèle"
   ]
  },
  {
   "cell_type": "code",
   "execution_count": 58,
   "metadata": {},
   "outputs": [],
   "source": [
    "# ISOMap (2 composantes) puis KMeans avec 7 Clusters\n",
    "isomap = manifold.Isomap(n_components=2, n_jobs=-1)\n",
    "X_isomap = isomap.fit_transform(X)"
   ]
  },
  {
   "cell_type": "code",
   "execution_count": 63,
   "metadata": {},
   "outputs": [],
   "source": [
    "kmean = KMeans(n_clusters=7, n_init=100, max_iter=3000)\n",
    "kmean.fit(X_isomap)\n",
    "\n",
    "data_3_months_fe['cluster'] = kmean.labels_"
   ]
  },
  {
   "cell_type": "code",
   "execution_count": 65,
   "metadata": {},
   "outputs": [
    {
     "data": {
      "text/plain": [
       "customer_unique_id\n",
       "0000f46a3911fa3c0805444483337064    4\n",
       "0005e1862207bf6ccc02e4228effd9a0    6\n",
       "00115fc7123b5310cf6d3a3aa932699e    0\n",
       "001f3c4211216384d5fe59b041ce1461    4\n",
       "002043098f10ba39a4600b6c52fbfe3c    2\n",
       "                                   ..\n",
       "ffe2dd1f3b0cbf0b5f35e818ec03c49b    4\n",
       "ffe3e199b9d0b7fb7d2d29a5b9498447    4\n",
       "ffebb6424578e7bb153322da9d65634f    4\n",
       "ffedff0547d809c90c05c2691c51f9b7    4\n",
       "ffff371b4d645b6ecea244b27531430a    5\n",
       "Name: cluster, Length: 4876, dtype: int32"
      ]
     },
     "execution_count": 65,
     "metadata": {},
     "output_type": "execute_result"
    }
   ],
   "source": [
    "data_3_months_fe['cluster']"
   ]
  },
  {
   "cell_type": "markdown",
   "metadata": {},
   "source": [
    "## 7 - Analyse du résultat de clustering"
   ]
  },
  {
   "cell_type": "code",
   "execution_count": null,
   "metadata": {},
   "outputs": [],
   "source": []
  }
 ],
 "metadata": {
  "kernelspec": {
   "display_name": "Python 3",
   "language": "python",
   "name": "python3"
  },
  "language_info": {
   "codemirror_mode": {
    "name": "ipython",
    "version": 3
   },
   "file_extension": ".py",
   "mimetype": "text/x-python",
   "name": "python",
   "nbconvert_exporter": "python",
   "pygments_lexer": "ipython3",
   "version": "3.7.4"
  }
 },
 "nbformat": 4,
 "nbformat_minor": 4
}
