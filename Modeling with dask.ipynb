{
 "cells": [
  {
   "cell_type": "markdown",
   "metadata": {},
   "source": [
    "# Clustering Client"
   ]
  },
  {
   "cell_type": "code",
   "execution_count": 1,
   "metadata": {},
   "outputs": [
    {
     "data": {
      "text/html": [
       "<table style=\"border: 2px solid white;\">\n",
       "<tr>\n",
       "<td style=\"vertical-align: top; border: 0px solid white\">\n",
       "<h3 style=\"text-align: left;\">Client</h3>\n",
       "<ul style=\"text-align: left; list-style: none; margin: 0; padding: 0;\">\n",
       "  <li><b>Scheduler: </b>tcp://127.0.0.1:50092</li>\n",
       "  <li><b>Dashboard: </b><a href='http://127.0.0.1:8787/status' target='_blank'>http://127.0.0.1:8787/status</a>\n",
       "</ul>\n",
       "</td>\n",
       "<td style=\"vertical-align: top; border: 0px solid white\">\n",
       "<h3 style=\"text-align: left;\">Cluster</h3>\n",
       "<ul style=\"text-align: left; list-style:none; margin: 0; padding: 0;\">\n",
       "  <li><b>Workers: </b>4</li>\n",
       "  <li><b>Cores: </b>4</li>\n",
       "  <li><b>Memory: </b>17.18 GB</li>\n",
       "</ul>\n",
       "</td>\n",
       "</tr>\n",
       "</table>"
      ],
      "text/plain": [
       "<Client: 'tcp://127.0.0.1:50092' processes=4 threads=4, memory=17.18 GB>"
      ]
     },
     "execution_count": 1,
     "metadata": {},
     "output_type": "execute_result"
    }
   ],
   "source": [
    "from dask.distributed import Client\n",
    "\n",
    "client = Client(\"tcp://127.0.0.1:50092\")\n",
    "client"
   ]
  },
  {
   "cell_type": "code",
   "execution_count": 2,
   "metadata": {},
   "outputs": [],
   "source": [
    "import dask.array as da\n",
    "import dask.dataframe as dd\n",
    "import pandas as pd\n",
    "import numpy as np\n",
    "from sklearn.cluster import KMeans\n",
    "from sklearn.cluster import AgglomerativeClustering\n",
    "from sklearn.cluster import DBSCAN\n",
    "from sklearn.metrics import silhouette_score\n",
    "from sklearn import decomposition\n",
    "from sklearn import manifold\n",
    "from sklearn import metrics\n",
    "from dask_ml import preprocessing\n",
    "\n",
    "import seaborn as sns\n",
    "import matplotlib.pyplot as plt\n",
    "sns.set_style(\"whitegrid\")\n",
    "%matplotlib inline"
   ]
  },
  {
   "cell_type": "markdown",
   "metadata": {},
   "source": [
    "## 1 - Import des jeux de données"
   ]
  },
  {
   "cell_type": "code",
   "execution_count": 4,
   "metadata": {},
   "outputs": [],
   "source": [
    "data_3_months = dd.read_csv(\"data/clean/data_3_months.csv\", parse_dates=[\"order_purchase_timestamp\"])\n",
    "data_6_months = dd.read_csv(\"data/clean/data_6_months.csv\", parse_dates=[\"order_purchase_timestamp\"])\n",
    "data_9_months = dd.read_csv(\"data/clean/data_9_months.csv\", parse_dates=[\"order_purchase_timestamp\"])\n",
    "data_12_months = dd.read_csv(\"data/clean/data_12_months.csv\", parse_dates=[\"order_purchase_timestamp\"])\n",
    "data_15_months = dd.read_csv(\"data/clean/data_15_months.csv\", parse_dates=[\"order_purchase_timestamp\"])\n",
    "data_18_months = dd.read_csv(\"data/clean/data_18_months.csv\", parse_dates=[\"order_purchase_timestamp\"])\n",
    "data_all = dd.read_csv(\"data/clean/data_all.csv\", parse_dates=[\"order_purchase_timestamp\"])"
   ]
  },
  {
   "cell_type": "markdown",
   "metadata": {},
   "source": [
    "## 2 - Features engineering"
   ]
  },
  {
   "cell_type": "code",
   "execution_count": 5,
   "metadata": {},
   "outputs": [],
   "source": [
    "def review(df):\n",
    "    grouped = df.groupby(\"customer_unique_id\").agg({\"review_score\": [\"count\", \"min\", \"max\", \"mean\"]})\n",
    "    grouped.columns = [\"_\".join(x) for x in grouped.columns.ravel()]\n",
    "    return grouped\n",
    "\n",
    "def value(df):\n",
    "    grouped = df.groupby(\"customer_unique_id\").agg({\n",
    "        \"payment_value\": [\"mean\", \"min\", \"max\"]})\n",
    "    grouped.columns = [\"_\".join(x) for x in grouped.columns.ravel()]\n",
    "    return grouped\n",
    "\n",
    "def payment_facility(df):\n",
    "    df_pf = df.groupby(\"customer_unique_id\").agg({\n",
    "        \"payment_installments\": \"sum\"\n",
    "    })\n",
    "    cond_mask = (df_pf[\"payment_installments\"] > 1)\n",
    "\n",
    "    df_pf[\"payment_installments\"] = df_pf[\"payment_installments\"].mask(cond=cond_mask, other=0)\n",
    "    df_pf = df_pf.rename(columns={\"payment_installments\": \"payment_facility\"})\n",
    "    return df_pf\n",
    "\n",
    "def category_transf(df):\n",
    "    df_ct = dd.get_dummies(df[[\"product_category_name\", \"customer_unique_id\"]].categorize(), columns=['product_category_name'], prefix=\"PCat\").groupby(['customer_unique_id']).sum()\n",
    "    return df_ct\n",
    "\n",
    "def state(df):\n",
    "    df_state = dd.get_dummies(df[[\"customer_state\", \"customer_unique_id\"]].categorize(), columns=[\"customer_state\"], prefix=\"CState\").groupby([\"customer_unique_id\"]).sum()\n",
    "    return df_state\n",
    "\n",
    "def payment(df):\n",
    "    df_p = dd.get_dummies(df[[\"payment_type\", \"customer_unique_id\"]].categorize(), columns=['payment_type'], prefix=\"PType\").groupby(['customer_unique_id']).sum()\n",
    "    return df_p\n",
    "\n",
    "def rfm(df):\n",
    "    df = df.compute()\n",
    "    return df.groupby(\"customer_unique_id\").agg(\n",
    "        recency=(\"order_purchase_timestamp\", lambda date: (df[\"order_purchase_timestamp\"].max() - date.max()).days),\n",
    "        frequency=(\"order_id\", \"count\"),\n",
    "        monetary=(\"payment_value\", sum))\n",
    "\n",
    "def features_engineering(df):\n",
    "    df_fe = dd.merge(rfm(df), value(df))\n",
    "    df_fe = dd.merge(df_fe, review(df))\n",
    "    df_fe = dd.merge(df_fe, payment(df))\n",
    "    df_fe = dd.merge(df_fe, state(df))\n",
    "    df_fe = dd.merge(df_fe, category_transf(df))\n",
    "    df_fe = dd.merge(df_fe, payment_facility(df))\n",
    "    return df_fe"
   ]
  },
  {
   "cell_type": "code",
   "execution_count": 5,
   "metadata": {},
   "outputs": [
    {
     "data": {
      "text/html": [
       "<div>\n",
       "<style scoped>\n",
       "    .dataframe tbody tr th:only-of-type {\n",
       "        vertical-align: middle;\n",
       "    }\n",
       "\n",
       "    .dataframe tbody tr th {\n",
       "        vertical-align: top;\n",
       "    }\n",
       "\n",
       "    .dataframe thead th {\n",
       "        text-align: right;\n",
       "    }\n",
       "</style>\n",
       "<table border=\"1\" class=\"dataframe\">\n",
       "  <thead>\n",
       "    <tr style=\"text-align: right;\">\n",
       "      <th></th>\n",
       "      <th>recency</th>\n",
       "      <th>frequency</th>\n",
       "      <th>monetary</th>\n",
       "      <th>payment_value_mean</th>\n",
       "      <th>payment_value_min</th>\n",
       "      <th>payment_value_max</th>\n",
       "      <th>review_score_count</th>\n",
       "      <th>review_score_min</th>\n",
       "      <th>review_score_max</th>\n",
       "      <th>review_score_mean</th>\n",
       "      <th>...</th>\n",
       "      <th>PCat_fashion_underwear_beach</th>\n",
       "      <th>PCat_books_technical</th>\n",
       "      <th>PCat_dvds_blu_ray</th>\n",
       "      <th>PCat_security_and_services</th>\n",
       "      <th>PCat_tablets_printing_image</th>\n",
       "      <th>PCat_furniture_bedroom</th>\n",
       "      <th>PCat_cine_photo</th>\n",
       "      <th>PCat_fashio_female_clothing</th>\n",
       "      <th>PCat_books_imported</th>\n",
       "      <th>payment_facility</th>\n",
       "    </tr>\n",
       "    <tr>\n",
       "      <th>customer_unique_id</th>\n",
       "      <th></th>\n",
       "      <th></th>\n",
       "      <th></th>\n",
       "      <th></th>\n",
       "      <th></th>\n",
       "      <th></th>\n",
       "      <th></th>\n",
       "      <th></th>\n",
       "      <th></th>\n",
       "      <th></th>\n",
       "      <th></th>\n",
       "      <th></th>\n",
       "      <th></th>\n",
       "      <th></th>\n",
       "      <th></th>\n",
       "      <th></th>\n",
       "      <th></th>\n",
       "      <th></th>\n",
       "      <th></th>\n",
       "      <th></th>\n",
       "      <th></th>\n",
       "    </tr>\n",
       "  </thead>\n",
       "  <tbody>\n",
       "    <tr>\n",
       "      <td>0000f46a3911fa3c0805444483337064</td>\n",
       "      <td>20</td>\n",
       "      <td>1</td>\n",
       "      <td>86.22</td>\n",
       "      <td>86.22</td>\n",
       "      <td>86.22</td>\n",
       "      <td>86.22</td>\n",
       "      <td>1</td>\n",
       "      <td>3</td>\n",
       "      <td>3</td>\n",
       "      <td>3.0</td>\n",
       "      <td>...</td>\n",
       "      <td>0</td>\n",
       "      <td>0</td>\n",
       "      <td>0</td>\n",
       "      <td>0</td>\n",
       "      <td>0</td>\n",
       "      <td>0</td>\n",
       "      <td>0</td>\n",
       "      <td>0</td>\n",
       "      <td>0</td>\n",
       "      <td>0</td>\n",
       "    </tr>\n",
       "    <tr>\n",
       "      <td>0005e1862207bf6ccc02e4228effd9a0</td>\n",
       "      <td>26</td>\n",
       "      <td>1</td>\n",
       "      <td>150.12</td>\n",
       "      <td>150.12</td>\n",
       "      <td>150.12</td>\n",
       "      <td>150.12</td>\n",
       "      <td>1</td>\n",
       "      <td>4</td>\n",
       "      <td>4</td>\n",
       "      <td>4.0</td>\n",
       "      <td>...</td>\n",
       "      <td>0</td>\n",
       "      <td>0</td>\n",
       "      <td>0</td>\n",
       "      <td>0</td>\n",
       "      <td>0</td>\n",
       "      <td>0</td>\n",
       "      <td>0</td>\n",
       "      <td>0</td>\n",
       "      <td>0</td>\n",
       "      <td>0</td>\n",
       "    </tr>\n",
       "    <tr>\n",
       "      <td>00115fc7123b5310cf6d3a3aa932699e</td>\n",
       "      <td>68</td>\n",
       "      <td>1</td>\n",
       "      <td>76.11</td>\n",
       "      <td>76.11</td>\n",
       "      <td>76.11</td>\n",
       "      <td>76.11</td>\n",
       "      <td>1</td>\n",
       "      <td>4</td>\n",
       "      <td>4</td>\n",
       "      <td>4.0</td>\n",
       "      <td>...</td>\n",
       "      <td>0</td>\n",
       "      <td>0</td>\n",
       "      <td>0</td>\n",
       "      <td>0</td>\n",
       "      <td>0</td>\n",
       "      <td>0</td>\n",
       "      <td>0</td>\n",
       "      <td>0</td>\n",
       "      <td>0</td>\n",
       "      <td>1</td>\n",
       "    </tr>\n",
       "    <tr>\n",
       "      <td>001f3c4211216384d5fe59b041ce1461</td>\n",
       "      <td>11</td>\n",
       "      <td>1</td>\n",
       "      <td>35.84</td>\n",
       "      <td>35.84</td>\n",
       "      <td>35.84</td>\n",
       "      <td>35.84</td>\n",
       "      <td>1</td>\n",
       "      <td>3</td>\n",
       "      <td>3</td>\n",
       "      <td>3.0</td>\n",
       "      <td>...</td>\n",
       "      <td>0</td>\n",
       "      <td>0</td>\n",
       "      <td>0</td>\n",
       "      <td>0</td>\n",
       "      <td>0</td>\n",
       "      <td>0</td>\n",
       "      <td>0</td>\n",
       "      <td>0</td>\n",
       "      <td>0</td>\n",
       "      <td>0</td>\n",
       "    </tr>\n",
       "    <tr>\n",
       "      <td>002043098f10ba39a4600b6c52fbfe3c</td>\n",
       "      <td>4</td>\n",
       "      <td>1</td>\n",
       "      <td>237.81</td>\n",
       "      <td>237.81</td>\n",
       "      <td>237.81</td>\n",
       "      <td>237.81</td>\n",
       "      <td>1</td>\n",
       "      <td>4</td>\n",
       "      <td>4</td>\n",
       "      <td>4.0</td>\n",
       "      <td>...</td>\n",
       "      <td>0</td>\n",
       "      <td>0</td>\n",
       "      <td>0</td>\n",
       "      <td>0</td>\n",
       "      <td>0</td>\n",
       "      <td>0</td>\n",
       "      <td>0</td>\n",
       "      <td>0</td>\n",
       "      <td>0</td>\n",
       "      <td>0</td>\n",
       "    </tr>\n",
       "  </tbody>\n",
       "</table>\n",
       "<p>5 rows × 101 columns</p>\n",
       "</div>"
      ],
      "text/plain": [
       "                                  recency  frequency  monetary  \\\n",
       "customer_unique_id                                               \n",
       "0000f46a3911fa3c0805444483337064       20          1     86.22   \n",
       "0005e1862207bf6ccc02e4228effd9a0       26          1    150.12   \n",
       "00115fc7123b5310cf6d3a3aa932699e       68          1     76.11   \n",
       "001f3c4211216384d5fe59b041ce1461       11          1     35.84   \n",
       "002043098f10ba39a4600b6c52fbfe3c        4          1    237.81   \n",
       "\n",
       "                                  payment_value_mean  payment_value_min  \\\n",
       "customer_unique_id                                                        \n",
       "0000f46a3911fa3c0805444483337064               86.22              86.22   \n",
       "0005e1862207bf6ccc02e4228effd9a0              150.12             150.12   \n",
       "00115fc7123b5310cf6d3a3aa932699e               76.11              76.11   \n",
       "001f3c4211216384d5fe59b041ce1461               35.84              35.84   \n",
       "002043098f10ba39a4600b6c52fbfe3c              237.81             237.81   \n",
       "\n",
       "                                  payment_value_max  review_score_count  \\\n",
       "customer_unique_id                                                        \n",
       "0000f46a3911fa3c0805444483337064              86.22                   1   \n",
       "0005e1862207bf6ccc02e4228effd9a0             150.12                   1   \n",
       "00115fc7123b5310cf6d3a3aa932699e              76.11                   1   \n",
       "001f3c4211216384d5fe59b041ce1461              35.84                   1   \n",
       "002043098f10ba39a4600b6c52fbfe3c             237.81                   1   \n",
       "\n",
       "                                  review_score_min  review_score_max  \\\n",
       "customer_unique_id                                                     \n",
       "0000f46a3911fa3c0805444483337064                 3                 3   \n",
       "0005e1862207bf6ccc02e4228effd9a0                 4                 4   \n",
       "00115fc7123b5310cf6d3a3aa932699e                 4                 4   \n",
       "001f3c4211216384d5fe59b041ce1461                 3                 3   \n",
       "002043098f10ba39a4600b6c52fbfe3c                 4                 4   \n",
       "\n",
       "                                  review_score_mean  ...  \\\n",
       "customer_unique_id                                   ...   \n",
       "0000f46a3911fa3c0805444483337064                3.0  ...   \n",
       "0005e1862207bf6ccc02e4228effd9a0                4.0  ...   \n",
       "00115fc7123b5310cf6d3a3aa932699e                4.0  ...   \n",
       "001f3c4211216384d5fe59b041ce1461                3.0  ...   \n",
       "002043098f10ba39a4600b6c52fbfe3c                4.0  ...   \n",
       "\n",
       "                                  PCat_fashion_underwear_beach  \\\n",
       "customer_unique_id                                               \n",
       "0000f46a3911fa3c0805444483337064                             0   \n",
       "0005e1862207bf6ccc02e4228effd9a0                             0   \n",
       "00115fc7123b5310cf6d3a3aa932699e                             0   \n",
       "001f3c4211216384d5fe59b041ce1461                             0   \n",
       "002043098f10ba39a4600b6c52fbfe3c                             0   \n",
       "\n",
       "                                  PCat_books_technical  PCat_dvds_blu_ray  \\\n",
       "customer_unique_id                                                          \n",
       "0000f46a3911fa3c0805444483337064                     0                  0   \n",
       "0005e1862207bf6ccc02e4228effd9a0                     0                  0   \n",
       "00115fc7123b5310cf6d3a3aa932699e                     0                  0   \n",
       "001f3c4211216384d5fe59b041ce1461                     0                  0   \n",
       "002043098f10ba39a4600b6c52fbfe3c                     0                  0   \n",
       "\n",
       "                                  PCat_security_and_services  \\\n",
       "customer_unique_id                                             \n",
       "0000f46a3911fa3c0805444483337064                           0   \n",
       "0005e1862207bf6ccc02e4228effd9a0                           0   \n",
       "00115fc7123b5310cf6d3a3aa932699e                           0   \n",
       "001f3c4211216384d5fe59b041ce1461                           0   \n",
       "002043098f10ba39a4600b6c52fbfe3c                           0   \n",
       "\n",
       "                                  PCat_tablets_printing_image  \\\n",
       "customer_unique_id                                              \n",
       "0000f46a3911fa3c0805444483337064                            0   \n",
       "0005e1862207bf6ccc02e4228effd9a0                            0   \n",
       "00115fc7123b5310cf6d3a3aa932699e                            0   \n",
       "001f3c4211216384d5fe59b041ce1461                            0   \n",
       "002043098f10ba39a4600b6c52fbfe3c                            0   \n",
       "\n",
       "                                  PCat_furniture_bedroom  PCat_cine_photo  \\\n",
       "customer_unique_id                                                          \n",
       "0000f46a3911fa3c0805444483337064                       0                0   \n",
       "0005e1862207bf6ccc02e4228effd9a0                       0                0   \n",
       "00115fc7123b5310cf6d3a3aa932699e                       0                0   \n",
       "001f3c4211216384d5fe59b041ce1461                       0                0   \n",
       "002043098f10ba39a4600b6c52fbfe3c                       0                0   \n",
       "\n",
       "                                  PCat_fashio_female_clothing  \\\n",
       "customer_unique_id                                              \n",
       "0000f46a3911fa3c0805444483337064                            0   \n",
       "0005e1862207bf6ccc02e4228effd9a0                            0   \n",
       "00115fc7123b5310cf6d3a3aa932699e                            0   \n",
       "001f3c4211216384d5fe59b041ce1461                            0   \n",
       "002043098f10ba39a4600b6c52fbfe3c                            0   \n",
       "\n",
       "                                  PCat_books_imported  payment_facility  \n",
       "customer_unique_id                                                       \n",
       "0000f46a3911fa3c0805444483337064                    0                 0  \n",
       "0005e1862207bf6ccc02e4228effd9a0                    0                 0  \n",
       "00115fc7123b5310cf6d3a3aa932699e                    0                 1  \n",
       "001f3c4211216384d5fe59b041ce1461                    0                 0  \n",
       "002043098f10ba39a4600b6c52fbfe3c                    0                 0  \n",
       "\n",
       "[5 rows x 101 columns]"
      ]
     },
     "execution_count": 5,
     "metadata": {},
     "output_type": "execute_result"
    }
   ],
   "source": [
    "data_3_months_fe = features_engineering(data_3_months).compute()\n",
    "data_3_months_fe.head()"
   ]
  },
  {
   "cell_type": "code",
   "execution_count": 6,
   "metadata": {},
   "outputs": [
    {
     "data": {
      "text/html": [
       "<div>\n",
       "<style scoped>\n",
       "    .dataframe tbody tr th:only-of-type {\n",
       "        vertical-align: middle;\n",
       "    }\n",
       "\n",
       "    .dataframe tbody tr th {\n",
       "        vertical-align: top;\n",
       "    }\n",
       "\n",
       "    .dataframe thead th {\n",
       "        text-align: right;\n",
       "    }\n",
       "</style>\n",
       "<table border=\"1\" class=\"dataframe\">\n",
       "  <thead>\n",
       "    <tr style=\"text-align: right;\">\n",
       "      <th></th>\n",
       "      <th>recency</th>\n",
       "      <th>frequency</th>\n",
       "      <th>monetary</th>\n",
       "      <th>payment_value_mean</th>\n",
       "      <th>payment_value_min</th>\n",
       "      <th>payment_value_max</th>\n",
       "      <th>review_score_count</th>\n",
       "      <th>review_score_min</th>\n",
       "      <th>review_score_max</th>\n",
       "      <th>review_score_mean</th>\n",
       "      <th>...</th>\n",
       "      <th>PCat_books_technical</th>\n",
       "      <th>PCat_dvds_blu_ray</th>\n",
       "      <th>PCat_security_and_services</th>\n",
       "      <th>PCat_tablets_printing_image</th>\n",
       "      <th>PCat_furniture_bedroom</th>\n",
       "      <th>PCat_cine_photo</th>\n",
       "      <th>PCat_fashio_female_clothing</th>\n",
       "      <th>PCat_books_imported</th>\n",
       "      <th>PCat_la_cuisine</th>\n",
       "      <th>payment_facility</th>\n",
       "    </tr>\n",
       "    <tr>\n",
       "      <th>customer_unique_id</th>\n",
       "      <th></th>\n",
       "      <th></th>\n",
       "      <th></th>\n",
       "      <th></th>\n",
       "      <th></th>\n",
       "      <th></th>\n",
       "      <th></th>\n",
       "      <th></th>\n",
       "      <th></th>\n",
       "      <th></th>\n",
       "      <th></th>\n",
       "      <th></th>\n",
       "      <th></th>\n",
       "      <th></th>\n",
       "      <th></th>\n",
       "      <th></th>\n",
       "      <th></th>\n",
       "      <th></th>\n",
       "      <th></th>\n",
       "      <th></th>\n",
       "      <th></th>\n",
       "    </tr>\n",
       "  </thead>\n",
       "  <tbody>\n",
       "    <tr>\n",
       "      <td>0000f46a3911fa3c0805444483337064</td>\n",
       "      <td>111</td>\n",
       "      <td>1</td>\n",
       "      <td>86.22</td>\n",
       "      <td>86.22</td>\n",
       "      <td>86.22</td>\n",
       "      <td>86.22</td>\n",
       "      <td>1</td>\n",
       "      <td>3</td>\n",
       "      <td>3</td>\n",
       "      <td>3.0</td>\n",
       "      <td>...</td>\n",
       "      <td>0</td>\n",
       "      <td>0</td>\n",
       "      <td>0</td>\n",
       "      <td>0</td>\n",
       "      <td>0</td>\n",
       "      <td>0</td>\n",
       "      <td>0</td>\n",
       "      <td>0</td>\n",
       "      <td>0</td>\n",
       "      <td>0</td>\n",
       "    </tr>\n",
       "    <tr>\n",
       "      <td>0005e1862207bf6ccc02e4228effd9a0</td>\n",
       "      <td>116</td>\n",
       "      <td>1</td>\n",
       "      <td>150.12</td>\n",
       "      <td>150.12</td>\n",
       "      <td>150.12</td>\n",
       "      <td>150.12</td>\n",
       "      <td>1</td>\n",
       "      <td>4</td>\n",
       "      <td>4</td>\n",
       "      <td>4.0</td>\n",
       "      <td>...</td>\n",
       "      <td>0</td>\n",
       "      <td>0</td>\n",
       "      <td>0</td>\n",
       "      <td>0</td>\n",
       "      <td>0</td>\n",
       "      <td>0</td>\n",
       "      <td>0</td>\n",
       "      <td>0</td>\n",
       "      <td>0</td>\n",
       "      <td>0</td>\n",
       "    </tr>\n",
       "    <tr>\n",
       "      <td>00115fc7123b5310cf6d3a3aa932699e</td>\n",
       "      <td>159</td>\n",
       "      <td>1</td>\n",
       "      <td>76.11</td>\n",
       "      <td>76.11</td>\n",
       "      <td>76.11</td>\n",
       "      <td>76.11</td>\n",
       "      <td>1</td>\n",
       "      <td>4</td>\n",
       "      <td>4</td>\n",
       "      <td>4.0</td>\n",
       "      <td>...</td>\n",
       "      <td>0</td>\n",
       "      <td>0</td>\n",
       "      <td>0</td>\n",
       "      <td>0</td>\n",
       "      <td>0</td>\n",
       "      <td>0</td>\n",
       "      <td>0</td>\n",
       "      <td>0</td>\n",
       "      <td>0</td>\n",
       "      <td>1</td>\n",
       "    </tr>\n",
       "    <tr>\n",
       "      <td>0011805441c0d1b68b48002f1d005526</td>\n",
       "      <td>66</td>\n",
       "      <td>1</td>\n",
       "      <td>297.14</td>\n",
       "      <td>297.14</td>\n",
       "      <td>297.14</td>\n",
       "      <td>297.14</td>\n",
       "      <td>1</td>\n",
       "      <td>3</td>\n",
       "      <td>3</td>\n",
       "      <td>3.0</td>\n",
       "      <td>...</td>\n",
       "      <td>0</td>\n",
       "      <td>0</td>\n",
       "      <td>0</td>\n",
       "      <td>0</td>\n",
       "      <td>0</td>\n",
       "      <td>0</td>\n",
       "      <td>0</td>\n",
       "      <td>0</td>\n",
       "      <td>0</td>\n",
       "      <td>0</td>\n",
       "    </tr>\n",
       "    <tr>\n",
       "      <td>0011857aff0e5871ce5eb429f21cdaf5</td>\n",
       "      <td>1</td>\n",
       "      <td>1</td>\n",
       "      <td>192.83</td>\n",
       "      <td>192.83</td>\n",
       "      <td>192.83</td>\n",
       "      <td>192.83</td>\n",
       "      <td>1</td>\n",
       "      <td>5</td>\n",
       "      <td>5</td>\n",
       "      <td>5.0</td>\n",
       "      <td>...</td>\n",
       "      <td>0</td>\n",
       "      <td>0</td>\n",
       "      <td>0</td>\n",
       "      <td>0</td>\n",
       "      <td>0</td>\n",
       "      <td>0</td>\n",
       "      <td>0</td>\n",
       "      <td>0</td>\n",
       "      <td>0</td>\n",
       "      <td>0</td>\n",
       "    </tr>\n",
       "  </tbody>\n",
       "</table>\n",
       "<p>5 rows × 107 columns</p>\n",
       "</div>"
      ],
      "text/plain": [
       "                                  recency  frequency  monetary  \\\n",
       "customer_unique_id                                               \n",
       "0000f46a3911fa3c0805444483337064      111          1     86.22   \n",
       "0005e1862207bf6ccc02e4228effd9a0      116          1    150.12   \n",
       "00115fc7123b5310cf6d3a3aa932699e      159          1     76.11   \n",
       "0011805441c0d1b68b48002f1d005526       66          1    297.14   \n",
       "0011857aff0e5871ce5eb429f21cdaf5        1          1    192.83   \n",
       "\n",
       "                                  payment_value_mean  payment_value_min  \\\n",
       "customer_unique_id                                                        \n",
       "0000f46a3911fa3c0805444483337064               86.22              86.22   \n",
       "0005e1862207bf6ccc02e4228effd9a0              150.12             150.12   \n",
       "00115fc7123b5310cf6d3a3aa932699e               76.11              76.11   \n",
       "0011805441c0d1b68b48002f1d005526              297.14             297.14   \n",
       "0011857aff0e5871ce5eb429f21cdaf5              192.83             192.83   \n",
       "\n",
       "                                  payment_value_max  review_score_count  \\\n",
       "customer_unique_id                                                        \n",
       "0000f46a3911fa3c0805444483337064              86.22                   1   \n",
       "0005e1862207bf6ccc02e4228effd9a0             150.12                   1   \n",
       "00115fc7123b5310cf6d3a3aa932699e              76.11                   1   \n",
       "0011805441c0d1b68b48002f1d005526             297.14                   1   \n",
       "0011857aff0e5871ce5eb429f21cdaf5             192.83                   1   \n",
       "\n",
       "                                  review_score_min  review_score_max  \\\n",
       "customer_unique_id                                                     \n",
       "0000f46a3911fa3c0805444483337064                 3                 3   \n",
       "0005e1862207bf6ccc02e4228effd9a0                 4                 4   \n",
       "00115fc7123b5310cf6d3a3aa932699e                 4                 4   \n",
       "0011805441c0d1b68b48002f1d005526                 3                 3   \n",
       "0011857aff0e5871ce5eb429f21cdaf5                 5                 5   \n",
       "\n",
       "                                  review_score_mean  ...  \\\n",
       "customer_unique_id                                   ...   \n",
       "0000f46a3911fa3c0805444483337064                3.0  ...   \n",
       "0005e1862207bf6ccc02e4228effd9a0                4.0  ...   \n",
       "00115fc7123b5310cf6d3a3aa932699e                4.0  ...   \n",
       "0011805441c0d1b68b48002f1d005526                3.0  ...   \n",
       "0011857aff0e5871ce5eb429f21cdaf5                5.0  ...   \n",
       "\n",
       "                                  PCat_books_technical  PCat_dvds_blu_ray  \\\n",
       "customer_unique_id                                                          \n",
       "0000f46a3911fa3c0805444483337064                     0                  0   \n",
       "0005e1862207bf6ccc02e4228effd9a0                     0                  0   \n",
       "00115fc7123b5310cf6d3a3aa932699e                     0                  0   \n",
       "0011805441c0d1b68b48002f1d005526                     0                  0   \n",
       "0011857aff0e5871ce5eb429f21cdaf5                     0                  0   \n",
       "\n",
       "                                  PCat_security_and_services  \\\n",
       "customer_unique_id                                             \n",
       "0000f46a3911fa3c0805444483337064                           0   \n",
       "0005e1862207bf6ccc02e4228effd9a0                           0   \n",
       "00115fc7123b5310cf6d3a3aa932699e                           0   \n",
       "0011805441c0d1b68b48002f1d005526                           0   \n",
       "0011857aff0e5871ce5eb429f21cdaf5                           0   \n",
       "\n",
       "                                  PCat_tablets_printing_image  \\\n",
       "customer_unique_id                                              \n",
       "0000f46a3911fa3c0805444483337064                            0   \n",
       "0005e1862207bf6ccc02e4228effd9a0                            0   \n",
       "00115fc7123b5310cf6d3a3aa932699e                            0   \n",
       "0011805441c0d1b68b48002f1d005526                            0   \n",
       "0011857aff0e5871ce5eb429f21cdaf5                            0   \n",
       "\n",
       "                                  PCat_furniture_bedroom  PCat_cine_photo  \\\n",
       "customer_unique_id                                                          \n",
       "0000f46a3911fa3c0805444483337064                       0                0   \n",
       "0005e1862207bf6ccc02e4228effd9a0                       0                0   \n",
       "00115fc7123b5310cf6d3a3aa932699e                       0                0   \n",
       "0011805441c0d1b68b48002f1d005526                       0                0   \n",
       "0011857aff0e5871ce5eb429f21cdaf5                       0                0   \n",
       "\n",
       "                                  PCat_fashio_female_clothing  \\\n",
       "customer_unique_id                                              \n",
       "0000f46a3911fa3c0805444483337064                            0   \n",
       "0005e1862207bf6ccc02e4228effd9a0                            0   \n",
       "00115fc7123b5310cf6d3a3aa932699e                            0   \n",
       "0011805441c0d1b68b48002f1d005526                            0   \n",
       "0011857aff0e5871ce5eb429f21cdaf5                            0   \n",
       "\n",
       "                                  PCat_books_imported  PCat_la_cuisine  \\\n",
       "customer_unique_id                                                       \n",
       "0000f46a3911fa3c0805444483337064                    0                0   \n",
       "0005e1862207bf6ccc02e4228effd9a0                    0                0   \n",
       "00115fc7123b5310cf6d3a3aa932699e                    0                0   \n",
       "0011805441c0d1b68b48002f1d005526                    0                0   \n",
       "0011857aff0e5871ce5eb429f21cdaf5                    0                0   \n",
       "\n",
       "                                  payment_facility  \n",
       "customer_unique_id                                  \n",
       "0000f46a3911fa3c0805444483337064                 0  \n",
       "0005e1862207bf6ccc02e4228effd9a0                 0  \n",
       "00115fc7123b5310cf6d3a3aa932699e                 1  \n",
       "0011805441c0d1b68b48002f1d005526                 0  \n",
       "0011857aff0e5871ce5eb429f21cdaf5                 0  \n",
       "\n",
       "[5 rows x 107 columns]"
      ]
     },
     "execution_count": 6,
     "metadata": {},
     "output_type": "execute_result"
    }
   ],
   "source": [
    "data_6_months_fe = features_engineering(data_6_months).compute()\n",
    "data_6_months_fe.head()"
   ]
  },
  {
   "cell_type": "code",
   "execution_count": 7,
   "metadata": {},
   "outputs": [
    {
     "data": {
      "text/html": [
       "<div>\n",
       "<style scoped>\n",
       "    .dataframe tbody tr th:only-of-type {\n",
       "        vertical-align: middle;\n",
       "    }\n",
       "\n",
       "    .dataframe tbody tr th {\n",
       "        vertical-align: top;\n",
       "    }\n",
       "\n",
       "    .dataframe thead th {\n",
       "        text-align: right;\n",
       "    }\n",
       "</style>\n",
       "<table border=\"1\" class=\"dataframe\">\n",
       "  <thead>\n",
       "    <tr style=\"text-align: right;\">\n",
       "      <th></th>\n",
       "      <th>recency</th>\n",
       "      <th>frequency</th>\n",
       "      <th>monetary</th>\n",
       "      <th>payment_value_mean</th>\n",
       "      <th>payment_value_min</th>\n",
       "      <th>payment_value_max</th>\n",
       "      <th>review_score_count</th>\n",
       "      <th>review_score_min</th>\n",
       "      <th>review_score_max</th>\n",
       "      <th>review_score_mean</th>\n",
       "      <th>...</th>\n",
       "      <th>PCat_dvds_blu_ray</th>\n",
       "      <th>PCat_cds_dvds_musicals</th>\n",
       "      <th>PCat_security_and_services</th>\n",
       "      <th>PCat_tablets_printing_image</th>\n",
       "      <th>PCat_furniture_bedroom</th>\n",
       "      <th>PCat_cine_photo</th>\n",
       "      <th>PCat_fashio_female_clothing</th>\n",
       "      <th>PCat_books_imported</th>\n",
       "      <th>PCat_la_cuisine</th>\n",
       "      <th>payment_facility</th>\n",
       "    </tr>\n",
       "    <tr>\n",
       "      <th>customer_unique_id</th>\n",
       "      <th></th>\n",
       "      <th></th>\n",
       "      <th></th>\n",
       "      <th></th>\n",
       "      <th></th>\n",
       "      <th></th>\n",
       "      <th></th>\n",
       "      <th></th>\n",
       "      <th></th>\n",
       "      <th></th>\n",
       "      <th></th>\n",
       "      <th></th>\n",
       "      <th></th>\n",
       "      <th></th>\n",
       "      <th></th>\n",
       "      <th></th>\n",
       "      <th></th>\n",
       "      <th></th>\n",
       "      <th></th>\n",
       "      <th></th>\n",
       "      <th></th>\n",
       "    </tr>\n",
       "  </thead>\n",
       "  <tbody>\n",
       "    <tr>\n",
       "      <td>0000f46a3911fa3c0805444483337064</td>\n",
       "      <td>203</td>\n",
       "      <td>1</td>\n",
       "      <td>86.22</td>\n",
       "      <td>86.22</td>\n",
       "      <td>86.22</td>\n",
       "      <td>86.22</td>\n",
       "      <td>1</td>\n",
       "      <td>3</td>\n",
       "      <td>3</td>\n",
       "      <td>3.0</td>\n",
       "      <td>...</td>\n",
       "      <td>0</td>\n",
       "      <td>0</td>\n",
       "      <td>0</td>\n",
       "      <td>0</td>\n",
       "      <td>0</td>\n",
       "      <td>0</td>\n",
       "      <td>0</td>\n",
       "      <td>0</td>\n",
       "      <td>0</td>\n",
       "      <td>0</td>\n",
       "    </tr>\n",
       "    <tr>\n",
       "      <td>0005e1862207bf6ccc02e4228effd9a0</td>\n",
       "      <td>209</td>\n",
       "      <td>1</td>\n",
       "      <td>150.12</td>\n",
       "      <td>150.12</td>\n",
       "      <td>150.12</td>\n",
       "      <td>150.12</td>\n",
       "      <td>1</td>\n",
       "      <td>4</td>\n",
       "      <td>4</td>\n",
       "      <td>4.0</td>\n",
       "      <td>...</td>\n",
       "      <td>0</td>\n",
       "      <td>0</td>\n",
       "      <td>0</td>\n",
       "      <td>0</td>\n",
       "      <td>0</td>\n",
       "      <td>0</td>\n",
       "      <td>0</td>\n",
       "      <td>0</td>\n",
       "      <td>0</td>\n",
       "      <td>0</td>\n",
       "    </tr>\n",
       "    <tr>\n",
       "      <td>0006fdc98a402fceb4eb0ee528f6a8d4</td>\n",
       "      <td>73</td>\n",
       "      <td>1</td>\n",
       "      <td>29.00</td>\n",
       "      <td>29.00</td>\n",
       "      <td>29.00</td>\n",
       "      <td>29.00</td>\n",
       "      <td>1</td>\n",
       "      <td>3</td>\n",
       "      <td>3</td>\n",
       "      <td>3.0</td>\n",
       "      <td>...</td>\n",
       "      <td>0</td>\n",
       "      <td>0</td>\n",
       "      <td>0</td>\n",
       "      <td>0</td>\n",
       "      <td>0</td>\n",
       "      <td>0</td>\n",
       "      <td>0</td>\n",
       "      <td>0</td>\n",
       "      <td>0</td>\n",
       "      <td>0</td>\n",
       "    </tr>\n",
       "    <tr>\n",
       "      <td>000a5ad9c4601d2bbdd9ed765d5213b3</td>\n",
       "      <td>49</td>\n",
       "      <td>1</td>\n",
       "      <td>91.28</td>\n",
       "      <td>91.28</td>\n",
       "      <td>91.28</td>\n",
       "      <td>91.28</td>\n",
       "      <td>1</td>\n",
       "      <td>4</td>\n",
       "      <td>4</td>\n",
       "      <td>4.0</td>\n",
       "      <td>...</td>\n",
       "      <td>0</td>\n",
       "      <td>0</td>\n",
       "      <td>0</td>\n",
       "      <td>0</td>\n",
       "      <td>0</td>\n",
       "      <td>0</td>\n",
       "      <td>0</td>\n",
       "      <td>0</td>\n",
       "      <td>0</td>\n",
       "      <td>0</td>\n",
       "    </tr>\n",
       "    <tr>\n",
       "      <td>000bfa1d2f1a41876493be685390d6d3</td>\n",
       "      <td>0</td>\n",
       "      <td>2</td>\n",
       "      <td>93.70</td>\n",
       "      <td>46.85</td>\n",
       "      <td>46.85</td>\n",
       "      <td>46.85</td>\n",
       "      <td>2</td>\n",
       "      <td>4</td>\n",
       "      <td>5</td>\n",
       "      <td>4.5</td>\n",
       "      <td>...</td>\n",
       "      <td>0</td>\n",
       "      <td>0</td>\n",
       "      <td>0</td>\n",
       "      <td>0</td>\n",
       "      <td>0</td>\n",
       "      <td>0</td>\n",
       "      <td>0</td>\n",
       "      <td>0</td>\n",
       "      <td>0</td>\n",
       "      <td>0</td>\n",
       "    </tr>\n",
       "  </tbody>\n",
       "</table>\n",
       "<p>5 rows × 111 columns</p>\n",
       "</div>"
      ],
      "text/plain": [
       "                                  recency  frequency  monetary  \\\n",
       "customer_unique_id                                               \n",
       "0000f46a3911fa3c0805444483337064      203          1     86.22   \n",
       "0005e1862207bf6ccc02e4228effd9a0      209          1    150.12   \n",
       "0006fdc98a402fceb4eb0ee528f6a8d4       73          1     29.00   \n",
       "000a5ad9c4601d2bbdd9ed765d5213b3       49          1     91.28   \n",
       "000bfa1d2f1a41876493be685390d6d3        0          2     93.70   \n",
       "\n",
       "                                  payment_value_mean  payment_value_min  \\\n",
       "customer_unique_id                                                        \n",
       "0000f46a3911fa3c0805444483337064               86.22              86.22   \n",
       "0005e1862207bf6ccc02e4228effd9a0              150.12             150.12   \n",
       "0006fdc98a402fceb4eb0ee528f6a8d4               29.00              29.00   \n",
       "000a5ad9c4601d2bbdd9ed765d5213b3               91.28              91.28   \n",
       "000bfa1d2f1a41876493be685390d6d3               46.85              46.85   \n",
       "\n",
       "                                  payment_value_max  review_score_count  \\\n",
       "customer_unique_id                                                        \n",
       "0000f46a3911fa3c0805444483337064              86.22                   1   \n",
       "0005e1862207bf6ccc02e4228effd9a0             150.12                   1   \n",
       "0006fdc98a402fceb4eb0ee528f6a8d4              29.00                   1   \n",
       "000a5ad9c4601d2bbdd9ed765d5213b3              91.28                   1   \n",
       "000bfa1d2f1a41876493be685390d6d3              46.85                   2   \n",
       "\n",
       "                                  review_score_min  review_score_max  \\\n",
       "customer_unique_id                                                     \n",
       "0000f46a3911fa3c0805444483337064                 3                 3   \n",
       "0005e1862207bf6ccc02e4228effd9a0                 4                 4   \n",
       "0006fdc98a402fceb4eb0ee528f6a8d4                 3                 3   \n",
       "000a5ad9c4601d2bbdd9ed765d5213b3                 4                 4   \n",
       "000bfa1d2f1a41876493be685390d6d3                 4                 5   \n",
       "\n",
       "                                  review_score_mean  ...  PCat_dvds_blu_ray  \\\n",
       "customer_unique_id                                   ...                      \n",
       "0000f46a3911fa3c0805444483337064                3.0  ...                  0   \n",
       "0005e1862207bf6ccc02e4228effd9a0                4.0  ...                  0   \n",
       "0006fdc98a402fceb4eb0ee528f6a8d4                3.0  ...                  0   \n",
       "000a5ad9c4601d2bbdd9ed765d5213b3                4.0  ...                  0   \n",
       "000bfa1d2f1a41876493be685390d6d3                4.5  ...                  0   \n",
       "\n",
       "                                  PCat_cds_dvds_musicals  \\\n",
       "customer_unique_id                                         \n",
       "0000f46a3911fa3c0805444483337064                       0   \n",
       "0005e1862207bf6ccc02e4228effd9a0                       0   \n",
       "0006fdc98a402fceb4eb0ee528f6a8d4                       0   \n",
       "000a5ad9c4601d2bbdd9ed765d5213b3                       0   \n",
       "000bfa1d2f1a41876493be685390d6d3                       0   \n",
       "\n",
       "                                  PCat_security_and_services  \\\n",
       "customer_unique_id                                             \n",
       "0000f46a3911fa3c0805444483337064                           0   \n",
       "0005e1862207bf6ccc02e4228effd9a0                           0   \n",
       "0006fdc98a402fceb4eb0ee528f6a8d4                           0   \n",
       "000a5ad9c4601d2bbdd9ed765d5213b3                           0   \n",
       "000bfa1d2f1a41876493be685390d6d3                           0   \n",
       "\n",
       "                                  PCat_tablets_printing_image  \\\n",
       "customer_unique_id                                              \n",
       "0000f46a3911fa3c0805444483337064                            0   \n",
       "0005e1862207bf6ccc02e4228effd9a0                            0   \n",
       "0006fdc98a402fceb4eb0ee528f6a8d4                            0   \n",
       "000a5ad9c4601d2bbdd9ed765d5213b3                            0   \n",
       "000bfa1d2f1a41876493be685390d6d3                            0   \n",
       "\n",
       "                                  PCat_furniture_bedroom  PCat_cine_photo  \\\n",
       "customer_unique_id                                                          \n",
       "0000f46a3911fa3c0805444483337064                       0                0   \n",
       "0005e1862207bf6ccc02e4228effd9a0                       0                0   \n",
       "0006fdc98a402fceb4eb0ee528f6a8d4                       0                0   \n",
       "000a5ad9c4601d2bbdd9ed765d5213b3                       0                0   \n",
       "000bfa1d2f1a41876493be685390d6d3                       0                0   \n",
       "\n",
       "                                  PCat_fashio_female_clothing  \\\n",
       "customer_unique_id                                              \n",
       "0000f46a3911fa3c0805444483337064                            0   \n",
       "0005e1862207bf6ccc02e4228effd9a0                            0   \n",
       "0006fdc98a402fceb4eb0ee528f6a8d4                            0   \n",
       "000a5ad9c4601d2bbdd9ed765d5213b3                            0   \n",
       "000bfa1d2f1a41876493be685390d6d3                            0   \n",
       "\n",
       "                                  PCat_books_imported  PCat_la_cuisine  \\\n",
       "customer_unique_id                                                       \n",
       "0000f46a3911fa3c0805444483337064                    0                0   \n",
       "0005e1862207bf6ccc02e4228effd9a0                    0                0   \n",
       "0006fdc98a402fceb4eb0ee528f6a8d4                    0                0   \n",
       "000a5ad9c4601d2bbdd9ed765d5213b3                    0                0   \n",
       "000bfa1d2f1a41876493be685390d6d3                    0                0   \n",
       "\n",
       "                                  payment_facility  \n",
       "customer_unique_id                                  \n",
       "0000f46a3911fa3c0805444483337064                 0  \n",
       "0005e1862207bf6ccc02e4228effd9a0                 0  \n",
       "0006fdc98a402fceb4eb0ee528f6a8d4                 0  \n",
       "000a5ad9c4601d2bbdd9ed765d5213b3                 0  \n",
       "000bfa1d2f1a41876493be685390d6d3                 0  \n",
       "\n",
       "[5 rows x 111 columns]"
      ]
     },
     "execution_count": 7,
     "metadata": {},
     "output_type": "execute_result"
    }
   ],
   "source": [
    "data_9_months_fe = features_engineering(data_9_months).compute()\n",
    "data_9_months_fe.head()"
   ]
  },
  {
   "cell_type": "code",
   "execution_count": 8,
   "metadata": {},
   "outputs": [
    {
     "data": {
      "text/html": [
       "<div>\n",
       "<style scoped>\n",
       "    .dataframe tbody tr th:only-of-type {\n",
       "        vertical-align: middle;\n",
       "    }\n",
       "\n",
       "    .dataframe tbody tr th {\n",
       "        vertical-align: top;\n",
       "    }\n",
       "\n",
       "    .dataframe thead th {\n",
       "        text-align: right;\n",
       "    }\n",
       "</style>\n",
       "<table border=\"1\" class=\"dataframe\">\n",
       "  <thead>\n",
       "    <tr style=\"text-align: right;\">\n",
       "      <th></th>\n",
       "      <th>recency</th>\n",
       "      <th>frequency</th>\n",
       "      <th>monetary</th>\n",
       "      <th>payment_value_mean</th>\n",
       "      <th>payment_value_min</th>\n",
       "      <th>payment_value_max</th>\n",
       "      <th>review_score_count</th>\n",
       "      <th>review_score_min</th>\n",
       "      <th>review_score_max</th>\n",
       "      <th>review_score_mean</th>\n",
       "      <th>...</th>\n",
       "      <th>PCat_cds_dvds_musicals</th>\n",
       "      <th>PCat_security_and_services</th>\n",
       "      <th>PCat_tablets_printing_image</th>\n",
       "      <th>PCat_furniture_bedroom</th>\n",
       "      <th>PCat_cine_photo</th>\n",
       "      <th>PCat_fashio_female_clothing</th>\n",
       "      <th>PCat_diapers_and_hygiene</th>\n",
       "      <th>PCat_books_imported</th>\n",
       "      <th>PCat_la_cuisine</th>\n",
       "      <th>payment_facility</th>\n",
       "    </tr>\n",
       "    <tr>\n",
       "      <th>customer_unique_id</th>\n",
       "      <th></th>\n",
       "      <th></th>\n",
       "      <th></th>\n",
       "      <th></th>\n",
       "      <th></th>\n",
       "      <th></th>\n",
       "      <th></th>\n",
       "      <th></th>\n",
       "      <th></th>\n",
       "      <th></th>\n",
       "      <th></th>\n",
       "      <th></th>\n",
       "      <th></th>\n",
       "      <th></th>\n",
       "      <th></th>\n",
       "      <th></th>\n",
       "      <th></th>\n",
       "      <th></th>\n",
       "      <th></th>\n",
       "      <th></th>\n",
       "      <th></th>\n",
       "    </tr>\n",
       "  </thead>\n",
       "  <tbody>\n",
       "    <tr>\n",
       "      <td>0000f46a3911fa3c0805444483337064</td>\n",
       "      <td>295</td>\n",
       "      <td>1</td>\n",
       "      <td>86.22</td>\n",
       "      <td>86.22</td>\n",
       "      <td>86.22</td>\n",
       "      <td>86.22</td>\n",
       "      <td>1</td>\n",
       "      <td>3</td>\n",
       "      <td>3</td>\n",
       "      <td>3.0</td>\n",
       "      <td>...</td>\n",
       "      <td>0</td>\n",
       "      <td>0</td>\n",
       "      <td>0</td>\n",
       "      <td>0</td>\n",
       "      <td>0</td>\n",
       "      <td>0</td>\n",
       "      <td>0</td>\n",
       "      <td>0</td>\n",
       "      <td>0</td>\n",
       "      <td>0</td>\n",
       "    </tr>\n",
       "    <tr>\n",
       "      <td>0000f6ccb0745a6a4b88665a16c9f078</td>\n",
       "      <td>79</td>\n",
       "      <td>1</td>\n",
       "      <td>43.62</td>\n",
       "      <td>43.62</td>\n",
       "      <td>43.62</td>\n",
       "      <td>43.62</td>\n",
       "      <td>1</td>\n",
       "      <td>4</td>\n",
       "      <td>4</td>\n",
       "      <td>4.0</td>\n",
       "      <td>...</td>\n",
       "      <td>0</td>\n",
       "      <td>0</td>\n",
       "      <td>0</td>\n",
       "      <td>0</td>\n",
       "      <td>0</td>\n",
       "      <td>0</td>\n",
       "      <td>0</td>\n",
       "      <td>0</td>\n",
       "      <td>0</td>\n",
       "      <td>0</td>\n",
       "    </tr>\n",
       "    <tr>\n",
       "      <td>0004aac84e0df4da2b147fca70cf8255</td>\n",
       "      <td>46</td>\n",
       "      <td>1</td>\n",
       "      <td>196.89</td>\n",
       "      <td>196.89</td>\n",
       "      <td>196.89</td>\n",
       "      <td>196.89</td>\n",
       "      <td>1</td>\n",
       "      <td>5</td>\n",
       "      <td>5</td>\n",
       "      <td>5.0</td>\n",
       "      <td>...</td>\n",
       "      <td>0</td>\n",
       "      <td>0</td>\n",
       "      <td>0</td>\n",
       "      <td>0</td>\n",
       "      <td>0</td>\n",
       "      <td>0</td>\n",
       "      <td>0</td>\n",
       "      <td>0</td>\n",
       "      <td>0</td>\n",
       "      <td>0</td>\n",
       "    </tr>\n",
       "    <tr>\n",
       "      <td>0005e1862207bf6ccc02e4228effd9a0</td>\n",
       "      <td>301</td>\n",
       "      <td>1</td>\n",
       "      <td>150.12</td>\n",
       "      <td>150.12</td>\n",
       "      <td>150.12</td>\n",
       "      <td>150.12</td>\n",
       "      <td>1</td>\n",
       "      <td>4</td>\n",
       "      <td>4</td>\n",
       "      <td>4.0</td>\n",
       "      <td>...</td>\n",
       "      <td>0</td>\n",
       "      <td>0</td>\n",
       "      <td>0</td>\n",
       "      <td>0</td>\n",
       "      <td>0</td>\n",
       "      <td>0</td>\n",
       "      <td>0</td>\n",
       "      <td>0</td>\n",
       "      <td>0</td>\n",
       "      <td>0</td>\n",
       "    </tr>\n",
       "    <tr>\n",
       "      <td>0006fdc98a402fceb4eb0ee528f6a8d4</td>\n",
       "      <td>165</td>\n",
       "      <td>1</td>\n",
       "      <td>29.00</td>\n",
       "      <td>29.00</td>\n",
       "      <td>29.00</td>\n",
       "      <td>29.00</td>\n",
       "      <td>1</td>\n",
       "      <td>3</td>\n",
       "      <td>3</td>\n",
       "      <td>3.0</td>\n",
       "      <td>...</td>\n",
       "      <td>0</td>\n",
       "      <td>0</td>\n",
       "      <td>0</td>\n",
       "      <td>0</td>\n",
       "      <td>0</td>\n",
       "      <td>0</td>\n",
       "      <td>0</td>\n",
       "      <td>0</td>\n",
       "      <td>0</td>\n",
       "      <td>0</td>\n",
       "    </tr>\n",
       "  </tbody>\n",
       "</table>\n",
       "<p>5 rows × 113 columns</p>\n",
       "</div>"
      ],
      "text/plain": [
       "                                  recency  frequency  monetary  \\\n",
       "customer_unique_id                                               \n",
       "0000f46a3911fa3c0805444483337064      295          1     86.22   \n",
       "0000f6ccb0745a6a4b88665a16c9f078       79          1     43.62   \n",
       "0004aac84e0df4da2b147fca70cf8255       46          1    196.89   \n",
       "0005e1862207bf6ccc02e4228effd9a0      301          1    150.12   \n",
       "0006fdc98a402fceb4eb0ee528f6a8d4      165          1     29.00   \n",
       "\n",
       "                                  payment_value_mean  payment_value_min  \\\n",
       "customer_unique_id                                                        \n",
       "0000f46a3911fa3c0805444483337064               86.22              86.22   \n",
       "0000f6ccb0745a6a4b88665a16c9f078               43.62              43.62   \n",
       "0004aac84e0df4da2b147fca70cf8255              196.89             196.89   \n",
       "0005e1862207bf6ccc02e4228effd9a0              150.12             150.12   \n",
       "0006fdc98a402fceb4eb0ee528f6a8d4               29.00              29.00   \n",
       "\n",
       "                                  payment_value_max  review_score_count  \\\n",
       "customer_unique_id                                                        \n",
       "0000f46a3911fa3c0805444483337064              86.22                   1   \n",
       "0000f6ccb0745a6a4b88665a16c9f078              43.62                   1   \n",
       "0004aac84e0df4da2b147fca70cf8255             196.89                   1   \n",
       "0005e1862207bf6ccc02e4228effd9a0             150.12                   1   \n",
       "0006fdc98a402fceb4eb0ee528f6a8d4              29.00                   1   \n",
       "\n",
       "                                  review_score_min  review_score_max  \\\n",
       "customer_unique_id                                                     \n",
       "0000f46a3911fa3c0805444483337064                 3                 3   \n",
       "0000f6ccb0745a6a4b88665a16c9f078                 4                 4   \n",
       "0004aac84e0df4da2b147fca70cf8255                 5                 5   \n",
       "0005e1862207bf6ccc02e4228effd9a0                 4                 4   \n",
       "0006fdc98a402fceb4eb0ee528f6a8d4                 3                 3   \n",
       "\n",
       "                                  review_score_mean  ...  \\\n",
       "customer_unique_id                                   ...   \n",
       "0000f46a3911fa3c0805444483337064                3.0  ...   \n",
       "0000f6ccb0745a6a4b88665a16c9f078                4.0  ...   \n",
       "0004aac84e0df4da2b147fca70cf8255                5.0  ...   \n",
       "0005e1862207bf6ccc02e4228effd9a0                4.0  ...   \n",
       "0006fdc98a402fceb4eb0ee528f6a8d4                3.0  ...   \n",
       "\n",
       "                                  PCat_cds_dvds_musicals  \\\n",
       "customer_unique_id                                         \n",
       "0000f46a3911fa3c0805444483337064                       0   \n",
       "0000f6ccb0745a6a4b88665a16c9f078                       0   \n",
       "0004aac84e0df4da2b147fca70cf8255                       0   \n",
       "0005e1862207bf6ccc02e4228effd9a0                       0   \n",
       "0006fdc98a402fceb4eb0ee528f6a8d4                       0   \n",
       "\n",
       "                                  PCat_security_and_services  \\\n",
       "customer_unique_id                                             \n",
       "0000f46a3911fa3c0805444483337064                           0   \n",
       "0000f6ccb0745a6a4b88665a16c9f078                           0   \n",
       "0004aac84e0df4da2b147fca70cf8255                           0   \n",
       "0005e1862207bf6ccc02e4228effd9a0                           0   \n",
       "0006fdc98a402fceb4eb0ee528f6a8d4                           0   \n",
       "\n",
       "                                  PCat_tablets_printing_image  \\\n",
       "customer_unique_id                                              \n",
       "0000f46a3911fa3c0805444483337064                            0   \n",
       "0000f6ccb0745a6a4b88665a16c9f078                            0   \n",
       "0004aac84e0df4da2b147fca70cf8255                            0   \n",
       "0005e1862207bf6ccc02e4228effd9a0                            0   \n",
       "0006fdc98a402fceb4eb0ee528f6a8d4                            0   \n",
       "\n",
       "                                  PCat_furniture_bedroom  PCat_cine_photo  \\\n",
       "customer_unique_id                                                          \n",
       "0000f46a3911fa3c0805444483337064                       0                0   \n",
       "0000f6ccb0745a6a4b88665a16c9f078                       0                0   \n",
       "0004aac84e0df4da2b147fca70cf8255                       0                0   \n",
       "0005e1862207bf6ccc02e4228effd9a0                       0                0   \n",
       "0006fdc98a402fceb4eb0ee528f6a8d4                       0                0   \n",
       "\n",
       "                                  PCat_fashio_female_clothing  \\\n",
       "customer_unique_id                                              \n",
       "0000f46a3911fa3c0805444483337064                            0   \n",
       "0000f6ccb0745a6a4b88665a16c9f078                            0   \n",
       "0004aac84e0df4da2b147fca70cf8255                            0   \n",
       "0005e1862207bf6ccc02e4228effd9a0                            0   \n",
       "0006fdc98a402fceb4eb0ee528f6a8d4                            0   \n",
       "\n",
       "                                  PCat_diapers_and_hygiene  \\\n",
       "customer_unique_id                                           \n",
       "0000f46a3911fa3c0805444483337064                         0   \n",
       "0000f6ccb0745a6a4b88665a16c9f078                         0   \n",
       "0004aac84e0df4da2b147fca70cf8255                         0   \n",
       "0005e1862207bf6ccc02e4228effd9a0                         0   \n",
       "0006fdc98a402fceb4eb0ee528f6a8d4                         0   \n",
       "\n",
       "                                  PCat_books_imported  PCat_la_cuisine  \\\n",
       "customer_unique_id                                                       \n",
       "0000f46a3911fa3c0805444483337064                    0                0   \n",
       "0000f6ccb0745a6a4b88665a16c9f078                    0                0   \n",
       "0004aac84e0df4da2b147fca70cf8255                    0                0   \n",
       "0005e1862207bf6ccc02e4228effd9a0                    0                0   \n",
       "0006fdc98a402fceb4eb0ee528f6a8d4                    0                0   \n",
       "\n",
       "                                  payment_facility  \n",
       "customer_unique_id                                  \n",
       "0000f46a3911fa3c0805444483337064                 0  \n",
       "0000f6ccb0745a6a4b88665a16c9f078                 0  \n",
       "0004aac84e0df4da2b147fca70cf8255                 0  \n",
       "0005e1862207bf6ccc02e4228effd9a0                 0  \n",
       "0006fdc98a402fceb4eb0ee528f6a8d4                 0  \n",
       "\n",
       "[5 rows x 113 columns]"
      ]
     },
     "execution_count": 8,
     "metadata": {},
     "output_type": "execute_result"
    }
   ],
   "source": [
    "data_12_months_fe = features_engineering(data_12_months).compute()\n",
    "data_12_months_fe.head()"
   ]
  },
  {
   "cell_type": "code",
   "execution_count": null,
   "metadata": {},
   "outputs": [],
   "source": [
    "data_15_months_fe = features_engineering(data_15_months).compute()\n",
    "data_15_months_fe.head()"
   ]
  },
  {
   "cell_type": "code",
   "execution_count": null,
   "metadata": {},
   "outputs": [],
   "source": [
    "data_18_months_fe = features_engineering(data_18_months).compute()\n",
    "data_18_months_fe.head()"
   ]
  },
  {
   "cell_type": "code",
   "execution_count": 9,
   "metadata": {},
   "outputs": [
    {
     "data": {
      "text/html": [
       "<div>\n",
       "<style scoped>\n",
       "    .dataframe tbody tr th:only-of-type {\n",
       "        vertical-align: middle;\n",
       "    }\n",
       "\n",
       "    .dataframe tbody tr th {\n",
       "        vertical-align: top;\n",
       "    }\n",
       "\n",
       "    .dataframe thead th {\n",
       "        text-align: right;\n",
       "    }\n",
       "</style>\n",
       "<table border=\"1\" class=\"dataframe\">\n",
       "  <thead>\n",
       "    <tr style=\"text-align: right;\">\n",
       "      <th></th>\n",
       "      <th>recency</th>\n",
       "      <th>frequency</th>\n",
       "      <th>monetary</th>\n",
       "      <th>payment_value_mean</th>\n",
       "      <th>payment_value_min</th>\n",
       "      <th>payment_value_max</th>\n",
       "      <th>review_score_count</th>\n",
       "      <th>review_score_min</th>\n",
       "      <th>review_score_max</th>\n",
       "      <th>review_score_mean</th>\n",
       "      <th>...</th>\n",
       "      <th>PCat_cds_dvds_musicals</th>\n",
       "      <th>PCat_security_and_services</th>\n",
       "      <th>PCat_tablets_printing_image</th>\n",
       "      <th>PCat_furniture_bedroom</th>\n",
       "      <th>PCat_cine_photo</th>\n",
       "      <th>PCat_fashio_female_clothing</th>\n",
       "      <th>PCat_diapers_and_hygiene</th>\n",
       "      <th>PCat_books_imported</th>\n",
       "      <th>PCat_la_cuisine</th>\n",
       "      <th>payment_facility</th>\n",
       "    </tr>\n",
       "    <tr>\n",
       "      <th>customer_unique_id</th>\n",
       "      <th></th>\n",
       "      <th></th>\n",
       "      <th></th>\n",
       "      <th></th>\n",
       "      <th></th>\n",
       "      <th></th>\n",
       "      <th></th>\n",
       "      <th></th>\n",
       "      <th></th>\n",
       "      <th></th>\n",
       "      <th></th>\n",
       "      <th></th>\n",
       "      <th></th>\n",
       "      <th></th>\n",
       "      <th></th>\n",
       "      <th></th>\n",
       "      <th></th>\n",
       "      <th></th>\n",
       "      <th></th>\n",
       "      <th></th>\n",
       "      <th></th>\n",
       "    </tr>\n",
       "  </thead>\n",
       "  <tbody>\n",
       "    <tr>\n",
       "      <td>0000366f3b9a7992bf8c76cfdf3221e2</td>\n",
       "      <td>115</td>\n",
       "      <td>1</td>\n",
       "      <td>141.90</td>\n",
       "      <td>141.90</td>\n",
       "      <td>141.90</td>\n",
       "      <td>141.90</td>\n",
       "      <td>1</td>\n",
       "      <td>5</td>\n",
       "      <td>5</td>\n",
       "      <td>5.0</td>\n",
       "      <td>...</td>\n",
       "      <td>0</td>\n",
       "      <td>0</td>\n",
       "      <td>0</td>\n",
       "      <td>0</td>\n",
       "      <td>0</td>\n",
       "      <td>0</td>\n",
       "      <td>0</td>\n",
       "      <td>0</td>\n",
       "      <td>0</td>\n",
       "      <td>0</td>\n",
       "    </tr>\n",
       "    <tr>\n",
       "      <td>0000b849f77a49e4a4ce2b2a4ca5be3f</td>\n",
       "      <td>118</td>\n",
       "      <td>1</td>\n",
       "      <td>27.19</td>\n",
       "      <td>27.19</td>\n",
       "      <td>27.19</td>\n",
       "      <td>27.19</td>\n",
       "      <td>1</td>\n",
       "      <td>4</td>\n",
       "      <td>4</td>\n",
       "      <td>4.0</td>\n",
       "      <td>...</td>\n",
       "      <td>0</td>\n",
       "      <td>0</td>\n",
       "      <td>0</td>\n",
       "      <td>0</td>\n",
       "      <td>0</td>\n",
       "      <td>0</td>\n",
       "      <td>0</td>\n",
       "      <td>0</td>\n",
       "      <td>0</td>\n",
       "      <td>1</td>\n",
       "    </tr>\n",
       "    <tr>\n",
       "      <td>0000f46a3911fa3c0805444483337064</td>\n",
       "      <td>541</td>\n",
       "      <td>1</td>\n",
       "      <td>86.22</td>\n",
       "      <td>86.22</td>\n",
       "      <td>86.22</td>\n",
       "      <td>86.22</td>\n",
       "      <td>1</td>\n",
       "      <td>3</td>\n",
       "      <td>3</td>\n",
       "      <td>3.0</td>\n",
       "      <td>...</td>\n",
       "      <td>0</td>\n",
       "      <td>0</td>\n",
       "      <td>0</td>\n",
       "      <td>0</td>\n",
       "      <td>0</td>\n",
       "      <td>0</td>\n",
       "      <td>0</td>\n",
       "      <td>0</td>\n",
       "      <td>0</td>\n",
       "      <td>0</td>\n",
       "    </tr>\n",
       "    <tr>\n",
       "      <td>0000f6ccb0745a6a4b88665a16c9f078</td>\n",
       "      <td>325</td>\n",
       "      <td>1</td>\n",
       "      <td>43.62</td>\n",
       "      <td>43.62</td>\n",
       "      <td>43.62</td>\n",
       "      <td>43.62</td>\n",
       "      <td>1</td>\n",
       "      <td>4</td>\n",
       "      <td>4</td>\n",
       "      <td>4.0</td>\n",
       "      <td>...</td>\n",
       "      <td>0</td>\n",
       "      <td>0</td>\n",
       "      <td>0</td>\n",
       "      <td>0</td>\n",
       "      <td>0</td>\n",
       "      <td>0</td>\n",
       "      <td>0</td>\n",
       "      <td>0</td>\n",
       "      <td>0</td>\n",
       "      <td>0</td>\n",
       "    </tr>\n",
       "    <tr>\n",
       "      <td>0004aac84e0df4da2b147fca70cf8255</td>\n",
       "      <td>292</td>\n",
       "      <td>1</td>\n",
       "      <td>196.89</td>\n",
       "      <td>196.89</td>\n",
       "      <td>196.89</td>\n",
       "      <td>196.89</td>\n",
       "      <td>1</td>\n",
       "      <td>5</td>\n",
       "      <td>5</td>\n",
       "      <td>5.0</td>\n",
       "      <td>...</td>\n",
       "      <td>0</td>\n",
       "      <td>0</td>\n",
       "      <td>0</td>\n",
       "      <td>0</td>\n",
       "      <td>0</td>\n",
       "      <td>0</td>\n",
       "      <td>0</td>\n",
       "      <td>0</td>\n",
       "      <td>0</td>\n",
       "      <td>0</td>\n",
       "    </tr>\n",
       "  </tbody>\n",
       "</table>\n",
       "<p>5 rows × 113 columns</p>\n",
       "</div>"
      ],
      "text/plain": [
       "                                  recency  frequency  monetary  \\\n",
       "customer_unique_id                                               \n",
       "0000366f3b9a7992bf8c76cfdf3221e2      115          1    141.90   \n",
       "0000b849f77a49e4a4ce2b2a4ca5be3f      118          1     27.19   \n",
       "0000f46a3911fa3c0805444483337064      541          1     86.22   \n",
       "0000f6ccb0745a6a4b88665a16c9f078      325          1     43.62   \n",
       "0004aac84e0df4da2b147fca70cf8255      292          1    196.89   \n",
       "\n",
       "                                  payment_value_mean  payment_value_min  \\\n",
       "customer_unique_id                                                        \n",
       "0000366f3b9a7992bf8c76cfdf3221e2              141.90             141.90   \n",
       "0000b849f77a49e4a4ce2b2a4ca5be3f               27.19              27.19   \n",
       "0000f46a3911fa3c0805444483337064               86.22              86.22   \n",
       "0000f6ccb0745a6a4b88665a16c9f078               43.62              43.62   \n",
       "0004aac84e0df4da2b147fca70cf8255              196.89             196.89   \n",
       "\n",
       "                                  payment_value_max  review_score_count  \\\n",
       "customer_unique_id                                                        \n",
       "0000366f3b9a7992bf8c76cfdf3221e2             141.90                   1   \n",
       "0000b849f77a49e4a4ce2b2a4ca5be3f              27.19                   1   \n",
       "0000f46a3911fa3c0805444483337064              86.22                   1   \n",
       "0000f6ccb0745a6a4b88665a16c9f078              43.62                   1   \n",
       "0004aac84e0df4da2b147fca70cf8255             196.89                   1   \n",
       "\n",
       "                                  review_score_min  review_score_max  \\\n",
       "customer_unique_id                                                     \n",
       "0000366f3b9a7992bf8c76cfdf3221e2                 5                 5   \n",
       "0000b849f77a49e4a4ce2b2a4ca5be3f                 4                 4   \n",
       "0000f46a3911fa3c0805444483337064                 3                 3   \n",
       "0000f6ccb0745a6a4b88665a16c9f078                 4                 4   \n",
       "0004aac84e0df4da2b147fca70cf8255                 5                 5   \n",
       "\n",
       "                                  review_score_mean  ...  \\\n",
       "customer_unique_id                                   ...   \n",
       "0000366f3b9a7992bf8c76cfdf3221e2                5.0  ...   \n",
       "0000b849f77a49e4a4ce2b2a4ca5be3f                4.0  ...   \n",
       "0000f46a3911fa3c0805444483337064                3.0  ...   \n",
       "0000f6ccb0745a6a4b88665a16c9f078                4.0  ...   \n",
       "0004aac84e0df4da2b147fca70cf8255                5.0  ...   \n",
       "\n",
       "                                  PCat_cds_dvds_musicals  \\\n",
       "customer_unique_id                                         \n",
       "0000366f3b9a7992bf8c76cfdf3221e2                       0   \n",
       "0000b849f77a49e4a4ce2b2a4ca5be3f                       0   \n",
       "0000f46a3911fa3c0805444483337064                       0   \n",
       "0000f6ccb0745a6a4b88665a16c9f078                       0   \n",
       "0004aac84e0df4da2b147fca70cf8255                       0   \n",
       "\n",
       "                                  PCat_security_and_services  \\\n",
       "customer_unique_id                                             \n",
       "0000366f3b9a7992bf8c76cfdf3221e2                           0   \n",
       "0000b849f77a49e4a4ce2b2a4ca5be3f                           0   \n",
       "0000f46a3911fa3c0805444483337064                           0   \n",
       "0000f6ccb0745a6a4b88665a16c9f078                           0   \n",
       "0004aac84e0df4da2b147fca70cf8255                           0   \n",
       "\n",
       "                                  PCat_tablets_printing_image  \\\n",
       "customer_unique_id                                              \n",
       "0000366f3b9a7992bf8c76cfdf3221e2                            0   \n",
       "0000b849f77a49e4a4ce2b2a4ca5be3f                            0   \n",
       "0000f46a3911fa3c0805444483337064                            0   \n",
       "0000f6ccb0745a6a4b88665a16c9f078                            0   \n",
       "0004aac84e0df4da2b147fca70cf8255                            0   \n",
       "\n",
       "                                  PCat_furniture_bedroom  PCat_cine_photo  \\\n",
       "customer_unique_id                                                          \n",
       "0000366f3b9a7992bf8c76cfdf3221e2                       0                0   \n",
       "0000b849f77a49e4a4ce2b2a4ca5be3f                       0                0   \n",
       "0000f46a3911fa3c0805444483337064                       0                0   \n",
       "0000f6ccb0745a6a4b88665a16c9f078                       0                0   \n",
       "0004aac84e0df4da2b147fca70cf8255                       0                0   \n",
       "\n",
       "                                  PCat_fashio_female_clothing  \\\n",
       "customer_unique_id                                              \n",
       "0000366f3b9a7992bf8c76cfdf3221e2                            0   \n",
       "0000b849f77a49e4a4ce2b2a4ca5be3f                            0   \n",
       "0000f46a3911fa3c0805444483337064                            0   \n",
       "0000f6ccb0745a6a4b88665a16c9f078                            0   \n",
       "0004aac84e0df4da2b147fca70cf8255                            0   \n",
       "\n",
       "                                  PCat_diapers_and_hygiene  \\\n",
       "customer_unique_id                                           \n",
       "0000366f3b9a7992bf8c76cfdf3221e2                         0   \n",
       "0000b849f77a49e4a4ce2b2a4ca5be3f                         0   \n",
       "0000f46a3911fa3c0805444483337064                         0   \n",
       "0000f6ccb0745a6a4b88665a16c9f078                         0   \n",
       "0004aac84e0df4da2b147fca70cf8255                         0   \n",
       "\n",
       "                                  PCat_books_imported  PCat_la_cuisine  \\\n",
       "customer_unique_id                                                       \n",
       "0000366f3b9a7992bf8c76cfdf3221e2                    0                0   \n",
       "0000b849f77a49e4a4ce2b2a4ca5be3f                    0                0   \n",
       "0000f46a3911fa3c0805444483337064                    0                0   \n",
       "0000f6ccb0745a6a4b88665a16c9f078                    0                0   \n",
       "0004aac84e0df4da2b147fca70cf8255                    0                0   \n",
       "\n",
       "                                  payment_facility  \n",
       "customer_unique_id                                  \n",
       "0000366f3b9a7992bf8c76cfdf3221e2                 0  \n",
       "0000b849f77a49e4a4ce2b2a4ca5be3f                 1  \n",
       "0000f46a3911fa3c0805444483337064                 0  \n",
       "0000f6ccb0745a6a4b88665a16c9f078                 0  \n",
       "0004aac84e0df4da2b147fca70cf8255                 0  \n",
       "\n",
       "[5 rows x 113 columns]"
      ]
     },
     "execution_count": 9,
     "metadata": {},
     "output_type": "execute_result"
    }
   ],
   "source": [
    "data_all_fe = features_engineering(data_all).compute()\n",
    "data_all_fe.head()"
   ]
  },
  {
   "cell_type": "markdown",
   "metadata": {},
   "source": [
    "## 3 - Normalisation"
   ]
  },
  {
   "cell_type": "code",
   "execution_count": 10,
   "metadata": {},
   "outputs": [],
   "source": [
    "standardize = preprocessing.StandardScaler(copy=True, with_mean=True, with_std=True)\n",
    "standardize.fit(data_3_months_fe)\n",
    "data_3_months_fe = standardize.transform(data_3_months_fe)"
   ]
  },
  {
   "cell_type": "markdown",
   "metadata": {},
   "source": [
    "## 4 - Clustering à l'aide des baselines\n",
    "### 4.1 - K-means"
   ]
  },
  {
   "cell_type": "code",
   "execution_count": 11,
   "metadata": {},
   "outputs": [
    {
     "data": {
      "image/png": "[encoded data removed]",
      "text/plain": [
       "<Figure size 720x360 with 1 Axes>"
      ]
     },
     "metadata": {
      "needs_background": "light"
     },
     "output_type": "display_data"
    }
   ],
   "source": [
    "base_km_cluster_number = []\n",
    "base_km_score = []\n",
    "for n in range(2, 25):\n",
    "    kmean = KMeans(n_clusters=n, n_init=100, max_iter=3000)\n",
    "    kmean.fit(data_3_months_fe)\n",
    "    base_km_cluster_number.append(n)\n",
    "    base_km_score.append(silhouette_score(data_3_months_fe, kmean.labels_, metric='euclidean'))\n",
    "\n",
    "plt.figure(figsize=(10, 5))\n",
    "plt.plot(base_km_cluster_number, base_km_score, color=\"skyblue\", lw=2)\n",
    "plt.xlabel(\"Nombre de cluster\")\n",
    "plt.ylabel(\"Score de silhouette\")\n",
    "plt.title(\"Baseline Kmean\")\n",
    "plt.tight_layout()\n",
    "plt.show()\n"
   ]
  },
  {
   "cell_type": "markdown",
   "metadata": {},
   "source": [
    "### 4.2 - DBSCAN"
   ]
  },
  {
   "cell_type": "code",
   "execution_count": 12,
   "metadata": {},
   "outputs": [
    {
     "data": {
      "text/plain": [
       "DBSCAN(algorithm='auto', eps=0.8, leaf_size=30, metric='euclidean',\n",
       "       metric_params=None, min_samples=10, n_jobs=None, p=None)"
      ]
     },
     "execution_count": 12,
     "metadata": {},
     "output_type": "execute_result"
    }
   ],
   "source": [
    "dbscan_clust = DBSCAN(eps=0.8, min_samples=10)\n",
    "dbscan_clust.fit(data_3_months_fe)"
   ]
  },
  {
   "cell_type": "code",
   "execution_count": 13,
   "metadata": {},
   "outputs": [],
   "source": [
    "dbscan_labels = dbscan_clust.labels_"
   ]
  },
  {
   "cell_type": "code",
   "execution_count": 14,
   "metadata": {},
   "outputs": [
    {
     "data": {
      "text/plain": [
       "19"
      ]
     },
     "execution_count": 14,
     "metadata": {},
     "output_type": "execute_result"
    }
   ],
   "source": [
    "n_clusters = len(set(dbscan_labels)) - (1 if -1 in dbscan_labels else 0)\n",
    "n_clusters"
   ]
  },
  {
   "cell_type": "code",
   "execution_count": 15,
   "metadata": {},
   "outputs": [
    {
     "data": {
      "text/plain": [
       "-0.35095667658863056"
      ]
     },
     "execution_count": 15,
     "metadata": {},
     "output_type": "execute_result"
    }
   ],
   "source": [
    "silhouette_score(data_3_months_fe, dbscan_labels)"
   ]
  },
  {
   "cell_type": "code",
   "execution_count": 16,
   "metadata": {},
   "outputs": [
    {
     "data": {
      "text/plain": [
       "4506"
      ]
     },
     "execution_count": 16,
     "metadata": {},
     "output_type": "execute_result"
    }
   ],
   "source": [
    "list(dbscan_labels).count(-1)"
   ]
  },
  {
   "cell_type": "markdown",
   "metadata": {},
   "source": [
    "### 4.3 - Clustering Hierarchique"
   ]
  },
  {
   "cell_type": "code",
   "execution_count": 17,
   "metadata": {},
   "outputs": [
    {
     "data": {
      "image/png": "[encoded data removed]",
      "text/plain": [
       "<Figure size 720x360 with 1 Axes>"
      ]
     },
     "metadata": {
      "needs_background": "light"
     },
     "output_type": "display_data"
    }
   ],
   "source": [
    "base_hier_cluster_number = []\n",
    "base_hier_score = []\n",
    "for n in range(2, 25):\n",
    "    clust_hier = AgglomerativeClustering(n_clusters=n)\n",
    "    clust_hier.fit(data_3_months_fe)\n",
    "    base_hier_cluster_number.append(n)\n",
    "    base_hier_score.append(silhouette_score(data_3_months_fe, clust_hier.labels_, metric=\"euclidean\"))\n",
    "\n",
    "plt.figure(figsize=(10, 5))\n",
    "plt.plot(base_hier_cluster_number, base_hier_score, color=\"skyblue\", lw=2)\n",
    "plt.xlabel(\"Nombre de cluster\")\n",
    "plt.ylabel(\"Score de silhouette\")\n",
    "plt.title(\"Baseline Clustering Hierarchique\")\n",
    "plt.tight_layout()\n",
    "plt.show()"
   ]
  },
  {
   "cell_type": "markdown",
   "metadata": {},
   "source": [
    "## 5- Réduction de dimension"
   ]
  },
  {
   "cell_type": "code",
   "execution_count": 11,
   "metadata": {},
   "outputs": [],
   "source": [
    "X = data_3_months_fe.values"
   ]
  },
  {
   "cell_type": "markdown",
   "metadata": {},
   "source": [
    "### 5.1 - Linear PCA\n",
    "#### 5.1.1 - Decomposition et projection"
   ]
  },
  {
   "cell_type": "code",
   "execution_count": 19,
   "metadata": {},
   "outputs": [
    {
     "data": {
      "text/plain": [
       "PCA(copy=True, iterated_power='auto', n_components=94, random_state=None,\n",
       "    svd_solver='auto', tol=0.0, whiten=False)"
      ]
     },
     "execution_count": 19,
     "metadata": {},
     "output_type": "execute_result"
    }
   ],
   "source": [
    "pca = decomposition.PCA(n_components=94)\n",
    "pca.fit(X)"
   ]
  },
  {
   "cell_type": "code",
   "execution_count": 20,
   "metadata": {},
   "outputs": [
    {
     "data": {
      "image/png": "[encoded data removed]",
      "text/plain": [
       "<Figure size 720x360 with 1 Axes>"
      ]
     },
     "metadata": {
      "needs_background": "light"
     },
     "output_type": "display_data"
    }
   ],
   "source": [
    "components = range(1, len(pca.explained_variance_ratio_) + 1)\n",
    "plt.figure(figsize=(10, 5))\n",
    "plt.plot(components, pca.explained_variance_ratio_*100, color='skyblue', lw=2)\n",
    "plt.xlabel('Nombre de composantes', fontsize=12)\n",
    "plt.ylabel('Pourcentage Variance Expliquée', fontsize=12)\n",
    "plt.title('PCA - part de variance expliquée par composantes')\n",
    "plt.tight_layout()\n",
    "plt.show()"
   ]
  },
  {
   "cell_type": "code",
   "execution_count": 21,
   "metadata": {},
   "outputs": [],
   "source": [
    "pca = decomposition.PCA(n_components=10)\n",
    "pca.fit(X)\n",
    "\n",
    "X_pca_projected = pca.transform(X)"
   ]
  },
  {
   "cell_type": "markdown",
   "metadata": {},
   "source": [
    "#### 5.1.2 - Clustering\n",
    "##### 5.1.2.1 - K-means"
   ]
  },
  {
   "cell_type": "code",
   "execution_count": 22,
   "metadata": {},
   "outputs": [
    {
     "data": {
      "image/png": "[encoded data removed]",
      "text/plain": [
       "<Figure size 720x360 with 1 Axes>"
      ]
     },
     "metadata": {
      "needs_background": "light"
     },
     "output_type": "display_data"
    }
   ],
   "source": [
    "pca_km_cluster_number = []\n",
    "pca_km_score = []\n",
    "for n in range(2, 25):\n",
    "    kmean = KMeans(n_clusters=n, n_init=100, max_iter=3000)\n",
    "    kmean.fit(X_pca_projected)\n",
    "    pca_km_cluster_number.append(n)\n",
    "    pca_km_score.append(silhouette_score(X_pca_projected, kmean.labels_, metric='euclidean'))\n",
    "\n",
    "plt.figure(figsize=(10, 5))\n",
    "plt.plot(pca_km_cluster_number, pca_km_score, color=\"skyblue\", lw=2)\n",
    "plt.xlabel(\"Nombre de cluster\")\n",
    "plt.ylabel(\"Score de silhouette\")\n",
    "plt.title(\"PCA Kmean\")\n",
    "plt.tight_layout()\n",
    "plt.show()\n"
   ]
  },
  {
   "cell_type": "markdown",
   "metadata": {},
   "source": [
    "##### 5.1.2.2 - Clustering Hierarchique"
   ]
  },
  {
   "cell_type": "code",
   "execution_count": 23,
   "metadata": {},
   "outputs": [
    {
     "data": {
      "image/png": "[encoded data removed]",
      "text/plain": [
       "<Figure size 720x360 with 1 Axes>"
      ]
     },
     "metadata": {
      "needs_background": "light"
     },
     "output_type": "display_data"
    }
   ],
   "source": [
    "pca_hier_cluster_number = []\n",
    "pca_hier_score = []\n",
    "for n in range(2, 25):\n",
    "    clust_hier = AgglomerativeClustering(n_clusters=n)\n",
    "    clust_hier.fit(X_pca_projected)\n",
    "    pca_hier_cluster_number.append(n)\n",
    "    pca_hier_score.append(silhouette_score(X_pca_projected, clust_hier.labels_, metric=\"euclidean\"))\n",
    "\n",
    "plt.figure(figsize=(10, 5))\n",
    "plt.plot(pca_hier_cluster_number, pca_hier_score, color=\"skyblue\", lw=2)\n",
    "plt.xlabel(\"Nombre de cluster\")\n",
    "plt.ylabel(\"Score de silhouette\")\n",
    "plt.title(\"PCA Clustering Hierarchique\")\n",
    "plt.tight_layout()\n",
    "plt.show()"
   ]
  },
  {
   "cell_type": "markdown",
   "metadata": {},
   "source": [
    "### 5.2 -  Kernel PCA\n",
    "#### 5.2.1 - Decomposition et projection"
   ]
  },
  {
   "cell_type": "code",
   "execution_count": 24,
   "metadata": {},
   "outputs": [
    {
     "data": {
      "text/plain": [
       "KernelPCA(alpha=1.0, coef0=1, copy_X=True, degree=3, eigen_solver='auto',\n",
       "          fit_inverse_transform=False, gamma=None, kernel='cosine',\n",
       "          kernel_params=None, max_iter=None, n_components=101, n_jobs=None,\n",
       "          random_state=None, remove_zero_eig=False, tol=0)"
      ]
     },
     "execution_count": 24,
     "metadata": {},
     "output_type": "execute_result"
    }
   ],
   "source": [
    "kpca = decomposition.KernelPCA(n_components=101, kernel=\"cosine\")\n",
    "kpca.fit(X)"
   ]
  },
  {
   "cell_type": "code",
   "execution_count": 25,
   "metadata": {},
   "outputs": [
    {
     "data": {
      "image/png": "[encoded data removed]",
      "text/plain": [
       "<Figure size 720x360 with 1 Axes>"
      ]
     },
     "metadata": {
      "needs_background": "light"
     },
     "output_type": "display_data"
    }
   ],
   "source": [
    "components = range(1, len(kpca.lambdas_)+1)\n",
    "plt.figure(figsize=(10, 5))\n",
    "plt.plot(components, kpca.lambdas_*100, color='skyblue', lw=2)\n",
    "plt.xlabel('Nombre de composantes', fontsize=12)\n",
    "plt.ylabel('AgainValues', fontsize=12)\n",
    "plt.title('KernelPCA - part de variance expliquée par composantes')\n",
    "plt.tight_layout()\n",
    "plt.show()"
   ]
  },
  {
   "cell_type": "code",
   "execution_count": 26,
   "metadata": {},
   "outputs": [],
   "source": [
    "kpca = decomposition.KernelPCA(n_components=10, kernel=\"cosine\")\n",
    "kpca.fit(X)\n",
    "\n",
    "X_kpca_projected = kpca.transform(X)"
   ]
  },
  {
   "cell_type": "markdown",
   "metadata": {},
   "source": [
    "#### 5.2.2 - Clustering\n",
    "##### 5.2.2.1 - K-means"
   ]
  },
  {
   "cell_type": "code",
   "execution_count": 27,
   "metadata": {},
   "outputs": [
    {
     "data": {
      "image/png": "[encoded data removed]",
      "text/plain": [
       "<Figure size 720x360 with 1 Axes>"
      ]
     },
     "metadata": {
      "needs_background": "light"
     },
     "output_type": "display_data"
    }
   ],
   "source": [
    "kpca_km_cluster_number = []\n",
    "kpca_km_score = []\n",
    "for n in range(2, 25):\n",
    "    kmean = KMeans(n_clusters=n, n_init=100, max_iter=3000)\n",
    "    kmean.fit(X_kpca_projected)\n",
    "    kpca_km_cluster_number.append(n)\n",
    "    kpca_km_score.append(silhouette_score(X_kpca_projected, kmean.labels_, metric='euclidean'))\n",
    "\n",
    "plt.figure(figsize=(10, 5))\n",
    "plt.plot(kpca_km_cluster_number, kpca_km_score, color=\"skyblue\", lw=2)\n",
    "plt.xlabel(\"Nombre de cluster\")\n",
    "plt.ylabel(\"Score de silhouette\")\n",
    "plt.title(\"KernelPCA Kmean\")\n",
    "plt.tight_layout()\n",
    "plt.show()"
   ]
  },
  {
   "cell_type": "markdown",
   "metadata": {},
   "source": [
    "##### 5.2.2.2 - Clustering Hierarchique"
   ]
  },
  {
   "cell_type": "code",
   "execution_count": 28,
   "metadata": {},
   "outputs": [
    {
     "data": {
      "image/png": "[encoded data removed]",
      "text/plain": [
       "<Figure size 720x360 with 1 Axes>"
      ]
     },
     "metadata": {
      "needs_background": "light"
     },
     "output_type": "display_data"
    }
   ],
   "source": [
    "kpca_hier_cluster_number = []\n",
    "kpca_hier_score = []\n",
    "for n in range(2, 25):\n",
    "    clust_hier = AgglomerativeClustering(n_clusters=n)\n",
    "    clust_hier.fit(X_kpca_projected)\n",
    "    kpca_hier_cluster_number.append(n)\n",
    "    kpca_hier_score.append(silhouette_score(X_kpca_projected, clust_hier.labels_, metric=\"euclidean\"))\n",
    "\n",
    "plt.figure(figsize=(10, 5))\n",
    "plt.plot(kpca_hier_cluster_number, kpca_hier_score, color=\"skyblue\", lw=2)\n",
    "plt.xlabel(\"Nombre de cluster\")\n",
    "plt.ylabel(\"Score de silhouette\")\n",
    "plt.title(\"KernelPCA Clustering Hierarchique\")\n",
    "plt.tight_layout()\n",
    "plt.show()"
   ]
  },
  {
   "cell_type": "markdown",
   "metadata": {},
   "source": [
    "### 5.3 - T-SNE\n",
    "#### 5.3.1 - Decomposition et projection"
   ]
  },
  {
   "cell_type": "code",
   "execution_count": 29,
   "metadata": {},
   "outputs": [],
   "source": [
    "tsne = manifold.TSNE(n_components=2, perplexity=70, n_iter=3000, random_state=0)\n",
    "X_tsne = tsne.fit_transform(X)"
   ]
  },
  {
   "cell_type": "code",
   "execution_count": 30,
   "metadata": {},
   "outputs": [
    {
     "data": {
      "image/png": "[encoded data removed]",
      "text/plain": [
       "<Figure size 720x360 with 1 Axes>"
      ]
     },
     "metadata": {
      "needs_background": "light"
     },
     "output_type": "display_data"
    }
   ],
   "source": [
    "plt.figure(figsize=(10, 5))\n",
    "plt.scatter(X_tsne[:, 0], X_tsne[:, 1], s=0.5)\n",
    "plt.tight_layout()\n",
    "plt.show()"
   ]
  },
  {
   "cell_type": "markdown",
   "metadata": {},
   "source": [
    "#### 5.3.2 - Clustering\n",
    "##### 5.3.2.1 - K-means"
   ]
  },
  {
   "cell_type": "code",
   "execution_count": 31,
   "metadata": {},
   "outputs": [
    {
     "data": {
      "image/png": "[encoded data removed]",
      "text/plain": [
       "<Figure size 720x360 with 1 Axes>"
      ]
     },
     "metadata": {
      "needs_background": "light"
     },
     "output_type": "display_data"
    }
   ],
   "source": [
    "tsne_km_cluster_number = []\n",
    "tsne_km_score = []\n",
    "for n in range(2, 25):\n",
    "    kmean = KMeans(n_clusters=n, n_init=100, max_iter=3000)\n",
    "    kmean.fit(X_tsne)\n",
    "    tsne_km_cluster_number.append(n)\n",
    "    tsne_km_score.append(silhouette_score(X_tsne, kmean.labels_, metric='euclidean'))\n",
    "\n",
    "plt.figure(figsize=(10, 5))\n",
    "plt.plot(tsne_km_cluster_number, tsne_km_score, color=\"skyblue\", lw=2)\n",
    "plt.xlabel(\"Nombre de cluster\")\n",
    "plt.ylabel(\"Score de silhouette\")\n",
    "plt.title(\"TSNE Kmean\")\n",
    "plt.tight_layout()\n",
    "plt.show()"
   ]
  },
  {
   "cell_type": "markdown",
   "metadata": {},
   "source": [
    "##### 5.3.2.2 - Clustering Hierarchique"
   ]
  },
  {
   "cell_type": "code",
   "execution_count": 32,
   "metadata": {},
   "outputs": [
    {
     "data": {
      "image/png": "[encoded data removed]",
      "text/plain": [
       "<Figure size 720x360 with 1 Axes>"
      ]
     },
     "metadata": {
      "needs_background": "light"
     },
     "output_type": "display_data"
    }
   ],
   "source": [
    "tsne_hier_cluster_number = []\n",
    "tsne_hier_score = []\n",
    "for n in range(2, 25):\n",
    "    clust_hier = AgglomerativeClustering(n_clusters=n)\n",
    "    clust_hier.fit(X_tsne)\n",
    "    tsne_hier_cluster_number.append(n)\n",
    "    tsne_hier_score.append(silhouette_score(X_tsne, clust_hier.labels_, metric=\"euclidean\"))\n",
    "\n",
    "plt.figure(figsize=(10, 5))\n",
    "plt.plot(tsne_hier_cluster_number, tsne_hier_score, color=\"skyblue\", lw=2)\n",
    "plt.xlabel(\"Nombre de cluster\")\n",
    "plt.ylabel(\"Score de silhouette\")\n",
    "plt.title(\"TSNE Clustering Hierarchique\")\n",
    "plt.tight_layout()\n",
    "plt.show()"
   ]
  },
  {
   "cell_type": "markdown",
   "metadata": {},
   "source": [
    "### 5.4 - MDS\n",
    "#### 5.4.1 - Decomposition et projection"
   ]
  },
  {
   "cell_type": "code",
   "execution_count": 33,
   "metadata": {},
   "outputs": [],
   "source": [
    "mds = manifold.MDS(n_components=2, n_jobs=-1)\n",
    "X_mds = mds.fit_transform(X)"
   ]
  },
  {
   "cell_type": "markdown",
   "metadata": {},
   "source": [
    "#### 5.4.2 - Clustering\n",
    "##### 5.4.2.1 - K-means"
   ]
  },
  {
   "cell_type": "code",
   "execution_count": 34,
   "metadata": {},
   "outputs": [
    {
     "data": {
      "image/png": "[encoded data removed]",
      "text/plain": [
       "<Figure size 720x360 with 1 Axes>"
      ]
     },
     "metadata": {
      "needs_background": "light"
     },
     "output_type": "display_data"
    }
   ],
   "source": [
    "mds_km_cluster_number = []\n",
    "mds_km_score = []\n",
    "for n in range(2, 25):\n",
    "    kmean = KMeans(n_clusters=n, n_init=100, max_iter=3000)\n",
    "    kmean.fit(X_mds)\n",
    "    mds_km_cluster_number.append(n)\n",
    "    mds_km_score.append(silhouette_score(X_mds, kmean.labels_, metric='euclidean'))\n",
    "\n",
    "plt.figure(figsize=(10, 5))\n",
    "plt.plot(mds_km_cluster_number, mds_km_score, color=\"skyblue\", lw=2)\n",
    "plt.xlabel(\"Nombre de cluster\")\n",
    "plt.ylabel(\"Score de silhouette\")\n",
    "plt.title(\"MDS Kmean\")\n",
    "plt.tight_layout()\n",
    "plt.show()"
   ]
  },
  {
   "cell_type": "markdown",
   "metadata": {},
   "source": [
    "##### 5.4.2.2 - Clustering Hierarchique"
   ]
  },
  {
   "cell_type": "code",
   "execution_count": 35,
   "metadata": {},
   "outputs": [
    {
     "data": {
      "image/png": "[encoded data removed]",
      "text/plain": [
       "<Figure size 720x360 with 1 Axes>"
      ]
     },
     "metadata": {
      "needs_background": "light"
     },
     "output_type": "display_data"
    }
   ],
   "source": [
    "mds_hier_cluster_number = []\n",
    "mds_hier_score = []\n",
    "for n in range(2, 25):\n",
    "    clust_hier = AgglomerativeClustering(n_clusters=n)\n",
    "    clust_hier.fit(X_mds)\n",
    "    mds_hier_cluster_number.append(n)\n",
    "    mds_hier_score.append(silhouette_score(X_mds, clust_hier.labels_, metric=\"euclidean\"))\n",
    "\n",
    "plt.figure(figsize=(10, 5))\n",
    "plt.plot(mds_hier_cluster_number, mds_hier_score, color=\"skyblue\", lw=2)\n",
    "plt.xlabel(\"Nombre de cluster\")\n",
    "plt.ylabel(\"Score de silhouette\")\n",
    "plt.title(\"MDS Clustering Hierarchique\")\n",
    "plt.tight_layout()\n",
    "plt.show()"
   ]
  },
  {
   "cell_type": "markdown",
   "metadata": {},
   "source": [
    "### 5.5 - ISO Map\n",
    "#### 5.5.1 - Decomposition et projection"
   ]
  },
  {
   "cell_type": "code",
   "execution_count": 36,
   "metadata": {},
   "outputs": [],
   "source": [
    "isomap = manifold.Isomap(n_components=2, n_jobs=-1)\n",
    "X_isomap = isomap.fit_transform(X)"
   ]
  },
  {
   "cell_type": "markdown",
   "metadata": {},
   "source": [
    "#### 5.5.2 - Clustering\n",
    "##### 5.5.2.1 - K-means"
   ]
  },
  {
   "cell_type": "code",
   "execution_count": 37,
   "metadata": {},
   "outputs": [
    {
     "data": {
      "image/png": "[encoded data removed]",
      "text/plain": [
       "<Figure size 720x360 with 1 Axes>"
      ]
     },
     "metadata": {
      "needs_background": "light"
     },
     "output_type": "display_data"
    }
   ],
   "source": [
    "iso_km_cluster_number = []\n",
    "iso_km_score = []\n",
    "for n in range(2, 25):\n",
    "    kmean = KMeans(n_clusters=n, n_init=100, max_iter=3000)\n",
    "    kmean.fit(X_isomap)\n",
    "    iso_km_cluster_number.append(n)\n",
    "    iso_km_score.append(silhouette_score(X_isomap, kmean.labels_, metric='euclidean'))\n",
    "\n",
    "plt.figure(figsize=(10, 5))\n",
    "plt.plot(iso_km_cluster_number, iso_km_score, color=\"skyblue\", lw=2)\n",
    "plt.xlabel(\"Nombre de cluster\")\n",
    "plt.ylabel(\"Score de silhouette\")\n",
    "plt.title(\"ISOMap Kmean\")\n",
    "plt.tight_layout()\n",
    "plt.show()"
   ]
  },
  {
   "cell_type": "markdown",
   "metadata": {},
   "source": [
    "##### 5.5.2.2 - Clustering Hierarchique"
   ]
  },
  {
   "cell_type": "code",
   "execution_count": 38,
   "metadata": {},
   "outputs": [
    {
     "data": {
      "image/png": "[encoded data removed]",
      "text/plain": [
       "<Figure size 720x360 with 1 Axes>"
      ]
     },
     "metadata": {
      "needs_background": "light"
     },
     "output_type": "display_data"
    }
   ],
   "source": [
    "iso_hier_cluster_number = []\n",
    "iso_hier_score = []\n",
    "for n in range(2, 25):\n",
    "    clust_hier = AgglomerativeClustering(n_clusters=n)\n",
    "    clust_hier.fit(X_isomap)\n",
    "    iso_hier_cluster_number.append(n)\n",
    "    iso_hier_score.append(silhouette_score(X_isomap, clust_hier.labels_, metric=\"euclidean\"))\n",
    "\n",
    "plt.figure(figsize=(10, 5))\n",
    "plt.plot(iso_hier_cluster_number, iso_hier_score, color=\"skyblue\", lw=2)\n",
    "plt.xlabel(\"Nombre de cluster\")\n",
    "plt.ylabel(\"Score de silhouette\")\n",
    "plt.title(\"ISOMap Clustering Hierarchique\")\n",
    "plt.tight_layout()\n",
    "plt.show()"
   ]
  },
  {
   "cell_type": "markdown",
   "metadata": {},
   "source": [
    "## 6 - Choix du meilleur modèle"
   ]
  },
  {
   "cell_type": "code",
   "execution_count": 12,
   "metadata": {},
   "outputs": [],
   "source": [
    "# KernelPCA (10 composantes) puis KMeans avec 12 Clusters\n",
    "kpca = decomposition.KernelPCA(n_components=10, kernel=\"cosine\")\n",
    "kpca.fit(X)\n",
    "\n",
    "X_kpca_projected = kpca.transform(X)"
   ]
  },
  {
   "cell_type": "code",
   "execution_count": 13,
   "metadata": {},
   "outputs": [
    {
     "data": {
      "text/plain": [
       "KMeans(algorithm='auto', copy_x=True, init='k-means++', max_iter=3000,\n",
       "       n_clusters=12, n_init=100, n_jobs=None, precompute_distances='auto',\n",
       "       random_state=None, tol=0.0001, verbose=0)"
      ]
     },
     "execution_count": 13,
     "metadata": {},
     "output_type": "execute_result"
    }
   ],
   "source": [
    "kmean = KMeans(n_clusters=12, n_init=100, max_iter=3000)\n",
    "kmean.fit(X_kpca_projected)"
   ]
  },
  {
   "cell_type": "code",
   "execution_count": 14,
   "metadata": {},
   "outputs": [],
   "source": [
    "data_3_months_fe['cluster_kpca_km'] = kmean.labels_"
   ]
  },
  {
   "cell_type": "code",
   "execution_count": 15,
   "metadata": {},
   "outputs": [
    {
     "name": "stdout",
     "output_type": "stream",
     "text": [
      "[t-SNE] Computing 211 nearest neighbors...\n",
      "[t-SNE] Indexed 4876 samples in 0.251s...\n",
      "[t-SNE] Computed neighbors for 4876 samples in 5.448s...\n",
      "[t-SNE] Computed conditional probabilities for sample 1000 / 4876\n",
      "[t-SNE] Computed conditional probabilities for sample 2000 / 4876\n",
      "[t-SNE] Computed conditional probabilities for sample 3000 / 4876\n",
      "[t-SNE] Computed conditional probabilities for sample 4000 / 4876\n",
      "[t-SNE] Computed conditional probabilities for sample 4876 / 4876\n",
      "[t-SNE] Mean sigma: 2.142806\n",
      "[t-SNE] Computed conditional probabilities in 0.483s\n",
      "[t-SNE] Iteration 50: error = 78.1184464, gradient norm = 0.0016863 (50 iterations in 3.455s)\n",
      "[t-SNE] Iteration 100: error = 76.6849518, gradient norm = 0.0031446 (50 iterations in 3.061s)\n",
      "[t-SNE] Iteration 150: error = 76.2807007, gradient norm = 0.0004650 (50 iterations in 2.970s)\n",
      "[t-SNE] Iteration 200: error = 76.2586365, gradient norm = 0.0002087 (50 iterations in 2.948s)\n",
      "[t-SNE] Iteration 250: error = 76.2516479, gradient norm = 0.0001778 (50 iterations in 2.974s)\n",
      "[t-SNE] KL divergence after 250 iterations with early exaggeration: 76.251648\n",
      "[t-SNE] Iteration 300: error = 1.3921579, gradient norm = 0.0011878 (50 iterations in 2.587s)\n",
      "[t-SNE] Iteration 350: error = 1.0572118, gradient norm = 0.0004717 (50 iterations in 2.699s)\n",
      "[t-SNE] Iteration 400: error = 0.9365284, gradient norm = 0.0002399 (50 iterations in 2.359s)\n",
      "[t-SNE] Iteration 450: error = 0.8789450, gradient norm = 0.0001604 (50 iterations in 2.377s)\n",
      "[t-SNE] Iteration 500: error = 0.8460837, gradient norm = 0.0001190 (50 iterations in 2.381s)\n",
      "[t-SNE] Iteration 550: error = 0.8274325, gradient norm = 0.0000935 (50 iterations in 2.410s)\n",
      "[t-SNE] Iteration 600: error = 0.8161307, gradient norm = 0.0000881 (50 iterations in 2.391s)\n",
      "[t-SNE] Iteration 650: error = 0.8101261, gradient norm = 0.0000741 (50 iterations in 2.631s)\n",
      "[t-SNE] Iteration 700: error = 0.8065408, gradient norm = 0.0000729 (50 iterations in 2.474s)\n",
      "[t-SNE] Iteration 750: error = 0.8041496, gradient norm = 0.0000640 (50 iterations in 2.469s)\n",
      "[t-SNE] Iteration 800: error = 0.8020859, gradient norm = 0.0000587 (50 iterations in 2.390s)\n",
      "[t-SNE] Iteration 850: error = 0.8003899, gradient norm = 0.0000669 (50 iterations in 2.379s)\n",
      "[t-SNE] Iteration 900: error = 0.7995273, gradient norm = 0.0000611 (50 iterations in 2.971s)\n",
      "[t-SNE] Iteration 950: error = 0.7987472, gradient norm = 0.0000611 (50 iterations in 2.434s)\n",
      "[t-SNE] Iteration 1000: error = 0.7980736, gradient norm = 0.0000621 (50 iterations in 2.457s)\n",
      "[t-SNE] Iteration 1050: error = 0.7973635, gradient norm = 0.0000654 (50 iterations in 2.475s)\n",
      "[t-SNE] Iteration 1100: error = 0.7967899, gradient norm = 0.0000639 (50 iterations in 2.472s)\n",
      "[t-SNE] Iteration 1150: error = 0.7963426, gradient norm = 0.0000780 (50 iterations in 2.600s)\n",
      "[t-SNE] Iteration 1200: error = 0.7957587, gradient norm = 0.0000630 (50 iterations in 2.446s)\n",
      "[t-SNE] Iteration 1250: error = 0.7953562, gradient norm = 0.0000611 (50 iterations in 2.671s)\n",
      "[t-SNE] Iteration 1300: error = 0.7951329, gradient norm = 0.0000586 (50 iterations in 2.448s)\n",
      "[t-SNE] Iteration 1350: error = 0.7947849, gradient norm = 0.0000599 (50 iterations in 2.476s)\n",
      "[t-SNE] Iteration 1400: error = 0.7943994, gradient norm = 0.0000608 (50 iterations in 2.444s)\n",
      "[t-SNE] Iteration 1450: error = 0.7939656, gradient norm = 0.0000572 (50 iterations in 2.415s)\n",
      "[t-SNE] Iteration 1500: error = 0.7935534, gradient norm = 0.0000572 (50 iterations in 2.441s)\n",
      "[t-SNE] Iteration 1550: error = 0.7933574, gradient norm = 0.0000562 (50 iterations in 2.526s)\n",
      "[t-SNE] Iteration 1600: error = 0.7930497, gradient norm = 0.0000567 (50 iterations in 2.415s)\n",
      "[t-SNE] Iteration 1650: error = 0.7928813, gradient norm = 0.0000564 (50 iterations in 2.405s)\n",
      "[t-SNE] Iteration 1700: error = 0.7926638, gradient norm = 0.0000542 (50 iterations in 2.421s)\n",
      "[t-SNE] Iteration 1750: error = 0.7923614, gradient norm = 0.0000562 (50 iterations in 2.493s)\n",
      "[t-SNE] Iteration 1800: error = 0.7919472, gradient norm = 0.0000565 (50 iterations in 3.054s)\n",
      "[t-SNE] Iteration 1850: error = 0.7915012, gradient norm = 0.0000568 (50 iterations in 3.050s)\n",
      "[t-SNE] Iteration 1900: error = 0.7912871, gradient norm = 0.0000553 (50 iterations in 2.963s)\n",
      "[t-SNE] Iteration 1950: error = 0.7908505, gradient norm = 0.0000551 (50 iterations in 3.054s)\n",
      "[t-SNE] Iteration 2000: error = 0.7902983, gradient norm = 0.0000535 (50 iterations in 2.417s)\n",
      "[t-SNE] Iteration 2050: error = 0.7899638, gradient norm = 0.0000524 (50 iterations in 2.440s)\n",
      "[t-SNE] Iteration 2100: error = 0.7896671, gradient norm = 0.0000528 (50 iterations in 2.470s)\n",
      "[t-SNE] Iteration 2150: error = 0.7894178, gradient norm = 0.0000528 (50 iterations in 2.642s)\n",
      "[t-SNE] Iteration 2200: error = 0.7892548, gradient norm = 0.0000524 (50 iterations in 2.444s)\n",
      "[t-SNE] Iteration 2250: error = 0.7889677, gradient norm = 0.0000525 (50 iterations in 2.493s)\n",
      "[t-SNE] Iteration 2300: error = 0.7886931, gradient norm = 0.0000535 (50 iterations in 3.585s)\n",
      "[t-SNE] Iteration 2350: error = 0.7885773, gradient norm = 0.0000512 (50 iterations in 3.007s)\n",
      "[t-SNE] Iteration 2400: error = 0.7883394, gradient norm = 0.0000507 (50 iterations in 3.075s)\n",
      "[t-SNE] Iteration 2450: error = 0.7881494, gradient norm = 0.0000516 (50 iterations in 3.400s)\n",
      "[t-SNE] Iteration 2500: error = 0.7880310, gradient norm = 0.0000493 (50 iterations in 3.567s)\n",
      "[t-SNE] Iteration 2550: error = 0.7878875, gradient norm = 0.0000489 (50 iterations in 2.455s)\n",
      "[t-SNE] Iteration 2600: error = 0.7877751, gradient norm = 0.0000474 (50 iterations in 2.445s)\n",
      "[t-SNE] Iteration 2650: error = 0.7874553, gradient norm = 0.0000508 (50 iterations in 2.501s)\n",
      "[t-SNE] Iteration 2700: error = 0.7872753, gradient norm = 0.0000469 (50 iterations in 2.499s)\n",
      "[t-SNE] Iteration 2750: error = 0.7869840, gradient norm = 0.0000510 (50 iterations in 2.477s)\n",
      "[t-SNE] Iteration 2800: error = 0.7869313, gradient norm = 0.0000470 (50 iterations in 2.662s)\n",
      "[t-SNE] Iteration 2850: error = 0.7868672, gradient norm = 0.0000489 (50 iterations in 2.440s)\n",
      "[t-SNE] Iteration 2900: error = 0.7866907, gradient norm = 0.0000495 (50 iterations in 2.483s)\n",
      "[t-SNE] Iteration 2950: error = 0.7864894, gradient norm = 0.0000477 (50 iterations in 3.815s)\n",
      "[t-SNE] Iteration 3000: error = 0.7863409, gradient norm = 0.0000467 (50 iterations in 2.479s)\n",
      "[t-SNE] KL divergence after 3000 iterations: 0.786341\n"
     ]
    }
   ],
   "source": [
    "# TSNE ( 2 composantes ) puis KMeans avec 15 Clusters\n",
    "tsne = manifold.TSNE(n_components=2, perplexity=70, n_iter=3000, random_state=0)\n",
    "X_tsne = tsne.fit_transform(X)"
   ]
  },
  {
   "cell_type": "code",
   "execution_count": 16,
   "metadata": {},
   "outputs": [
    {
     "data": {
      "text/plain": [
       "KMeans(algorithm='auto', copy_x=True, init='k-means++', max_iter=3000,\n",
       "       n_clusters=15, n_init=100, n_jobs=None, precompute_distances='auto',\n",
       "       random_state=None, tol=0.0001, verbose=0)"
      ]
     },
     "execution_count": 16,
     "metadata": {},
     "output_type": "execute_result"
    }
   ],
   "source": [
    "kmean_tsne = KMeans(n_clusters=15, n_init=100, max_iter=3000)\n",
    "kmean_tsne.fit(X_tsne)"
   ]
  },
  {
   "cell_type": "code",
   "execution_count": 17,
   "metadata": {},
   "outputs": [],
   "source": [
    "data_3_months_fe['cluster_tsne_km'] = kmean_tsne.labels_"
   ]
  },
  {
   "cell_type": "code",
   "execution_count": 18,
   "metadata": {},
   "outputs": [
    {
     "data": {
      "image/png": "[encoded data removed]",
      "text/plain": [
       "<Figure size 720x360 with 1 Axes>"
      ]
     },
     "metadata": {
      "needs_background": "light"
     },
     "output_type": "display_data"
    }
   ],
   "source": [
    "plt.figure(figsize=(10, 5))\n",
    "plt.hist(data_3_months_fe['cluster_kpca_km'], bins=12)\n",
    "plt.tight_layout()\n",
    "plt.show()"
   ]
  },
  {
   "cell_type": "code",
   "execution_count": 19,
   "metadata": {},
   "outputs": [
    {
     "name": "stdout",
     "output_type": "stream",
     "text": [
      "taille cluster max: 1407\n",
      "taille cluster min: 211\n"
     ]
    }
   ],
   "source": [
    "print('taille cluster max: {}'.format(max(data_3_months_fe.groupby(['cluster_kpca_km']).size())))\n",
    "print('taille cluster min: {}'.format(min(data_3_months_fe.groupby(['cluster_kpca_km']).size())))"
   ]
  },
  {
   "cell_type": "code",
   "execution_count": 20,
   "metadata": {},
   "outputs": [
    {
     "data": {
      "image/png": "[encoded data removed]",
      "text/plain": [
       "<Figure size 720x360 with 1 Axes>"
      ]
     },
     "metadata": {
      "needs_background": "light"
     },
     "output_type": "display_data"
    }
   ],
   "source": [
    "plt.figure(figsize=(10, 5))\n",
    "plt.hist(data_3_months_fe['cluster_tsne_km'], bins=15)\n",
    "plt.tight_layout()\n",
    "plt.show()"
   ]
  },
  {
   "cell_type": "code",
   "execution_count": 21,
   "metadata": {},
   "outputs": [
    {
     "name": "stdout",
     "output_type": "stream",
     "text": [
      "taille cluster max: 674\n",
      "taille cluster min: 155\n"
     ]
    }
   ],
   "source": [
    "print('taille cluster max: {}'.format(max(data_3_months_fe.groupby(['cluster_tsne_km']).size())))\n",
    "print('taille cluster min: {}'.format(min(data_3_months_fe.groupby(['cluster_tsne_km']).size())))"
   ]
  },
  {
   "cell_type": "markdown",
   "metadata": {},
   "source": [
    "La réduction de dimensions TSNE avec le modèle KMeans semble avoir une distribution plus équilibré, notre choix ce portera donc sur ce modèle et sur cette réduction de dimension."
   ]
  },
  {
   "cell_type": "code",
   "execution_count": 22,
   "metadata": {},
   "outputs": [],
   "source": [
    "data_3_months_fe = data_3_months_fe.drop(columns=['cluster_kpca_km'])"
   ]
  },
  {
   "cell_type": "code",
   "execution_count": 23,
   "metadata": {},
   "outputs": [
    {
     "data": {
      "image/png": "[encoded data removed]",
      "text/plain": [
       "<Figure size 720x360 with 1 Axes>"
      ]
     },
     "metadata": {
      "needs_background": "light"
     },
     "output_type": "display_data"
    }
   ],
   "source": [
    "plt.figure(figsize=(10, 5))\n",
    "plt.scatter(X_tsne[:, 0], X_tsne[:, 1], marker='.', c=kmean_tsne.labels_)\n",
    "plt.tight_layout()\n",
    "plt.show()"
   ]
  },
  {
   "cell_type": "code",
   "execution_count": 24,
   "metadata": {},
   "outputs": [],
   "source": [
    "from math import pi\n",
    "categories = [\"recency\", \"frequency\", \"monetary\", \"payment_value_mean\", \"review_score_mean\"]\n",
    "values = data_3_months_fe[categories].mean().values.flatten().tolist()\n",
    "values += values[:1]\n",
    "\n",
    "angles = [n / float(len(categories)) * 2 * pi for n in range(len(categories))]\n",
    "angles += angles[:1]"
   ]
  },
  {
   "cell_type": "code",
   "execution_count": 25,
   "metadata": {},
   "outputs": [
    {
     "data": {
      "image/png": "[encoded data removed]",
      "text/plain": [
       "<Figure size 720x360 with 1 Axes>"
      ]
     },
     "metadata": {
      "needs_background": "dark"
     },
     "output_type": "display_data"
    }
   ],
   "source": [
    "fig, ax = plt.subplots(nrows=1, ncols=1, figsize=(10, 5), subplot_kw=(dict(polar=True)))\n",
    "\n",
    "plt.xticks(angles[:-1], categories, color='grey', size=12)\n",
    "plt.yticks(np.arange(1,6), [\"1\", \"2\", \"3\", \"4\", \"5\"], color='grey', size=12)\n",
    "ax.set_rlabel_position(30)\n",
    "\n",
    "# Cluster 0\n",
    "val_c1 = data_3_months_fe.groupby(\"cluster_tsne_km\").mean().loc[0][categories].tolist()\n",
    "val_c1 += val_c1[:1]\n",
    "ax.plot(angles, val_c1, linewidth=1, linestyle='solid', label='Cluster #0')\n",
    "ax.fill(angles, val_c1, 'skyblue', alpha=0.2)\n",
    " \n",
    "# Cluster 1\n",
    "val_c2 = data_3_months_fe.groupby(\"cluster_tsne_km\").mean().loc[1][categories].tolist()\n",
    "val_c2 += val_c2[:1]\n",
    "ax.plot(angles, val_c2, linewidth=1, linestyle='solid', label='Cluster #1')\n",
    "ax.fill(angles, val_c2, 'red', alpha=0.2)\n",
    "    \n",
    "# Cluster 2\n",
    "val_c3 = data_3_months_fe.groupby(\"cluster_tsne_km\").mean().loc[2][categories].tolist()\n",
    "val_c3 += val_c3[:1]\n",
    "ax.plot(angles, val_c3, linewidth=1, linestyle='solid', label='Cluster #2')\n",
    "ax.fill(angles, val_c3, 'green', alpha=0.2)\n",
    "\n",
    "# Cluster 3\n",
    "val_c4 = data_3_months_fe.groupby(\"cluster_tsne_km\").mean().loc[3][categories].tolist()\n",
    "val_c4 += val_c4[:1]\n",
    "ax.plot(angles, val_c4, linewidth=1, linestyle='solid', label='Cluster #3')\n",
    "ax.fill(angles, val_c4, 'magenta', alpha=0.2)\n",
    "    \n",
    "# Cluster 4\n",
    "val_c5 = data_3_months_fe.groupby(\"cluster_tsne_km\").mean().loc[4][categories].tolist()\n",
    "val_c5 += val_c5[:1]\n",
    "ax.plot(angles, val_c5, linewidth=1, linestyle='solid', label='Cluster #4')\n",
    "ax.fill(angles, val_c5, 'orange', alpha=0.2)\n",
    "    \n",
    "plt.legend(loc='upper right')\n",
    "plt.tight_layout()\n",
    "plt.show()"
   ]
  },
  {
   "cell_type": "code",
   "execution_count": 26,
   "metadata": {},
   "outputs": [],
   "source": [
    "data_result = pd.DataFrame(index=data_all_fe.index)"
   ]
  },
  {
   "cell_type": "code",
   "execution_count": 27,
   "metadata": {},
   "outputs": [
    {
     "data": {
      "text/html": [
       "<div>\n",
       "<style scoped>\n",
       "    .dataframe tbody tr th:only-of-type {\n",
       "        vertical-align: middle;\n",
       "    }\n",
       "\n",
       "    .dataframe tbody tr th {\n",
       "        vertical-align: top;\n",
       "    }\n",
       "\n",
       "    .dataframe thead th {\n",
       "        text-align: right;\n",
       "    }\n",
       "</style>\n",
       "<table border=\"1\" class=\"dataframe\">\n",
       "  <thead>\n",
       "    <tr style=\"text-align: right;\">\n",
       "      <th></th>\n",
       "      <th>cluster_3_months</th>\n",
       "    </tr>\n",
       "    <tr>\n",
       "      <th>customer_unique_id</th>\n",
       "      <th></th>\n",
       "    </tr>\n",
       "  </thead>\n",
       "  <tbody>\n",
       "    <tr>\n",
       "      <td>0000366f3b9a7992bf8c76cfdf3221e2</td>\n",
       "      <td>NaN</td>\n",
       "    </tr>\n",
       "    <tr>\n",
       "      <td>0000b849f77a49e4a4ce2b2a4ca5be3f</td>\n",
       "      <td>NaN</td>\n",
       "    </tr>\n",
       "    <tr>\n",
       "      <td>0000f46a3911fa3c0805444483337064</td>\n",
       "      <td>2.0</td>\n",
       "    </tr>\n",
       "    <tr>\n",
       "      <td>0000f6ccb0745a6a4b88665a16c9f078</td>\n",
       "      <td>NaN</td>\n",
       "    </tr>\n",
       "    <tr>\n",
       "      <td>0004aac84e0df4da2b147fca70cf8255</td>\n",
       "      <td>NaN</td>\n",
       "    </tr>\n",
       "    <tr>\n",
       "      <td>...</td>\n",
       "      <td>...</td>\n",
       "    </tr>\n",
       "    <tr>\n",
       "      <td>fffcf5a5ff07b0908bd4e2dbc735a684</td>\n",
       "      <td>NaN</td>\n",
       "    </tr>\n",
       "    <tr>\n",
       "      <td>fffea47cd6d3cc0a88bd621562a9d061</td>\n",
       "      <td>NaN</td>\n",
       "    </tr>\n",
       "    <tr>\n",
       "      <td>ffff371b4d645b6ecea244b27531430a</td>\n",
       "      <td>10.0</td>\n",
       "    </tr>\n",
       "    <tr>\n",
       "      <td>ffff5962728ec6157033ef9805bacc48</td>\n",
       "      <td>NaN</td>\n",
       "    </tr>\n",
       "    <tr>\n",
       "      <td>ffffd2657e2aad2907e67c3e9daecbeb</td>\n",
       "      <td>NaN</td>\n",
       "    </tr>\n",
       "  </tbody>\n",
       "</table>\n",
       "<p>93790 rows × 1 columns</p>\n",
       "</div>"
      ],
      "text/plain": [
       "                                  cluster_3_months\n",
       "customer_unique_id                                \n",
       "0000366f3b9a7992bf8c76cfdf3221e2               NaN\n",
       "0000b849f77a49e4a4ce2b2a4ca5be3f               NaN\n",
       "0000f46a3911fa3c0805444483337064               2.0\n",
       "0000f6ccb0745a6a4b88665a16c9f078               NaN\n",
       "0004aac84e0df4da2b147fca70cf8255               NaN\n",
       "...                                            ...\n",
       "fffcf5a5ff07b0908bd4e2dbc735a684               NaN\n",
       "fffea47cd6d3cc0a88bd621562a9d061               NaN\n",
       "ffff371b4d645b6ecea244b27531430a              10.0\n",
       "ffff5962728ec6157033ef9805bacc48               NaN\n",
       "ffffd2657e2aad2907e67c3e9daecbeb               NaN\n",
       "\n",
       "[93790 rows x 1 columns]"
      ]
     },
     "execution_count": 27,
     "metadata": {},
     "output_type": "execute_result"
    }
   ],
   "source": [
    "data_result['cluster_3_months'] = data_3_months_fe['cluster_tsne_km']\n",
    "data_result"
   ]
  },
  {
   "cell_type": "markdown",
   "metadata": {},
   "source": [
    "## 7 - Clustering sur les autres jeux de données\n",
    "### 7.1 - Normalisation"
   ]
  },
  {
   "cell_type": "code",
   "execution_count": 28,
   "metadata": {},
   "outputs": [],
   "source": [
    "standardize = preprocessing.StandardScaler(copy=True, with_mean=True, with_std=True)"
   ]
  },
  {
   "cell_type": "code",
   "execution_count": 29,
   "metadata": {},
   "outputs": [],
   "source": [
    "standardize.fit(data_6_months_fe)\n",
    "data_6_months_fe = standardize.transform(data_6_months_fe)"
   ]
  },
  {
   "cell_type": "code",
   "execution_count": 30,
   "metadata": {},
   "outputs": [],
   "source": [
    "standardize.fit(data_9_months_fe)\n",
    "data_9_months_fe = standardize.transform(data_9_months_fe)"
   ]
  },
  {
   "cell_type": "code",
   "execution_count": 31,
   "metadata": {},
   "outputs": [],
   "source": [
    "standardize.fit(data_12_months_fe)\n",
    "data_12_months_fe = standardize.transform(data_12_months_fe)"
   ]
  },
  {
   "cell_type": "code",
   "execution_count": null,
   "metadata": {},
   "outputs": [],
   "source": [
    "standardize.fit(data_15_months_fe)\n",
    "data_15_months_fe = standardize.transform(data_15_months_fe)"
   ]
  },
  {
   "cell_type": "code",
   "execution_count": null,
   "metadata": {},
   "outputs": [],
   "source": [
    "standardize.fit(data_18_months_fe)\n",
    "data_18_months_fe = standardize.transform(data_18_months_fe)"
   ]
  },
  {
   "cell_type": "code",
   "execution_count": 32,
   "metadata": {},
   "outputs": [],
   "source": [
    "standardize.fit(data_all_fe)\n",
    "data_all_fe = standardize.transform(data_all_fe)"
   ]
  },
  {
   "cell_type": "markdown",
   "metadata": {},
   "source": [
    "### 7.2 - Réduction de dimension"
   ]
  },
  {
   "cell_type": "code",
   "execution_count": 33,
   "metadata": {},
   "outputs": [],
   "source": [
    "X_6 = data_6_months_fe.values\n",
    "X_9 = data_9_months_fe.values\n",
    "X_12 = data_12_months_fe.values\n",
    "X_15 = data_15_months_fe.values\n",
    "X_18 = data_18_months_fe.values\n",
    "X_all = data_all_fe.values"
   ]
  },
  {
   "cell_type": "code",
   "execution_count": 34,
   "metadata": {},
   "outputs": [],
   "source": [
    "tsne = manifold.TSNE(n_components=2, perplexity=70, n_iter=3000, random_state=0)"
   ]
  },
  {
   "cell_type": "code",
   "execution_count": 35,
   "metadata": {},
   "outputs": [
    {
     "name": "stdout",
     "output_type": "stream",
     "text": [
      "[t-SNE] Computing 211 nearest neighbors...\n",
      "[t-SNE] Indexed 13671 samples in 0.682s...\n",
      "[t-SNE] Computed neighbors for 13671 samples in 36.136s...\n",
      "[t-SNE] Computed conditional probabilities for sample 1000 / 13671\n",
      "[t-SNE] Computed conditional probabilities for sample 2000 / 13671\n",
      "[t-SNE] Computed conditional probabilities for sample 3000 / 13671\n",
      "[t-SNE] Computed conditional probabilities for sample 4000 / 13671\n",
      "[t-SNE] Computed conditional probabilities for sample 5000 / 13671\n",
      "[t-SNE] Computed conditional probabilities for sample 6000 / 13671\n",
      "[t-SNE] Computed conditional probabilities for sample 7000 / 13671\n",
      "[t-SNE] Computed conditional probabilities for sample 8000 / 13671\n",
      "[t-SNE] Computed conditional probabilities for sample 9000 / 13671\n",
      "[t-SNE] Computed conditional probabilities for sample 10000 / 13671\n",
      "[t-SNE] Computed conditional probabilities for sample 11000 / 13671\n",
      "[t-SNE] Computed conditional probabilities for sample 12000 / 13671\n",
      "[t-SNE] Computed conditional probabilities for sample 13000 / 13671\n",
      "[t-SNE] Computed conditional probabilities for sample 13671 / 13671\n",
      "[t-SNE] Mean sigma: 1.743064\n",
      "[t-SNE] Computed conditional probabilities in 0.980s\n",
      "[t-SNE] Iteration 50: error = 89.7085800, gradient norm = 0.0050014 (50 iterations in 10.842s)\n",
      "[t-SNE] Iteration 100: error = 76.5314178, gradient norm = 0.0023534 (50 iterations in 13.899s)\n",
      "[t-SNE] Iteration 150: error = 73.2023621, gradient norm = 0.0010959 (50 iterations in 11.118s)\n",
      "[t-SNE] Iteration 200: error = 71.8276291, gradient norm = 0.0007084 (50 iterations in 14.506s)\n",
      "[t-SNE] Iteration 250: error = 71.0495911, gradient norm = 0.0004842 (50 iterations in 8.831s)\n",
      "[t-SNE] KL divergence after 250 iterations with early exaggeration: 71.049591\n",
      "[t-SNE] Iteration 300: error = 2.2273662, gradient norm = 0.0013689 (50 iterations in 8.647s)\n",
      "[t-SNE] Iteration 350: error = 1.5976144, gradient norm = 0.0006240 (50 iterations in 8.029s)\n",
      "[t-SNE] Iteration 400: error = 1.3015513, gradient norm = 0.0003720 (50 iterations in 7.874s)\n",
      "[t-SNE] Iteration 450: error = 1.1318812, gradient norm = 0.0002529 (50 iterations in 7.754s)\n",
      "[t-SNE] Iteration 500: error = 1.0228966, gradient norm = 0.0001853 (50 iterations in 9.992s)\n",
      "[t-SNE] Iteration 550: error = 0.9474766, gradient norm = 0.0001431 (50 iterations in 15.366s)\n",
      "[t-SNE] Iteration 600: error = 0.8923861, gradient norm = 0.0001158 (50 iterations in 10.178s)\n",
      "[t-SNE] Iteration 650: error = 0.8506026, gradient norm = 0.0000964 (50 iterations in 8.148s)\n",
      "[t-SNE] Iteration 700: error = 0.8181993, gradient norm = 0.0000825 (50 iterations in 7.728s)\n",
      "[t-SNE] Iteration 750: error = 0.7927399, gradient norm = 0.0000714 (50 iterations in 8.015s)\n",
      "[t-SNE] Iteration 800: error = 0.7722367, gradient norm = 0.0000638 (50 iterations in 8.999s)\n",
      "[t-SNE] Iteration 850: error = 0.7558165, gradient norm = 0.0000596 (50 iterations in 7.885s)\n",
      "[t-SNE] Iteration 900: error = 0.7427545, gradient norm = 0.0000574 (50 iterations in 7.890s)\n",
      "[t-SNE] Iteration 950: error = 0.7326101, gradient norm = 0.0000560 (50 iterations in 7.782s)\n",
      "[t-SNE] Iteration 1000: error = 0.7253417, gradient norm = 0.0000533 (50 iterations in 7.868s)\n",
      "[t-SNE] Iteration 1050: error = 0.7199709, gradient norm = 0.0000501 (50 iterations in 7.984s)\n",
      "[t-SNE] Iteration 1100: error = 0.7154435, gradient norm = 0.0000493 (50 iterations in 7.937s)\n",
      "[t-SNE] Iteration 1150: error = 0.7116703, gradient norm = 0.0000466 (50 iterations in 7.874s)\n",
      "[t-SNE] Iteration 1200: error = 0.7083057, gradient norm = 0.0000464 (50 iterations in 7.969s)\n",
      "[t-SNE] Iteration 1250: error = 0.7055448, gradient norm = 0.0000462 (50 iterations in 8.118s)\n",
      "[t-SNE] Iteration 1300: error = 0.7030733, gradient norm = 0.0000450 (50 iterations in 8.033s)\n",
      "[t-SNE] Iteration 1350: error = 0.7010389, gradient norm = 0.0000433 (50 iterations in 7.921s)\n",
      "[t-SNE] Iteration 1400: error = 0.6992562, gradient norm = 0.0000434 (50 iterations in 8.406s)\n",
      "[t-SNE] Iteration 1450: error = 0.6977875, gradient norm = 0.0000420 (50 iterations in 8.397s)\n",
      "[t-SNE] Iteration 1500: error = 0.6964591, gradient norm = 0.0000406 (50 iterations in 8.016s)\n",
      "[t-SNE] Iteration 1550: error = 0.6952054, gradient norm = 0.0000387 (50 iterations in 8.118s)\n",
      "[t-SNE] Iteration 1600: error = 0.6939461, gradient norm = 0.0000385 (50 iterations in 8.190s)\n",
      "[t-SNE] Iteration 1650: error = 0.6927971, gradient norm = 0.0000377 (50 iterations in 8.028s)\n",
      "[t-SNE] Iteration 1700: error = 0.6917444, gradient norm = 0.0000357 (50 iterations in 8.364s)\n",
      "[t-SNE] Iteration 1750: error = 0.6905127, gradient norm = 0.0000357 (50 iterations in 8.225s)\n",
      "[t-SNE] Iteration 1800: error = 0.6892533, gradient norm = 0.0000362 (50 iterations in 8.297s)\n",
      "[t-SNE] Iteration 1850: error = 0.6880543, gradient norm = 0.0000351 (50 iterations in 8.131s)\n",
      "[t-SNE] Iteration 1900: error = 0.6869057, gradient norm = 0.0000345 (50 iterations in 8.324s)\n",
      "[t-SNE] Iteration 1950: error = 0.6856956, gradient norm = 0.0000335 (50 iterations in 8.136s)\n",
      "[t-SNE] Iteration 2000: error = 0.6845110, gradient norm = 0.0000332 (50 iterations in 8.037s)\n",
      "[t-SNE] Iteration 2050: error = 0.6833773, gradient norm = 0.0000326 (50 iterations in 8.336s)\n",
      "[t-SNE] Iteration 2100: error = 0.6822990, gradient norm = 0.0000329 (50 iterations in 8.273s)\n",
      "[t-SNE] Iteration 2150: error = 0.6812394, gradient norm = 0.0000335 (50 iterations in 8.150s)\n",
      "[t-SNE] Iteration 2200: error = 0.6803125, gradient norm = 0.0000329 (50 iterations in 8.427s)\n",
      "[t-SNE] Iteration 2250: error = 0.6794925, gradient norm = 0.0000340 (50 iterations in 10.997s)\n",
      "[t-SNE] Iteration 2300: error = 0.6786761, gradient norm = 0.0000351 (50 iterations in 9.658s)\n",
      "[t-SNE] Iteration 2350: error = 0.6779344, gradient norm = 0.0000338 (50 iterations in 8.155s)\n",
      "[t-SNE] Iteration 2400: error = 0.6773812, gradient norm = 0.0000336 (50 iterations in 11.484s)\n",
      "[t-SNE] Iteration 2450: error = 0.6768476, gradient norm = 0.0000339 (50 iterations in 10.905s)\n",
      "[t-SNE] Iteration 2500: error = 0.6764105, gradient norm = 0.0000328 (50 iterations in 9.556s)\n",
      "[t-SNE] Iteration 2550: error = 0.6759669, gradient norm = 0.0000326 (50 iterations in 8.651s)\n",
      "[t-SNE] Iteration 2600: error = 0.6754802, gradient norm = 0.0000322 (50 iterations in 8.327s)\n",
      "[t-SNE] Iteration 2650: error = 0.6750965, gradient norm = 0.0000319 (50 iterations in 8.750s)\n",
      "[t-SNE] Iteration 2700: error = 0.6746383, gradient norm = 0.0000319 (50 iterations in 8.598s)\n",
      "[t-SNE] Iteration 2750: error = 0.6742815, gradient norm = 0.0000303 (50 iterations in 8.291s)\n",
      "[t-SNE] Iteration 2800: error = 0.6738366, gradient norm = 0.0000323 (50 iterations in 8.222s)\n",
      "[t-SNE] Iteration 2850: error = 0.6734083, gradient norm = 0.0000325 (50 iterations in 9.211s)\n",
      "[t-SNE] Iteration 2900: error = 0.6730747, gradient norm = 0.0000306 (50 iterations in 8.323s)\n",
      "[t-SNE] Iteration 2950: error = 0.6726398, gradient norm = 0.0000300 (50 iterations in 8.499s)\n",
      "[t-SNE] Iteration 3000: error = 0.6722605, gradient norm = 0.0000298 (50 iterations in 8.524s)\n",
      "[t-SNE] KL divergence after 3000 iterations: 0.672260\n"
     ]
    }
   ],
   "source": [
    "X_6_tsne = tsne.fit_transform(X_6)"
   ]
  },
  {
   "cell_type": "code",
   "execution_count": 36,
   "metadata": {},
   "outputs": [
    {
     "name": "stdout",
     "output_type": "stream",
     "text": [
      "[t-SNE] Computing 211 nearest neighbors...\n",
      "[t-SNE] Indexed 25575 samples in 1.210s...\n",
      "[t-SNE] Computed neighbors for 25575 samples in 114.275s...\n",
      "[t-SNE] Computed conditional probabilities for sample 1000 / 25575\n",
      "[t-SNE] Computed conditional probabilities for sample 2000 / 25575\n",
      "[t-SNE] Computed conditional probabilities for sample 3000 / 25575\n",
      "[t-SNE] Computed conditional probabilities for sample 4000 / 25575\n",
      "[t-SNE] Computed conditional probabilities for sample 5000 / 25575\n",
      "[t-SNE] Computed conditional probabilities for sample 6000 / 25575\n",
      "[t-SNE] Computed conditional probabilities for sample 7000 / 25575\n",
      "[t-SNE] Computed conditional probabilities for sample 8000 / 25575\n",
      "[t-SNE] Computed conditional probabilities for sample 9000 / 25575\n",
      "[t-SNE] Computed conditional probabilities for sample 10000 / 25575\n",
      "[t-SNE] Computed conditional probabilities for sample 11000 / 25575\n",
      "[t-SNE] Computed conditional probabilities for sample 12000 / 25575\n",
      "[t-SNE] Computed conditional probabilities for sample 13000 / 25575\n",
      "[t-SNE] Computed conditional probabilities for sample 14000 / 25575\n",
      "[t-SNE] Computed conditional probabilities for sample 15000 / 25575\n",
      "[t-SNE] Computed conditional probabilities for sample 16000 / 25575\n",
      "[t-SNE] Computed conditional probabilities for sample 17000 / 25575\n",
      "[t-SNE] Computed conditional probabilities for sample 18000 / 25575\n",
      "[t-SNE] Computed conditional probabilities for sample 19000 / 25575\n",
      "[t-SNE] Computed conditional probabilities for sample 20000 / 25575\n",
      "[t-SNE] Computed conditional probabilities for sample 21000 / 25575\n",
      "[t-SNE] Computed conditional probabilities for sample 22000 / 25575\n",
      "[t-SNE] Computed conditional probabilities for sample 23000 / 25575\n",
      "[t-SNE] Computed conditional probabilities for sample 24000 / 25575\n",
      "[t-SNE] Computed conditional probabilities for sample 25000 / 25575\n",
      "[t-SNE] Computed conditional probabilities for sample 25575 / 25575\n",
      "[t-SNE] Mean sigma: 1.331245\n",
      "[t-SNE] Computed conditional probabilities in 1.764s\n",
      "[t-SNE] Iteration 50: error = 96.1149597, gradient norm = 0.0001998 (50 iterations in 22.864s)\n",
      "[t-SNE] Iteration 100: error = 79.3460388, gradient norm = 0.0028007 (50 iterations in 22.221s)\n",
      "[t-SNE] Iteration 150: error = 73.0922394, gradient norm = 0.0013871 (50 iterations in 19.968s)\n",
      "[t-SNE] Iteration 200: error = 70.4399414, gradient norm = 0.0009527 (50 iterations in 18.970s)\n",
      "[t-SNE] Iteration 250: error = 68.8955078, gradient norm = 0.0007199 (50 iterations in 18.881s)\n",
      "[t-SNE] KL divergence after 250 iterations with early exaggeration: 68.895508\n",
      "[t-SNE] Iteration 300: error = 2.7587893, gradient norm = 0.0012184 (50 iterations in 18.984s)\n",
      "[t-SNE] Iteration 350: error = 2.1880403, gradient norm = 0.0006877 (50 iterations in 17.694s)\n",
      "[t-SNE] Iteration 400: error = 1.8154142, gradient norm = 0.0004451 (50 iterations in 17.030s)\n",
      "[t-SNE] Iteration 450: error = 1.5662342, gradient norm = 0.0003164 (50 iterations in 17.028s)\n",
      "[t-SNE] Iteration 500: error = 1.3910795, gradient norm = 0.0002391 (50 iterations in 16.917s)\n",
      "[t-SNE] Iteration 550: error = 1.2632672, gradient norm = 0.0001887 (50 iterations in 16.772s)\n",
      "[t-SNE] Iteration 600: error = 1.1661153, gradient norm = 0.0001540 (50 iterations in 17.305s)\n",
      "[t-SNE] Iteration 650: error = 1.0901270, gradient norm = 0.0001284 (50 iterations in 18.081s)\n",
      "[t-SNE] Iteration 700: error = 1.0293423, gradient norm = 0.0001093 (50 iterations in 17.917s)\n",
      "[t-SNE] Iteration 750: error = 0.9791100, gradient norm = 0.0000948 (50 iterations in 17.870s)\n",
      "[t-SNE] Iteration 800: error = 0.9370965, gradient norm = 0.0000826 (50 iterations in 17.765s)\n",
      "[t-SNE] Iteration 850: error = 0.9016984, gradient norm = 0.0000738 (50 iterations in 18.070s)\n",
      "[t-SNE] Iteration 900: error = 0.8713999, gradient norm = 0.0000658 (50 iterations in 17.855s)\n",
      "[t-SNE] Iteration 950: error = 0.8453794, gradient norm = 0.0000599 (50 iterations in 17.846s)\n",
      "[t-SNE] Iteration 1000: error = 0.8227717, gradient norm = 0.0000543 (50 iterations in 18.052s)\n",
      "[t-SNE] Iteration 1050: error = 0.8028879, gradient norm = 0.0000504 (50 iterations in 17.816s)\n",
      "[t-SNE] Iteration 1100: error = 0.7854413, gradient norm = 0.0000461 (50 iterations in 18.154s)\n",
      "[t-SNE] Iteration 1150: error = 0.7700850, gradient norm = 0.0000433 (50 iterations in 18.508s)\n",
      "[t-SNE] Iteration 1200: error = 0.7566661, gradient norm = 0.0000409 (50 iterations in 18.420s)\n",
      "[t-SNE] Iteration 1250: error = 0.7448702, gradient norm = 0.0000390 (50 iterations in 18.429s)\n",
      "[t-SNE] Iteration 1300: error = 0.7347531, gradient norm = 0.0000385 (50 iterations in 17.874s)\n",
      "[t-SNE] Iteration 1350: error = 0.7262242, gradient norm = 0.0000383 (50 iterations in 16.797s)\n",
      "[t-SNE] Iteration 1400: error = 0.7194616, gradient norm = 0.0000386 (50 iterations in 16.854s)\n",
      "[t-SNE] Iteration 1450: error = 0.7143298, gradient norm = 0.0000374 (50 iterations in 16.876s)\n",
      "[t-SNE] Iteration 1500: error = 0.7103041, gradient norm = 0.0000373 (50 iterations in 16.832s)\n",
      "[t-SNE] Iteration 1550: error = 0.7070270, gradient norm = 0.0000372 (50 iterations in 16.979s)\n",
      "[t-SNE] Iteration 1600: error = 0.7044140, gradient norm = 0.0000366 (50 iterations in 17.910s)\n",
      "[t-SNE] Iteration 1650: error = 0.7021436, gradient norm = 0.0000356 (50 iterations in 16.906s)\n",
      "[t-SNE] Iteration 1700: error = 0.7001639, gradient norm = 0.0000348 (50 iterations in 17.123s)\n",
      "[t-SNE] Iteration 1750: error = 0.6983093, gradient norm = 0.0000343 (50 iterations in 16.860s)\n",
      "[t-SNE] Iteration 1800: error = 0.6966112, gradient norm = 0.0000334 (50 iterations in 16.967s)\n",
      "[t-SNE] Iteration 1850: error = 0.6949942, gradient norm = 0.0000330 (50 iterations in 17.369s)\n",
      "[t-SNE] Iteration 1900: error = 0.6933669, gradient norm = 0.0000312 (50 iterations in 18.141s)\n",
      "[t-SNE] Iteration 1950: error = 0.6916857, gradient norm = 0.0000309 (50 iterations in 17.162s)\n",
      "[t-SNE] Iteration 2000: error = 0.6899260, gradient norm = 0.0000300 (50 iterations in 18.605s)\n",
      "[t-SNE] Iteration 2050: error = 0.6881259, gradient norm = 0.0000300 (50 iterations in 24.649s)\n",
      "[t-SNE] Iteration 2100: error = 0.6863373, gradient norm = 0.0000297 (50 iterations in 20.891s)\n",
      "[t-SNE] Iteration 2150: error = 0.6844539, gradient norm = 0.0000298 (50 iterations in 17.310s)\n",
      "[t-SNE] Iteration 2200: error = 0.6826158, gradient norm = 0.0000294 (50 iterations in 17.207s)\n",
      "[t-SNE] Iteration 2250: error = 0.6809606, gradient norm = 0.0000300 (50 iterations in 17.388s)\n",
      "[t-SNE] Iteration 2300: error = 0.6795186, gradient norm = 0.0000293 (50 iterations in 17.299s)\n",
      "[t-SNE] Iteration 2350: error = 0.6781322, gradient norm = 0.0000281 (50 iterations in 17.372s)\n",
      "[t-SNE] Iteration 2400: error = 0.6767468, gradient norm = 0.0000279 (50 iterations in 17.280s)\n",
      "[t-SNE] Iteration 2450: error = 0.6753753, gradient norm = 0.0000269 (50 iterations in 17.504s)\n",
      "[t-SNE] Iteration 2500: error = 0.6739120, gradient norm = 0.0000277 (50 iterations in 17.275s)\n",
      "[t-SNE] Iteration 2550: error = 0.6726752, gradient norm = 0.0000282 (50 iterations in 17.253s)\n",
      "[t-SNE] Iteration 2600: error = 0.6714464, gradient norm = 0.0000272 (50 iterations in 17.688s)\n",
      "[t-SNE] Iteration 2650: error = 0.6703457, gradient norm = 0.0000262 (50 iterations in 17.231s)\n",
      "[t-SNE] Iteration 2700: error = 0.6691920, gradient norm = 0.0000255 (50 iterations in 17.183s)\n",
      "[t-SNE] Iteration 2750: error = 0.6679868, gradient norm = 0.0000259 (50 iterations in 17.956s)\n",
      "[t-SNE] Iteration 2800: error = 0.6668893, gradient norm = 0.0000256 (50 iterations in 17.420s)\n",
      "[t-SNE] Iteration 2850: error = 0.6657853, gradient norm = 0.0000249 (50 iterations in 17.319s)\n",
      "[t-SNE] Iteration 2900: error = 0.6646540, gradient norm = 0.0000245 (50 iterations in 22.686s)\n",
      "[t-SNE] Iteration 2950: error = 0.6634717, gradient norm = 0.0000249 (50 iterations in 21.178s)\n",
      "[t-SNE] Iteration 3000: error = 0.6623245, gradient norm = 0.0000251 (50 iterations in 19.518s)\n",
      "[t-SNE] KL divergence after 3000 iterations: 0.662324\n"
     ]
    }
   ],
   "source": [
    "X_9_tsne = tsne.fit_transform(X_9)"
   ]
  },
  {
   "cell_type": "code",
   "execution_count": 37,
   "metadata": {},
   "outputs": [
    {
     "name": "stdout",
     "output_type": "stream",
     "text": [
      "[t-SNE] Computing 211 nearest neighbors...\n",
      "[t-SNE] Indexed 42403 samples in 6.571s...\n",
      "[t-SNE] Computed neighbors for 42403 samples in 292.425s...\n",
      "[t-SNE] Computed conditional probabilities for sample 1000 / 42403\n",
      "[t-SNE] Computed conditional probabilities for sample 2000 / 42403\n",
      "[t-SNE] Computed conditional probabilities for sample 3000 / 42403\n",
      "[t-SNE] Computed conditional probabilities for sample 4000 / 42403\n",
      "[t-SNE] Computed conditional probabilities for sample 5000 / 42403\n",
      "[t-SNE] Computed conditional probabilities for sample 6000 / 42403\n",
      "[t-SNE] Computed conditional probabilities for sample 7000 / 42403\n",
      "[t-SNE] Computed conditional probabilities for sample 8000 / 42403\n",
      "[t-SNE] Computed conditional probabilities for sample 9000 / 42403\n",
      "[t-SNE] Computed conditional probabilities for sample 10000 / 42403\n",
      "[t-SNE] Computed conditional probabilities for sample 11000 / 42403\n",
      "[t-SNE] Computed conditional probabilities for sample 12000 / 42403\n",
      "[t-SNE] Computed conditional probabilities for sample 13000 / 42403\n",
      "[t-SNE] Computed conditional probabilities for sample 14000 / 42403\n",
      "[t-SNE] Computed conditional probabilities for sample 15000 / 42403\n",
      "[t-SNE] Computed conditional probabilities for sample 16000 / 42403\n",
      "[t-SNE] Computed conditional probabilities for sample 17000 / 42403\n",
      "[t-SNE] Computed conditional probabilities for sample 18000 / 42403\n",
      "[t-SNE] Computed conditional probabilities for sample 19000 / 42403\n",
      "[t-SNE] Computed conditional probabilities for sample 20000 / 42403\n",
      "[t-SNE] Computed conditional probabilities for sample 21000 / 42403\n",
      "[t-SNE] Computed conditional probabilities for sample 22000 / 42403\n",
      "[t-SNE] Computed conditional probabilities for sample 23000 / 42403\n",
      "[t-SNE] Computed conditional probabilities for sample 24000 / 42403\n",
      "[t-SNE] Computed conditional probabilities for sample 25000 / 42403\n",
      "[t-SNE] Computed conditional probabilities for sample 26000 / 42403\n",
      "[t-SNE] Computed conditional probabilities for sample 27000 / 42403\n",
      "[t-SNE] Computed conditional probabilities for sample 28000 / 42403\n",
      "[t-SNE] Computed conditional probabilities for sample 29000 / 42403\n",
      "[t-SNE] Computed conditional probabilities for sample 30000 / 42403\n",
      "[t-SNE] Computed conditional probabilities for sample 31000 / 42403\n",
      "[t-SNE] Computed conditional probabilities for sample 32000 / 42403\n",
      "[t-SNE] Computed conditional probabilities for sample 33000 / 42403\n",
      "[t-SNE] Computed conditional probabilities for sample 34000 / 42403\n",
      "[t-SNE] Computed conditional probabilities for sample 35000 / 42403\n",
      "[t-SNE] Computed conditional probabilities for sample 36000 / 42403\n",
      "[t-SNE] Computed conditional probabilities for sample 37000 / 42403\n",
      "[t-SNE] Computed conditional probabilities for sample 38000 / 42403\n",
      "[t-SNE] Computed conditional probabilities for sample 39000 / 42403\n",
      "[t-SNE] Computed conditional probabilities for sample 40000 / 42403\n",
      "[t-SNE] Computed conditional probabilities for sample 41000 / 42403\n",
      "[t-SNE] Computed conditional probabilities for sample 42000 / 42403\n",
      "[t-SNE] Computed conditional probabilities for sample 42403 / 42403\n",
      "[t-SNE] Mean sigma: 1.051320\n",
      "[t-SNE] Computed conditional probabilities in 3.114s\n",
      "[t-SNE] Iteration 50: error = 100.4812698, gradient norm = 0.0000359 (50 iterations in 47.920s)\n",
      "[t-SNE] Iteration 100: error = 84.0575790, gradient norm = 0.0025428 (50 iterations in 50.698s)\n",
      "[t-SNE] Iteration 150: error = 75.5380783, gradient norm = 0.0013579 (50 iterations in 40.829s)\n",
      "[t-SNE] Iteration 200: error = 72.0948334, gradient norm = 0.0009260 (50 iterations in 49.236s)\n",
      "[t-SNE] Iteration 250: error = 70.0850449, gradient norm = 0.0007189 (50 iterations in 36.837s)\n",
      "[t-SNE] KL divergence after 250 iterations with early exaggeration: 70.085045\n",
      "[t-SNE] Iteration 300: error = 3.1545303, gradient norm = 0.0010118 (50 iterations in 34.748s)\n",
      "[t-SNE] Iteration 350: error = 2.6966064, gradient norm = 0.0006859 (50 iterations in 31.572s)\n",
      "[t-SNE] Iteration 400: error = 2.3192060, gradient norm = 0.0004787 (50 iterations in 30.835s)\n",
      "[t-SNE] Iteration 450: error = 2.0390673, gradient norm = 0.0003551 (50 iterations in 30.672s)\n",
      "[t-SNE] Iteration 500: error = 1.8243637, gradient norm = 0.0002758 (50 iterations in 32.789s)\n",
      "[t-SNE] Iteration 550: error = 1.6575093, gradient norm = 0.0002223 (50 iterations in 32.824s)\n",
      "[t-SNE] Iteration 600: error = 1.5243344, gradient norm = 0.0001842 (50 iterations in 33.172s)\n",
      "[t-SNE] Iteration 650: error = 1.4163932, gradient norm = 0.0001555 (50 iterations in 30.126s)\n",
      "[t-SNE] Iteration 700: error = 1.3273023, gradient norm = 0.0001339 (50 iterations in 30.402s)\n",
      "[t-SNE] Iteration 750: error = 1.2525326, gradient norm = 0.0001167 (50 iterations in 30.437s)\n",
      "[t-SNE] Iteration 800: error = 1.1889070, gradient norm = 0.0001027 (50 iterations in 30.093s)\n",
      "[t-SNE] Iteration 850: error = 1.1343999, gradient norm = 0.0000914 (50 iterations in 29.735s)\n",
      "[t-SNE] Iteration 900: error = 1.0873655, gradient norm = 0.0000822 (50 iterations in 38.935s)\n",
      "[t-SNE] Iteration 950: error = 1.0462737, gradient norm = 0.0000743 (50 iterations in 33.502s)\n",
      "[t-SNE] Iteration 1000: error = 1.0102544, gradient norm = 0.0000675 (50 iterations in 30.109s)\n",
      "[t-SNE] Iteration 1050: error = 0.9776534, gradient norm = 0.0000617 (50 iterations in 30.099s)\n",
      "[t-SNE] Iteration 1100: error = 0.9483315, gradient norm = 0.0000569 (50 iterations in 29.885s)\n",
      "[t-SNE] Iteration 1150: error = 0.9219253, gradient norm = 0.0000522 (50 iterations in 30.135s)\n",
      "[t-SNE] Iteration 1200: error = 0.8982786, gradient norm = 0.0000486 (50 iterations in 30.073s)\n",
      "[t-SNE] Iteration 1250: error = 0.8767858, gradient norm = 0.0000455 (50 iterations in 30.032s)\n",
      "[t-SNE] Iteration 1300: error = 0.8572881, gradient norm = 0.0000425 (50 iterations in 30.114s)\n",
      "[t-SNE] Iteration 1350: error = 0.8394697, gradient norm = 0.0000401 (50 iterations in 30.286s)\n",
      "[t-SNE] Iteration 1400: error = 0.8233035, gradient norm = 0.0000379 (50 iterations in 29.945s)\n",
      "[t-SNE] Iteration 1450: error = 0.8085356, gradient norm = 0.0000360 (50 iterations in 30.201s)\n",
      "[t-SNE] Iteration 1500: error = 0.7949339, gradient norm = 0.0000343 (50 iterations in 30.292s)\n",
      "[t-SNE] Iteration 1550: error = 0.7824001, gradient norm = 0.0000329 (50 iterations in 30.477s)\n",
      "[t-SNE] Iteration 1600: error = 0.7710747, gradient norm = 0.0000316 (50 iterations in 30.107s)\n",
      "[t-SNE] Iteration 1650: error = 0.7606493, gradient norm = 0.0000302 (50 iterations in 30.196s)\n",
      "[t-SNE] Iteration 1700: error = 0.7513795, gradient norm = 0.0000298 (50 iterations in 30.190s)\n",
      "[t-SNE] Iteration 1750: error = 0.7429916, gradient norm = 0.0000292 (50 iterations in 30.290s)\n",
      "[t-SNE] Iteration 1800: error = 0.7356696, gradient norm = 0.0000290 (50 iterations in 30.186s)\n",
      "[t-SNE] Iteration 1850: error = 0.7291191, gradient norm = 0.0000286 (50 iterations in 30.208s)\n",
      "[t-SNE] Iteration 1900: error = 0.7232639, gradient norm = 0.0000280 (50 iterations in 30.285s)\n",
      "[t-SNE] Iteration 1950: error = 0.7179926, gradient norm = 0.0000278 (50 iterations in 30.685s)\n",
      "[t-SNE] Iteration 2000: error = 0.7134994, gradient norm = 0.0000275 (50 iterations in 30.258s)\n",
      "[t-SNE] Iteration 2050: error = 0.7095447, gradient norm = 0.0000269 (50 iterations in 30.288s)\n",
      "[t-SNE] Iteration 2100: error = 0.7059571, gradient norm = 0.0000269 (50 iterations in 30.229s)\n",
      "[t-SNE] Iteration 2150: error = 0.7027530, gradient norm = 0.0000266 (50 iterations in 30.519s)\n",
      "[t-SNE] Iteration 2200: error = 0.6999329, gradient norm = 0.0000266 (50 iterations in 30.231s)\n",
      "[t-SNE] Iteration 2250: error = 0.6973376, gradient norm = 0.0000265 (50 iterations in 30.606s)\n",
      "[t-SNE] Iteration 2300: error = 0.6950867, gradient norm = 0.0000262 (50 iterations in 30.346s)\n",
      "[t-SNE] Iteration 2350: error = 0.6931155, gradient norm = 0.0000259 (50 iterations in 30.496s)\n",
      "[t-SNE] Iteration 2400: error = 0.6913001, gradient norm = 0.0000254 (50 iterations in 30.403s)\n",
      "[t-SNE] Iteration 2450: error = 0.6896416, gradient norm = 0.0000253 (50 iterations in 30.615s)\n",
      "[t-SNE] Iteration 2500: error = 0.6880896, gradient norm = 0.0000252 (50 iterations in 30.438s)\n",
      "[t-SNE] Iteration 2550: error = 0.6866343, gradient norm = 0.0000248 (50 iterations in 30.656s)\n",
      "[t-SNE] Iteration 2600: error = 0.6853039, gradient norm = 0.0000247 (50 iterations in 30.690s)\n",
      "[t-SNE] Iteration 2650: error = 0.6840286, gradient norm = 0.0000243 (50 iterations in 30.607s)\n",
      "[t-SNE] Iteration 2700: error = 0.6827449, gradient norm = 0.0000240 (50 iterations in 30.667s)\n",
      "[t-SNE] Iteration 2750: error = 0.6815708, gradient norm = 0.0000235 (50 iterations in 30.861s)\n",
      "[t-SNE] Iteration 2800: error = 0.6804235, gradient norm = 0.0000233 (50 iterations in 30.789s)\n",
      "[t-SNE] Iteration 2850: error = 0.6792375, gradient norm = 0.0000231 (50 iterations in 30.777s)\n",
      "[t-SNE] Iteration 2900: error = 0.6780155, gradient norm = 0.0000226 (50 iterations in 30.789s)\n",
      "[t-SNE] Iteration 2950: error = 0.6767763, gradient norm = 0.0000222 (50 iterations in 30.750s)\n",
      "[t-SNE] Iteration 3000: error = 0.6754795, gradient norm = 0.0000218 (50 iterations in 30.688s)\n",
      "[t-SNE] KL divergence after 3000 iterations: 0.675479\n"
     ]
    }
   ],
   "source": [
    "X_12_tsne = tsne.fit_transform(X_12)"
   ]
  },
  {
   "cell_type": "code",
   "execution_count": null,
   "metadata": {},
   "outputs": [],
   "source": [
    "X_15_tsne = tsne.fit_transform(X_15)"
   ]
  },
  {
   "cell_type": "code",
   "execution_count": null,
   "metadata": {},
   "outputs": [],
   "source": [
    "X_18_tsne = tsne.fit_transform(X_18)"
   ]
  },
  {
   "cell_type": "code",
   "execution_count": 38,
   "metadata": {},
   "outputs": [
    {
     "name": "stdout",
     "output_type": "stream",
     "text": [
      "[t-SNE] Computing 211 nearest neighbors...\n",
      "[t-SNE] Indexed 93790 samples in 39.442s...\n",
      "[t-SNE] Computed neighbors for 93790 samples in 1200.528s...\n",
      "[t-SNE] Computed conditional probabilities for sample 1000 / 93790\n",
      "[t-SNE] Computed conditional probabilities for sample 2000 / 93790\n",
      "[t-SNE] Computed conditional probabilities for sample 3000 / 93790\n",
      "[t-SNE] Computed conditional probabilities for sample 4000 / 93790\n",
      "[t-SNE] Computed conditional probabilities for sample 5000 / 93790\n",
      "[t-SNE] Computed conditional probabilities for sample 6000 / 93790\n",
      "[t-SNE] Computed conditional probabilities for sample 7000 / 93790\n",
      "[t-SNE] Computed conditional probabilities for sample 8000 / 93790\n",
      "[t-SNE] Computed conditional probabilities for sample 9000 / 93790\n",
      "[t-SNE] Computed conditional probabilities for sample 10000 / 93790\n",
      "[t-SNE] Computed conditional probabilities for sample 11000 / 93790\n",
      "[t-SNE] Computed conditional probabilities for sample 12000 / 93790\n",
      "[t-SNE] Computed conditional probabilities for sample 13000 / 93790\n",
      "[t-SNE] Computed conditional probabilities for sample 14000 / 93790\n",
      "[t-SNE] Computed conditional probabilities for sample 15000 / 93790\n",
      "[t-SNE] Computed conditional probabilities for sample 16000 / 93790\n",
      "[t-SNE] Computed conditional probabilities for sample 17000 / 93790\n",
      "[t-SNE] Computed conditional probabilities for sample 18000 / 93790\n",
      "[t-SNE] Computed conditional probabilities for sample 19000 / 93790\n",
      "[t-SNE] Computed conditional probabilities for sample 20000 / 93790\n",
      "[t-SNE] Computed conditional probabilities for sample 21000 / 93790\n",
      "[t-SNE] Computed conditional probabilities for sample 22000 / 93790\n",
      "[t-SNE] Computed conditional probabilities for sample 23000 / 93790\n",
      "[t-SNE] Computed conditional probabilities for sample 24000 / 93790\n",
      "[t-SNE] Computed conditional probabilities for sample 25000 / 93790\n",
      "[t-SNE] Computed conditional probabilities for sample 26000 / 93790\n",
      "[t-SNE] Computed conditional probabilities for sample 27000 / 93790\n",
      "[t-SNE] Computed conditional probabilities for sample 28000 / 93790\n",
      "[t-SNE] Computed conditional probabilities for sample 29000 / 93790\n",
      "[t-SNE] Computed conditional probabilities for sample 30000 / 93790\n",
      "[t-SNE] Computed conditional probabilities for sample 31000 / 93790\n",
      "[t-SNE] Computed conditional probabilities for sample 32000 / 93790\n",
      "[t-SNE] Computed conditional probabilities for sample 33000 / 93790\n",
      "[t-SNE] Computed conditional probabilities for sample 34000 / 93790\n",
      "[t-SNE] Computed conditional probabilities for sample 35000 / 93790\n",
      "[t-SNE] Computed conditional probabilities for sample 36000 / 93790\n",
      "[t-SNE] Computed conditional probabilities for sample 37000 / 93790\n",
      "[t-SNE] Computed conditional probabilities for sample 38000 / 93790\n",
      "[t-SNE] Computed conditional probabilities for sample 39000 / 93790\n",
      "[t-SNE] Computed conditional probabilities for sample 40000 / 93790\n",
      "[t-SNE] Computed conditional probabilities for sample 41000 / 93790\n",
      "[t-SNE] Computed conditional probabilities for sample 42000 / 93790\n",
      "[t-SNE] Computed conditional probabilities for sample 43000 / 93790\n",
      "[t-SNE] Computed conditional probabilities for sample 44000 / 93790\n",
      "[t-SNE] Computed conditional probabilities for sample 45000 / 93790\n",
      "[t-SNE] Computed conditional probabilities for sample 46000 / 93790\n",
      "[t-SNE] Computed conditional probabilities for sample 47000 / 93790\n",
      "[t-SNE] Computed conditional probabilities for sample 48000 / 93790\n",
      "[t-SNE] Computed conditional probabilities for sample 49000 / 93790\n",
      "[t-SNE] Computed conditional probabilities for sample 50000 / 93790\n",
      "[t-SNE] Computed conditional probabilities for sample 51000 / 93790\n",
      "[t-SNE] Computed conditional probabilities for sample 52000 / 93790\n",
      "[t-SNE] Computed conditional probabilities for sample 53000 / 93790\n",
      "[t-SNE] Computed conditional probabilities for sample 54000 / 93790\n",
      "[t-SNE] Computed conditional probabilities for sample 55000 / 93790\n",
      "[t-SNE] Computed conditional probabilities for sample 56000 / 93790\n",
      "[t-SNE] Computed conditional probabilities for sample 57000 / 93790\n",
      "[t-SNE] Computed conditional probabilities for sample 58000 / 93790\n",
      "[t-SNE] Computed conditional probabilities for sample 59000 / 93790\n",
      "[t-SNE] Computed conditional probabilities for sample 60000 / 93790\n",
      "[t-SNE] Computed conditional probabilities for sample 61000 / 93790\n",
      "[t-SNE] Computed conditional probabilities for sample 62000 / 93790\n",
      "[t-SNE] Computed conditional probabilities for sample 63000 / 93790\n",
      "[t-SNE] Computed conditional probabilities for sample 64000 / 93790\n",
      "[t-SNE] Computed conditional probabilities for sample 65000 / 93790\n",
      "[t-SNE] Computed conditional probabilities for sample 66000 / 93790\n",
      "[t-SNE] Computed conditional probabilities for sample 67000 / 93790\n",
      "[t-SNE] Computed conditional probabilities for sample 68000 / 93790\n",
      "[t-SNE] Computed conditional probabilities for sample 69000 / 93790\n",
      "[t-SNE] Computed conditional probabilities for sample 70000 / 93790\n",
      "[t-SNE] Computed conditional probabilities for sample 71000 / 93790\n",
      "[t-SNE] Computed conditional probabilities for sample 72000 / 93790\n",
      "[t-SNE] Computed conditional probabilities for sample 73000 / 93790\n",
      "[t-SNE] Computed conditional probabilities for sample 74000 / 93790\n",
      "[t-SNE] Computed conditional probabilities for sample 75000 / 93790\n",
      "[t-SNE] Computed conditional probabilities for sample 76000 / 93790\n",
      "[t-SNE] Computed conditional probabilities for sample 77000 / 93790\n",
      "[t-SNE] Computed conditional probabilities for sample 78000 / 93790\n",
      "[t-SNE] Computed conditional probabilities for sample 79000 / 93790\n",
      "[t-SNE] Computed conditional probabilities for sample 80000 / 93790\n",
      "[t-SNE] Computed conditional probabilities for sample 81000 / 93790\n",
      "[t-SNE] Computed conditional probabilities for sample 82000 / 93790\n",
      "[t-SNE] Computed conditional probabilities for sample 83000 / 93790\n",
      "[t-SNE] Computed conditional probabilities for sample 84000 / 93790\n",
      "[t-SNE] Computed conditional probabilities for sample 85000 / 93790\n",
      "[t-SNE] Computed conditional probabilities for sample 86000 / 93790\n",
      "[t-SNE] Computed conditional probabilities for sample 87000 / 93790\n",
      "[t-SNE] Computed conditional probabilities for sample 88000 / 93790\n",
      "[t-SNE] Computed conditional probabilities for sample 89000 / 93790\n",
      "[t-SNE] Computed conditional probabilities for sample 90000 / 93790\n",
      "[t-SNE] Computed conditional probabilities for sample 91000 / 93790\n",
      "[t-SNE] Computed conditional probabilities for sample 92000 / 93790\n",
      "[t-SNE] Computed conditional probabilities for sample 93000 / 93790\n",
      "[t-SNE] Computed conditional probabilities for sample 93790 / 93790\n",
      "[t-SNE] Mean sigma: 0.650648\n",
      "[t-SNE] Computed conditional probabilities in 6.903s\n",
      "[t-SNE] Iteration 50: error = 106.5047302, gradient norm = 0.0000011 (50 iterations in 126.049s)\n",
      "[t-SNE] Iteration 100: error = 105.5433655, gradient norm = 0.0019157 (50 iterations in 167.416s)\n",
      "[t-SNE] Iteration 150: error = 85.1912842, gradient norm = 0.0013328 (50 iterations in 101.939s)\n",
      "[t-SNE] Iteration 200: error = 78.7536850, gradient norm = 0.0008720 (50 iterations in 96.678s)\n",
      "[t-SNE] Iteration 250: error = 75.3492126, gradient norm = 0.0006704 (50 iterations in 96.226s)\n",
      "[t-SNE] KL divergence after 250 iterations with early exaggeration: 75.349213\n",
      "[t-SNE] Iteration 300: error = 3.8702569, gradient norm = 0.0007701 (50 iterations in 93.435s)\n",
      "[t-SNE] Iteration 350: error = 3.5542884, gradient norm = 0.0006075 (50 iterations in 87.984s)\n",
      "[t-SNE] Iteration 400: error = 3.2255867, gradient norm = 0.0004740 (50 iterations in 85.144s)\n",
      "[t-SNE] Iteration 450: error = 2.9354274, gradient norm = 0.0003766 (50 iterations in 83.439s)\n",
      "[t-SNE] Iteration 500: error = 2.6922462, gradient norm = 0.0003072 (50 iterations in 82.584s)\n",
      "[t-SNE] Iteration 550: error = 2.4885082, gradient norm = 0.0002560 (50 iterations in 81.342s)\n",
      "[t-SNE] Iteration 600: error = 2.3176250, gradient norm = 0.0002177 (50 iterations in 80.855s)\n",
      "[t-SNE] Iteration 650: error = 2.1730087, gradient norm = 0.0001880 (50 iterations in 81.404s)\n",
      "[t-SNE] Iteration 700: error = 2.0487237, gradient norm = 0.0001648 (50 iterations in 81.048s)\n",
      "[t-SNE] Iteration 750: error = 1.9385425, gradient norm = 0.0001460 (50 iterations in 80.984s)\n",
      "[t-SNE] Iteration 800: error = 1.8404102, gradient norm = 0.0001305 (50 iterations in 80.723s)\n",
      "[t-SNE] Iteration 850: error = 1.7538352, gradient norm = 0.0001176 (50 iterations in 80.894s)\n",
      "[t-SNE] Iteration 900: error = 1.6766641, gradient norm = 0.0001067 (50 iterations in 80.638s)\n",
      "[t-SNE] Iteration 950: error = 1.6077787, gradient norm = 0.0000975 (50 iterations in 80.736s)\n",
      "[t-SNE] Iteration 1000: error = 1.5458429, gradient norm = 0.0000894 (50 iterations in 80.560s)\n",
      "[t-SNE] Iteration 1050: error = 1.4895840, gradient norm = 0.0000824 (50 iterations in 80.850s)\n",
      "[t-SNE] Iteration 1100: error = 1.4385933, gradient norm = 0.0000763 (50 iterations in 80.733s)\n",
      "[t-SNE] Iteration 1150: error = 1.3921275, gradient norm = 0.0000710 (50 iterations in 80.778s)\n",
      "[t-SNE] Iteration 1200: error = 1.3494806, gradient norm = 0.0000662 (50 iterations in 80.535s)\n",
      "[t-SNE] Iteration 1250: error = 1.3104123, gradient norm = 0.0000619 (50 iterations in 80.906s)\n",
      "[t-SNE] Iteration 1300: error = 1.2744396, gradient norm = 0.0000581 (50 iterations in 80.507s)\n",
      "[t-SNE] Iteration 1350: error = 1.2412275, gradient norm = 0.0000547 (50 iterations in 80.275s)\n",
      "[t-SNE] Iteration 1400: error = 1.2103707, gradient norm = 0.0000515 (50 iterations in 80.516s)\n",
      "[t-SNE] Iteration 1450: error = 1.1818062, gradient norm = 0.0000488 (50 iterations in 80.776s)\n",
      "[t-SNE] Iteration 1500: error = 1.1551737, gradient norm = 0.0000461 (50 iterations in 80.532s)\n",
      "[t-SNE] Iteration 1550: error = 1.1302279, gradient norm = 0.0000438 (50 iterations in 80.581s)\n",
      "[t-SNE] Iteration 1600: error = 1.1068023, gradient norm = 0.0000416 (50 iterations in 82.542s)\n",
      "[t-SNE] Iteration 1650: error = 1.0849409, gradient norm = 0.0000396 (50 iterations in 81.742s)\n",
      "[t-SNE] Iteration 1700: error = 1.0642396, gradient norm = 0.0000378 (50 iterations in 80.719s)\n",
      "[t-SNE] Iteration 1750: error = 1.0448774, gradient norm = 0.0000360 (50 iterations in 80.809s)\n",
      "[t-SNE] Iteration 1800: error = 1.0267155, gradient norm = 0.0000345 (50 iterations in 80.752s)\n",
      "[t-SNE] Iteration 1850: error = 1.0094694, gradient norm = 0.0000331 (50 iterations in 80.995s)\n",
      "[t-SNE] Iteration 1900: error = 0.9927962, gradient norm = 0.0000318 (50 iterations in 80.911s)\n",
      "[t-SNE] Iteration 1950: error = 0.9765577, gradient norm = 0.0000306 (50 iterations in 80.963s)\n",
      "[t-SNE] Iteration 2000: error = 0.9611507, gradient norm = 0.0000293 (50 iterations in 80.988s)\n",
      "[t-SNE] Iteration 2050: error = 0.9465451, gradient norm = 0.0000284 (50 iterations in 80.787s)\n",
      "[t-SNE] Iteration 2100: error = 0.9326451, gradient norm = 0.0000274 (50 iterations in 80.518s)\n",
      "[t-SNE] Iteration 2150: error = 0.9194620, gradient norm = 0.0000263 (50 iterations in 80.469s)\n",
      "[t-SNE] Iteration 2200: error = 0.9068784, gradient norm = 0.0000255 (50 iterations in 80.850s)\n",
      "[t-SNE] Iteration 2250: error = 0.8948879, gradient norm = 0.0000246 (50 iterations in 80.207s)\n",
      "[t-SNE] Iteration 2300: error = 0.8834585, gradient norm = 0.0000238 (50 iterations in 80.668s)\n",
      "[t-SNE] Iteration 2350: error = 0.8726280, gradient norm = 0.0000230 (50 iterations in 80.344s)\n",
      "[t-SNE] Iteration 2400: error = 0.8622396, gradient norm = 0.0000225 (50 iterations in 80.399s)\n",
      "[t-SNE] Iteration 2450: error = 0.8523155, gradient norm = 0.0000218 (50 iterations in 80.290s)\n",
      "[t-SNE] Iteration 2500: error = 0.8428283, gradient norm = 0.0000213 (50 iterations in 80.537s)\n",
      "[t-SNE] Iteration 2550: error = 0.8337561, gradient norm = 0.0000207 (50 iterations in 80.529s)\n",
      "[t-SNE] Iteration 2600: error = 0.8250921, gradient norm = 0.0000202 (50 iterations in 80.749s)\n",
      "[t-SNE] Iteration 2650: error = 0.8168621, gradient norm = 0.0000197 (50 iterations in 80.603s)\n",
      "[t-SNE] Iteration 2700: error = 0.8089611, gradient norm = 0.0000194 (50 iterations in 80.734s)\n",
      "[t-SNE] Iteration 2750: error = 0.8013571, gradient norm = 0.0000191 (50 iterations in 80.863s)\n",
      "[t-SNE] Iteration 2800: error = 0.7941311, gradient norm = 0.0000190 (50 iterations in 80.479s)\n",
      "[t-SNE] Iteration 2850: error = 0.7872390, gradient norm = 0.0000186 (50 iterations in 80.815s)\n",
      "[t-SNE] Iteration 2900: error = 0.7807028, gradient norm = 0.0000183 (50 iterations in 80.483s)\n",
      "[t-SNE] Iteration 2950: error = 0.7745851, gradient norm = 0.0000182 (50 iterations in 81.076s)\n",
      "[t-SNE] Iteration 3000: error = 0.7687659, gradient norm = 0.0000179 (50 iterations in 80.688s)\n",
      "[t-SNE] KL divergence after 3000 iterations: 0.768766\n"
     ]
    }
   ],
   "source": [
    "X_all_tsne = tsne.fit_transform(X_all)"
   ]
  },
  {
   "cell_type": "markdown",
   "metadata": {},
   "source": [
    "### 7.3 - Clustering"
   ]
  },
  {
   "cell_type": "markdown",
   "metadata": {},
   "source": [
    "Jeux de donnée : data_6_months"
   ]
  },
  {
   "cell_type": "code",
   "execution_count": 39,
   "metadata": {},
   "outputs": [
    {
     "data": {
      "image/png": "[encoded data removed]",
      "text/plain": [
       "<Figure size 720x360 with 1 Axes>"
      ]
     },
     "metadata": {
      "needs_background": "light"
     },
     "output_type": "display_data"
    }
   ],
   "source": [
    "tsne_km_cluster_number = []\n",
    "tsne_km_score = []\n",
    "for n in range(2, 25):\n",
    "    kmean = KMeans(n_clusters=n, n_init=100, max_iter=3000)\n",
    "    kmean.fit(X_6_tsne)\n",
    "    tsne_km_cluster_number.append(n)\n",
    "    tsne_km_score.append(silhouette_score(X_6_tsne, kmean.labels_, metric='euclidean'))\n",
    "\n",
    "plt.figure(figsize=(10, 5))\n",
    "plt.plot(tsne_km_cluster_number, tsne_km_score, color=\"skyblue\", lw=2)\n",
    "plt.xlabel(\"Nombre de cluster\")\n",
    "plt.ylabel(\"Score de silhouette\")\n",
    "plt.title(\"TSNE Kmean\")\n",
    "plt.tight_layout()\n",
    "plt.show()"
   ]
  },
  {
   "cell_type": "code",
   "execution_count": 84,
   "metadata": {},
   "outputs": [
    {
     "data": {
      "text/plain": [
       "KMeans(algorithm='auto', copy_x=True, init='k-means++', max_iter=3000,\n",
       "       n_clusters=16, n_init=100, n_jobs=None, precompute_distances='auto',\n",
       "       random_state=None, tol=0.0001, verbose=0)"
      ]
     },
     "execution_count": 84,
     "metadata": {},
     "output_type": "execute_result"
    }
   ],
   "source": [
    "kmean_tsne = KMeans(n_clusters=16, n_init=100, max_iter=3000)\n",
    "kmean_tsne.fit(X_6_tsne)"
   ]
  },
  {
   "cell_type": "code",
   "execution_count": 85,
   "metadata": {},
   "outputs": [],
   "source": [
    "data_6_months_fe['cluster_tsne_km'] = kmean_tsne.labels_"
   ]
  },
  {
   "cell_type": "markdown",
   "metadata": {},
   "source": [
    "Jeux de donnée : data_9_months"
   ]
  },
  {
   "cell_type": "code",
   "execution_count": 42,
   "metadata": {},
   "outputs": [
    {
     "data": {
      "image/png": "[encoded data removed]",
      "text/plain": [
       "<Figure size 720x360 with 1 Axes>"
      ]
     },
     "metadata": {
      "needs_background": "light"
     },
     "output_type": "display_data"
    }
   ],
   "source": [
    "tsne_km_cluster_number = []\n",
    "tsne_km_score = []\n",
    "for n in range(2, 25):\n",
    "    kmean = KMeans(n_clusters=n, n_init=100, max_iter=3000)\n",
    "    kmean.fit(X_9_tsne)\n",
    "    tsne_km_cluster_number.append(n)\n",
    "    tsne_km_score.append(silhouette_score(X_9_tsne, kmean.labels_, metric='euclidean'))\n",
    "\n",
    "plt.figure(figsize=(10, 5))\n",
    "plt.plot(tsne_km_cluster_number, tsne_km_score, color=\"skyblue\", lw=2)\n",
    "plt.xlabel(\"Nombre de cluster\")\n",
    "plt.ylabel(\"Score de silhouette\")\n",
    "plt.title(\"TSNE Kmean\")\n",
    "plt.tight_layout()\n",
    "plt.show()"
   ]
  },
  {
   "cell_type": "code",
   "execution_count": 86,
   "metadata": {},
   "outputs": [
    {
     "data": {
      "text/plain": [
       "KMeans(algorithm='auto', copy_x=True, init='k-means++', max_iter=3000,\n",
       "       n_clusters=17, n_init=100, n_jobs=None, precompute_distances='auto',\n",
       "       random_state=None, tol=0.0001, verbose=0)"
      ]
     },
     "execution_count": 86,
     "metadata": {},
     "output_type": "execute_result"
    }
   ],
   "source": [
    "kmean_tsne = KMeans(n_clusters=17, n_init=100, max_iter=3000)\n",
    "kmean_tsne.fit(X_9_tsne)"
   ]
  },
  {
   "cell_type": "code",
   "execution_count": 87,
   "metadata": {},
   "outputs": [],
   "source": [
    "data_9_months_fe['cluster_tsne_km'] = kmean_tsne.labels_"
   ]
  },
  {
   "cell_type": "markdown",
   "metadata": {},
   "source": [
    "Jeux de donnée : data_12_months"
   ]
  },
  {
   "cell_type": "code",
   "execution_count": 45,
   "metadata": {},
   "outputs": [
    {
     "data": {
      "image/png": "[encoded data removed]",
      "text/plain": [
       "<Figure size 720x360 with 1 Axes>"
      ]
     },
     "metadata": {
      "needs_background": "light"
     },
     "output_type": "display_data"
    }
   ],
   "source": [
    "tsne_km_cluster_number = []\n",
    "tsne_km_score = []\n",
    "for n in range(2, 25):\n",
    "    kmean = KMeans(n_clusters=n, n_init=100, max_iter=3000)\n",
    "    kmean.fit(X_12_tsne)\n",
    "    tsne_km_cluster_number.append(n)\n",
    "    tsne_km_score.append(silhouette_score(X_12_tsne, kmean.labels_, metric='euclidean'))\n",
    "\n",
    "plt.figure(figsize=(10, 5))\n",
    "plt.plot(tsne_km_cluster_number, tsne_km_score, color=\"skyblue\", lw=2)\n",
    "plt.xlabel(\"Nombre de cluster\")\n",
    "plt.ylabel(\"Score de silhouette\")\n",
    "plt.title(\"TSNE Kmean\")\n",
    "plt.tight_layout()\n",
    "plt.show()"
   ]
  },
  {
   "cell_type": "code",
   "execution_count": 47,
   "metadata": {},
   "outputs": [
    {
     "data": {
      "text/plain": [
       "KMeans(algorithm='auto', copy_x=True, init='k-means++', max_iter=3000,\n",
       "       n_clusters=16, n_init=100, n_jobs=None, precompute_distances='auto',\n",
       "       random_state=None, tol=0.0001, verbose=0)"
      ]
     },
     "execution_count": 47,
     "metadata": {},
     "output_type": "execute_result"
    }
   ],
   "source": [
    "kmean_tsne = KMeans(n_clusters=16, n_init=100, max_iter=3000)\n",
    "kmean_tsne.fit(X_12_tsne)"
   ]
  },
  {
   "cell_type": "code",
   "execution_count": 48,
   "metadata": {},
   "outputs": [],
   "source": [
    "data_12_months_fe['cluster_tsne_km'] = kmean_tsne.labels_"
   ]
  },
  {
   "cell_type": "markdown",
   "metadata": {},
   "source": [
    "Jeux de donnée : data_15_months"
   ]
  },
  {
   "cell_type": "code",
   "execution_count": null,
   "metadata": {},
   "outputs": [],
   "source": [
    "tsne_km_cluster_number = []\n",
    "tsne_km_score = []\n",
    "for n in range(2, 25):\n",
    "    kmean = KMeans(n_clusters=n, n_init=100, max_iter=3000)\n",
    "    kmean.fit(X_15_tsne)\n",
    "    tsne_km_cluster_number.append(n)\n",
    "    tsne_km_score.append(silhouette_score(X_15_tsne, kmean.labels_, metric='euclidean'))\n",
    "\n",
    "plt.figure(figsize=(10, 5))\n",
    "plt.plot(tsne_km_cluster_number, tsne_km_score, color=\"skyblue\", lw=2)\n",
    "plt.xlabel(\"Nombre de cluster\")\n",
    "plt.ylabel(\"Score de silhouette\")\n",
    "plt.title(\"TSNE Kmean\")\n",
    "plt.tight_layout()\n",
    "plt.show()"
   ]
  },
  {
   "cell_type": "code",
   "execution_count": null,
   "metadata": {},
   "outputs": [],
   "source": [
    "kmean_tsne = KMeans(n_clusters=17, n_init=100, max_iter=3000)\n",
    "kmean_tsne.fit(X_15_tsne)"
   ]
  },
  {
   "cell_type": "code",
   "execution_count": null,
   "metadata": {},
   "outputs": [],
   "source": [
    "data_15_months_fe['cluster_tsne_km'] = kmean_tsne.labels_"
   ]
  },
  {
   "cell_type": "markdown",
   "metadata": {},
   "source": [
    "Jeux de donnée : data_18_months"
   ]
  },
  {
   "cell_type": "code",
   "execution_count": null,
   "metadata": {},
   "outputs": [],
   "source": [
    "tsne_km_cluster_number = []\n",
    "tsne_km_score = []\n",
    "for n in range(2, 25):\n",
    "    kmean = KMeans(n_clusters=n, n_init=100, max_iter=3000)\n",
    "    kmean.fit(X_18_tsne)\n",
    "    tsne_km_cluster_number.append(n)\n",
    "    tsne_km_score.append(silhouette_score(X_18_tsne, kmean.labels_, metric='euclidean'))\n",
    "\n",
    "plt.figure(figsize=(10, 5))\n",
    "plt.plot(tsne_km_cluster_number, tsne_km_score, color=\"skyblue\", lw=2)\n",
    "plt.xlabel(\"Nombre de cluster\")\n",
    "plt.ylabel(\"Score de silhouette\")\n",
    "plt.title(\"TSNE Kmean\")\n",
    "plt.tight_layout()\n",
    "plt.show()"
   ]
  },
  {
   "cell_type": "code",
   "execution_count": null,
   "metadata": {},
   "outputs": [],
   "source": [
    "kmean_tsne = KMeans(n_clusters=17, n_init=100, max_iter=3000)\n",
    "kmean_tsne.fit(X_18_tsne)"
   ]
  },
  {
   "cell_type": "code",
   "execution_count": null,
   "metadata": {},
   "outputs": [],
   "source": [
    "data_18_months_fe['cluster_tsne_km'] = kmean_tsne.labels_"
   ]
  },
  {
   "cell_type": "markdown",
   "metadata": {},
   "source": [
    "Jeux de donnée : data_all"
   ]
  },
  {
   "cell_type": "code",
   "execution_count": null,
   "metadata": {},
   "outputs": [],
   "source": [
    "tsne_km_cluster_number = []\n",
    "tsne_km_score = []\n",
    "for n in range(2, 25):\n",
    "    kmean = KMeans(n_clusters=n, n_init=100, max_iter=3000)\n",
    "    kmean.fit(X_all_tsne)\n",
    "    tsne_km_cluster_number.append(n)\n",
    "    tsne_km_score.append(silhouette_score(X_all_tsne, kmean.labels_, metric='euclidean'))\n",
    "\n",
    "plt.figure(figsize=(10, 5))\n",
    "plt.plot(tsne_km_cluster_number, tsne_km_score, color=\"skyblue\", lw=2)\n",
    "plt.xlabel(\"Nombre de cluster\")\n",
    "plt.ylabel(\"Score de silhouette\")\n",
    "plt.title(\"TSNE Kmean\")\n",
    "plt.tight_layout()\n",
    "plt.show()"
   ]
  },
  {
   "cell_type": "code",
   "execution_count": 66,
   "metadata": {},
   "outputs": [
    {
     "data": {
      "text/plain": [
       "KMeans(algorithm='auto', copy_x=True, init='k-means++', max_iter=3000,\n",
       "       n_clusters=17, n_init=100, n_jobs=None, precompute_distances='auto',\n",
       "       random_state=None, tol=0.0001, verbose=0)"
      ]
     },
     "execution_count": 66,
     "metadata": {},
     "output_type": "execute_result"
    }
   ],
   "source": [
    "kmean_tsne = KMeans(n_clusters=17, n_init=100, max_iter=3000)\n",
    "kmean_tsne.fit(X_all_tsne)"
   ]
  },
  {
   "cell_type": "code",
   "execution_count": 67,
   "metadata": {},
   "outputs": [],
   "source": [
    "data_all_fe['cluster_tsne_km'] = kmean_tsne.labels_"
   ]
  },
  {
   "cell_type": "markdown",
   "metadata": {},
   "source": [
    "## 8 - Analyse des résultats"
   ]
  },
  {
   "cell_type": "code",
   "execution_count": 88,
   "metadata": {},
   "outputs": [],
   "source": [
    "data_result['cluster_6_months'] = data_6_months_fe['cluster_tsne_km']\n",
    "data_result['cluster_9_months'] = data_9_months_fe['cluster_tsne_km']\n",
    "data_result['cluster_12_months'] = data_12_months_fe['cluster_tsne_km']\n",
    "data_result['cluster_15_months'] = data_15_months_fe['cluster_tsne_km']\n",
    "data_result['cluster_18_months'] = data_18_months_fe['cluster_tsne_km']\n",
    "data_result['cluster_all'] = data_all_fe['cluster_tsne_km']"
   ]
  },
  {
   "cell_type": "code",
   "execution_count": 89,
   "metadata": {},
   "outputs": [
    {
     "data": {
      "text/html": [
       "<div>\n",
       "<style scoped>\n",
       "    .dataframe tbody tr th:only-of-type {\n",
       "        vertical-align: middle;\n",
       "    }\n",
       "\n",
       "    .dataframe tbody tr th {\n",
       "        vertical-align: top;\n",
       "    }\n",
       "\n",
       "    .dataframe thead th {\n",
       "        text-align: right;\n",
       "    }\n",
       "</style>\n",
       "<table border=\"1\" class=\"dataframe\">\n",
       "  <thead>\n",
       "    <tr style=\"text-align: right;\">\n",
       "      <th></th>\n",
       "      <th>cluster_3_months</th>\n",
       "      <th>cluster_6_months</th>\n",
       "      <th>cluster_9_months</th>\n",
       "      <th>cluster_12_months</th>\n",
       "      <th>cluster_all</th>\n",
       "    </tr>\n",
       "    <tr>\n",
       "      <th>customer_unique_id</th>\n",
       "      <th></th>\n",
       "      <th></th>\n",
       "      <th></th>\n",
       "      <th></th>\n",
       "      <th></th>\n",
       "    </tr>\n",
       "  </thead>\n",
       "  <tbody>\n",
       "    <tr>\n",
       "      <td>0000366f3b9a7992bf8c76cfdf3221e2</td>\n",
       "      <td>NaN</td>\n",
       "      <td>NaN</td>\n",
       "      <td>NaN</td>\n",
       "      <td>NaN</td>\n",
       "      <td>11</td>\n",
       "    </tr>\n",
       "    <tr>\n",
       "      <td>0000b849f77a49e4a4ce2b2a4ca5be3f</td>\n",
       "      <td>NaN</td>\n",
       "      <td>NaN</td>\n",
       "      <td>NaN</td>\n",
       "      <td>NaN</td>\n",
       "      <td>9</td>\n",
       "    </tr>\n",
       "    <tr>\n",
       "      <td>0000f46a3911fa3c0805444483337064</td>\n",
       "      <td>2.0</td>\n",
       "      <td>15.0</td>\n",
       "      <td>11.0</td>\n",
       "      <td>1.0</td>\n",
       "      <td>1</td>\n",
       "    </tr>\n",
       "    <tr>\n",
       "      <td>0000f6ccb0745a6a4b88665a16c9f078</td>\n",
       "      <td>NaN</td>\n",
       "      <td>NaN</td>\n",
       "      <td>NaN</td>\n",
       "      <td>13.0</td>\n",
       "      <td>7</td>\n",
       "    </tr>\n",
       "    <tr>\n",
       "      <td>0004aac84e0df4da2b147fca70cf8255</td>\n",
       "      <td>NaN</td>\n",
       "      <td>NaN</td>\n",
       "      <td>NaN</td>\n",
       "      <td>11.0</td>\n",
       "      <td>7</td>\n",
       "    </tr>\n",
       "    <tr>\n",
       "      <td>...</td>\n",
       "      <td>...</td>\n",
       "      <td>...</td>\n",
       "      <td>...</td>\n",
       "      <td>...</td>\n",
       "      <td>...</td>\n",
       "    </tr>\n",
       "    <tr>\n",
       "      <td>fffcf5a5ff07b0908bd4e2dbc735a684</td>\n",
       "      <td>NaN</td>\n",
       "      <td>12.0</td>\n",
       "      <td>8.0</td>\n",
       "      <td>6.0</td>\n",
       "      <td>2</td>\n",
       "    </tr>\n",
       "    <tr>\n",
       "      <td>fffea47cd6d3cc0a88bd621562a9d061</td>\n",
       "      <td>NaN</td>\n",
       "      <td>NaN</td>\n",
       "      <td>NaN</td>\n",
       "      <td>10.0</td>\n",
       "      <td>5</td>\n",
       "    </tr>\n",
       "    <tr>\n",
       "      <td>ffff371b4d645b6ecea244b27531430a</td>\n",
       "      <td>10.0</td>\n",
       "      <td>3.0</td>\n",
       "      <td>5.0</td>\n",
       "      <td>15.0</td>\n",
       "      <td>0</td>\n",
       "    </tr>\n",
       "    <tr>\n",
       "      <td>ffff5962728ec6157033ef9805bacc48</td>\n",
       "      <td>NaN</td>\n",
       "      <td>NaN</td>\n",
       "      <td>NaN</td>\n",
       "      <td>NaN</td>\n",
       "      <td>8</td>\n",
       "    </tr>\n",
       "    <tr>\n",
       "      <td>ffffd2657e2aad2907e67c3e9daecbeb</td>\n",
       "      <td>NaN</td>\n",
       "      <td>13.0</td>\n",
       "      <td>7.0</td>\n",
       "      <td>1.0</td>\n",
       "      <td>3</td>\n",
       "    </tr>\n",
       "  </tbody>\n",
       "</table>\n",
       "<p>93790 rows × 5 columns</p>\n",
       "</div>"
      ],
      "text/plain": [
       "                                  cluster_3_months  cluster_6_months  \\\n",
       "customer_unique_id                                                     \n",
       "0000366f3b9a7992bf8c76cfdf3221e2               NaN               NaN   \n",
       "0000b849f77a49e4a4ce2b2a4ca5be3f               NaN               NaN   \n",
       "0000f46a3911fa3c0805444483337064               2.0              15.0   \n",
       "0000f6ccb0745a6a4b88665a16c9f078               NaN               NaN   \n",
       "0004aac84e0df4da2b147fca70cf8255               NaN               NaN   \n",
       "...                                            ...               ...   \n",
       "fffcf5a5ff07b0908bd4e2dbc735a684               NaN              12.0   \n",
       "fffea47cd6d3cc0a88bd621562a9d061               NaN               NaN   \n",
       "ffff371b4d645b6ecea244b27531430a              10.0               3.0   \n",
       "ffff5962728ec6157033ef9805bacc48               NaN               NaN   \n",
       "ffffd2657e2aad2907e67c3e9daecbeb               NaN              13.0   \n",
       "\n",
       "                                  cluster_9_months  cluster_12_months  \\\n",
       "customer_unique_id                                                      \n",
       "0000366f3b9a7992bf8c76cfdf3221e2               NaN                NaN   \n",
       "0000b849f77a49e4a4ce2b2a4ca5be3f               NaN                NaN   \n",
       "0000f46a3911fa3c0805444483337064              11.0                1.0   \n",
       "0000f6ccb0745a6a4b88665a16c9f078               NaN               13.0   \n",
       "0004aac84e0df4da2b147fca70cf8255               NaN               11.0   \n",
       "...                                            ...                ...   \n",
       "fffcf5a5ff07b0908bd4e2dbc735a684               8.0                6.0   \n",
       "fffea47cd6d3cc0a88bd621562a9d061               NaN               10.0   \n",
       "ffff371b4d645b6ecea244b27531430a               5.0               15.0   \n",
       "ffff5962728ec6157033ef9805bacc48               NaN                NaN   \n",
       "ffffd2657e2aad2907e67c3e9daecbeb               7.0                1.0   \n",
       "\n",
       "                                  cluster_all  \n",
       "customer_unique_id                             \n",
       "0000366f3b9a7992bf8c76cfdf3221e2           11  \n",
       "0000b849f77a49e4a4ce2b2a4ca5be3f            9  \n",
       "0000f46a3911fa3c0805444483337064            1  \n",
       "0000f6ccb0745a6a4b88665a16c9f078            7  \n",
       "0004aac84e0df4da2b147fca70cf8255            7  \n",
       "...                                       ...  \n",
       "fffcf5a5ff07b0908bd4e2dbc735a684            2  \n",
       "fffea47cd6d3cc0a88bd621562a9d061            5  \n",
       "ffff371b4d645b6ecea244b27531430a            0  \n",
       "ffff5962728ec6157033ef9805bacc48            8  \n",
       "ffffd2657e2aad2907e67c3e9daecbeb            3  \n",
       "\n",
       "[93790 rows x 5 columns]"
      ]
     },
     "execution_count": 89,
     "metadata": {},
     "output_type": "execute_result"
    }
   ],
   "source": [
    "data_result"
   ]
  },
  {
   "cell_type": "code",
   "execution_count": 103,
   "metadata": {},
   "outputs": [],
   "source": [
    "data_based_3_months = data_result[:][data_result[\"cluster_3_months\"].notnull()]"
   ]
  },
  {
   "cell_type": "code",
   "execution_count": 117,
   "metadata": {},
   "outputs": [],
   "source": [
    "data_frequency = pd.DataFrame(index=[\"AMI Score\", 'AR Score'])"
   ]
  },
  {
   "cell_type": "code",
   "execution_count": 123,
   "metadata": {},
   "outputs": [],
   "source": [
    "AMI_3_months = metrics.adjusted_mutual_info_score(data_based_3_months[\"cluster_3_months\"], \n",
    "                                                  data_based_3_months[\"cluster_3_months\"], \n",
    "                                                  average_method='arithmetic')\n",
    "AR_3_months = metrics.adjusted_rand_score(data_based_3_months[\"cluster_3_months\"], \n",
    "                                          data_based_3_months[\"cluster_3_months\"])\n",
    "NMI_3_months = metrics.normalized_mutual_info_score(data_based_3_months[\"cluster_3_months\"], \n",
    "                                                    data_based_3_months[\"cluster_3_months\"], \n",
    "                                                    average_method='arithmetic')\n",
    "\n",
    "\n",
    "AMI_6_months = metrics.adjusted_mutual_info_score(data_based_3_months[\"cluster_3_months\"], \n",
    "                                                  data_based_3_months[\"cluster_6_months\"], \n",
    "                                                  average_method='arithmetic')\n",
    "AR_6_months = metrics.adjusted_rand_score(data_based_3_months[\"cluster_3_months\"], \n",
    "                                          data_based_3_months[\"cluster_6_months\"])\n",
    "NMI_6_months = metrics.normalized_mutual_info_score(data_based_3_months[\"cluster_3_months\"], \n",
    "                                                    data_based_3_months[\"cluster_6_months\"], \n",
    "                                                    average_method='arithmetic')\n",
    "\n",
    "\n",
    "AMI_9_months = metrics.adjusted_mutual_info_score(data_based_3_months[\"cluster_3_months\"],\n",
    "                                                  data_based_3_months[\"cluster_9_months\"], \n",
    "                                                  average_method=\"arithmetic\")\n",
    "AR_9_months = metrics.adjusted_rand_score(data_based_3_months[\"cluster_3_months\"], \n",
    "                                          data_based_3_months[\"cluster_9_months\"])\n",
    "NMI_9_months = metrics.normalized_mutual_info_score(data_based_3_months[\"cluster_3_months\"], \n",
    "                                                    data_based_3_months[\"cluster_9_months\"], \n",
    "                                                    average_method='arithmetic')\n",
    "\n",
    "\n",
    "AMI_12_months = metrics.adjusted_mutual_info_score(data_based_3_months[\"cluster_3_months\"],\n",
    "                                                   data_based_3_months[\"cluster_12_months\"],\n",
    "                                                   average_method=\"arithmetic\")\n",
    "AR_12_months = metrics.adjusted_rand_score(data_based_3_months[\"cluster_3_months\"], \n",
    "                                           data_based_3_months[\"cluster_12_months\"])\n",
    "NMI_12_months = metrics.normalized_mutual_info_score(data_based_3_months[\"cluster_3_months\"], \n",
    "                                                    data_based_3_months[\"cluster_12_months\"], \n",
    "                                                    average_method='arithmetic')\n",
    "\n",
    "AMI_15_months = metrics.adjusted_mutual_info_score(data_based_3_months[\"cluster_3_months\"],\n",
    "                                                   data_based_3_months[\"cluster_15_months\"],\n",
    "                                                   average_method=\"arithmetic\")\n",
    "AR_15_months = metrics.adjusted_rand_score(data_based_3_months[\"cluster_3_months\"], \n",
    "                                           data_based_3_months[\"cluster_15_months\"])\n",
    "NMI_15_months = metrics.normalized_mutual_info_score(data_based_3_months[\"cluster_3_months\"], \n",
    "                                                    data_based_3_months[\"cluster_15_months\"], \n",
    "                                                    average_method='arithmetic')\n",
    "\n",
    "\n",
    "AMI_18_months = metrics.adjusted_mutual_info_score(data_based_3_months[\"cluster_3_months\"],\n",
    "                                                   data_based_3_months[\"cluster_18_months\"],\n",
    "                                                   average_method=\"arithmetic\")\n",
    "AR_18_months = metrics.adjusted_rand_score(data_based_3_months[\"cluster_3_months\"], \n",
    "                                           data_based_3_months[\"cluster_18_months\"])\n",
    "NMI_18_months = metrics.normalized_mutual_info_score(data_based_3_months[\"cluster_3_months\"], \n",
    "                                                    data_based_3_months[\"cluster_18_months\"], \n",
    "                                                    average_method='arithmetic')\n",
    "\n",
    "\n",
    "AMI_all = metrics.adjusted_mutual_info_score(data_based_3_months[\"cluster_3_months\"],\n",
    "                                             data_based_3_months[\"cluster_all\"],\n",
    "                                             average_method=\"arithmetic\")\n",
    "AR_all = metrics.adjusted_rand_score(data_based_3_months[\"cluster_3_months\"], \n",
    "                                     data_based_3_months[\"cluster_all\"])\n",
    "NMI_all = metrics.normalized_mutual_info_score(data_based_3_months[\"cluster_3_months\"], \n",
    "                                                    data_based_3_months[\"cluster_all\"], \n",
    "                                                    average_method='arithmetic')"
   ]
  },
  {
   "cell_type": "code",
   "execution_count": 124,
   "metadata": {},
   "outputs": [],
   "source": [
    "data_frequency.loc[\"AMI Score\", \"cluster_3_months\"] = AMI_3_months\n",
    "data_frequency.loc[\"AMI Score\",\"cluster_6_months\"] = AMI_6_months\n",
    "data_frequency.loc[\"AMI Score\",\"cluster_9_months\"] = AMI_9_months\n",
    "data_frequency.loc[\"AMI Score\",\"cluster_12_months\"] = AMI_12_months\n",
    "data_frequency.loc[\"AMI Score\",\"cluster_15_months\"] = AMI_15_months\n",
    "data_frequency.loc[\"AMI Score\",\"cluster_18_months\"] = AMI_18_months\n",
    "data_frequency.loc[\"AMI Score\",\"cluster_all\"] = AMI_all\n",
    "\n",
    "data_frequency.loc[\"AR Score\", \"cluster_3_months\"] = AR_3_months\n",
    "data_frequency.loc[\"AR Score\", \"cluster_6_months\"] = AR_6_months\n",
    "data_frequency.loc[\"AR Score\", \"cluster_9_months\"] = AR_9_months\n",
    "data_frequency.loc[\"AR Score\", \"cluster_12_months\"] = AR_12_months\n",
    "data_frequency.loc[\"AR Score\", \"cluster_15_months\"] = AR_15_months\n",
    "data_frequency.loc[\"AR Score\", \"cluster_18_months\"] = AR_18_months\n",
    "data_frequency.loc[\"AR Score\", \"cluster_all\"] = AR_all\n",
    "\n",
    "data_frequency.loc[\"NMI Score\", \"cluster_3_months\"] = NMI_3_months\n",
    "data_frequency.loc[\"NMI Score\", \"cluster_6_months\"] = NMI_6_months\n",
    "data_frequency.loc[\"NMI Score\", \"cluster_9_months\"] = NMI_9_months\n",
    "data_frequency.loc[\"NMI Score\", \"cluster_12_months\"] = NMI_12_months\n",
    "data_frequency.loc[\"NMI Score\", \"cluster_15_months\"] = NMI_15_months\n",
    "data_frequency.loc[\"NMI Score\", \"cluster_18_months\"] = NMI_18_months\n",
    "data_frequency.loc[\"NMI Score\", \"cluster_all\"] = NMI_all"
   ]
  },
  {
   "cell_type": "code",
   "execution_count": 125,
   "metadata": {},
   "outputs": [
    {
     "data": {
      "text/html": [
       "<div>\n",
       "<style scoped>\n",
       "    .dataframe tbody tr th:only-of-type {\n",
       "        vertical-align: middle;\n",
       "    }\n",
       "\n",
       "    .dataframe tbody tr th {\n",
       "        vertical-align: top;\n",
       "    }\n",
       "\n",
       "    .dataframe thead th {\n",
       "        text-align: right;\n",
       "    }\n",
       "</style>\n",
       "<table border=\"1\" class=\"dataframe\">\n",
       "  <thead>\n",
       "    <tr style=\"text-align: right;\">\n",
       "      <th></th>\n",
       "      <th>cluster_3_months</th>\n",
       "      <th>cluster_6_months</th>\n",
       "      <th>cluster_9_months</th>\n",
       "      <th>cluster_12_months</th>\n",
       "      <th>cluster_all</th>\n",
       "    </tr>\n",
       "  </thead>\n",
       "  <tbody>\n",
       "    <tr>\n",
       "      <td>AMI Score</td>\n",
       "      <td>1.0</td>\n",
       "      <td>0.562564</td>\n",
       "      <td>0.558831</td>\n",
       "      <td>0.517139</td>\n",
       "      <td>0.417643</td>\n",
       "    </tr>\n",
       "    <tr>\n",
       "      <td>AR Score</td>\n",
       "      <td>1.0</td>\n",
       "      <td>0.371377</td>\n",
       "      <td>0.376489</td>\n",
       "      <td>0.324934</td>\n",
       "      <td>0.213621</td>\n",
       "    </tr>\n",
       "    <tr>\n",
       "      <td>NMI Score</td>\n",
       "      <td>1.0</td>\n",
       "      <td>0.566115</td>\n",
       "      <td>0.562629</td>\n",
       "      <td>0.521054</td>\n",
       "      <td>0.422628</td>\n",
       "    </tr>\n",
       "  </tbody>\n",
       "</table>\n",
       "</div>"
      ],
      "text/plain": [
       "           cluster_3_months  cluster_6_months  cluster_9_months  \\\n",
       "AMI Score               1.0          0.562564          0.558831   \n",
       "AR Score                1.0          0.371377          0.376489   \n",
       "NMI Score               1.0          0.566115          0.562629   \n",
       "\n",
       "           cluster_12_months  cluster_all  \n",
       "AMI Score           0.517139     0.417643  \n",
       "AR Score            0.324934     0.213621  \n",
       "NMI Score           0.521054     0.422628  "
      ]
     },
     "execution_count": 125,
     "metadata": {},
     "output_type": "execute_result"
    }
   ],
   "source": [
    "data_frequency"
   ]
  }
 ],
 "metadata": {
  "kernelspec": {
   "display_name": "Python 3",
   "language": "python",
   "name": "python3"
  },
  "language_info": {
   "codemirror_mode": {
    "name": "ipython",
    "version": 3
   },
   "file_extension": ".py",
   "mimetype": "text/x-python",
   "name": "python",
   "nbconvert_exporter": "python",
   "pygments_lexer": "ipython3",
   "version": "3.7.6"
  }
 },
 "nbformat": 4,
 "nbformat_minor": 4
}
